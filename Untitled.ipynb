{
 "cells": [
  {
   "cell_type": "code",
   "execution_count": 41,
   "id": "7d558a23-be31-4464-a37d-94cd582b5b5b",
   "metadata": {},
   "outputs": [],
   "source": [
    "import scipy\n",
    "import numpy as np\n",
    "import matplotlib.pyplot as plt\n",
    "from pyDOE import lhs\n"
   ]
  },
  {
   "cell_type": "markdown",
   "id": "8400ee52-23cd-4a98-9ea6-95f615082cab",
   "metadata": {
    "jp-MarkdownHeadingCollapsed": true
   },
   "source": [
    "### Schrodinger"
   ]
  },
  {
   "cell_type": "code",
   "execution_count": 31,
   "id": "bc777856-70ef-46cd-9526-1095cfc51549",
   "metadata": {},
   "outputs": [],
   "source": [
    "from src.utils.utils import load_data\n",
    "\n",
    "\n",
    "def read_data_fn(root_path):\n",
    "    data = load_data(root_path, 'NLS.mat')\n",
    "    exact = data['uu']\n",
    "    exact_u = np.real(exact)\n",
    "    exact_v = np.imag(exact)\n",
    "    return data, [exact_u, exact_v]"
   ]
  },
  {
   "cell_type": "code",
   "execution_count": 33,
   "id": "a367f16c-8191-416e-abfd-26c38559e99f",
   "metadata": {},
   "outputs": [],
   "source": [
    "data, [exact_u] = read_data_fn('data')"
   ]
  },
  {
   "cell_type": "code",
   "execution_count": 34,
   "id": "15f9e7af-e18d-493e-a389-6d824fc3df77",
   "metadata": {},
   "outputs": [],
   "source": [
    "from src.data.domains.spatial import Interval\n",
    "from src.data.domains.time import TimeDomain\n",
    "from src.data.mesh.mesh import Mesh\n",
    "from src.data.sampler.mesh_sampler import MeshSampler\n",
    "from src.data.sampler.boundary_condition import PeriodicBoundaryCondition\n",
    "from src.data.sampler.initial_condition import InitialCondition\n",
    "from src.data.sampler.initial_condition import InitialCondition\n",
    "from src.data.pinn_datamodule import PINNDataModule"
   ]
  },
  {
   "cell_type": "code",
   "execution_count": 35,
   "id": "0bb8fe40-7399-4f6a-a161-c0a4149c4b33",
   "metadata": {},
   "outputs": [],
   "source": [
    "td = TimeDomain([0, 1.57079633], 201)"
   ]
  },
  {
   "cell_type": "code",
   "execution_count": 36,
   "id": "f3e8b463-2163-4a5d-9e1e-b04c007fb622",
   "metadata": {},
   "outputs": [],
   "source": [
    "sd = Interval([-5, 4.9609375], [256, 1])"
   ]
  },
  {
   "cell_type": "code",
   "execution_count": 26,
   "id": "b30f1474-3231-44f2-92b4-cfdcf189a130",
   "metadata": {},
   "outputs": [],
   "source": [
    "mesh = Mesh(root_dir='data', time_domain = td,\n",
    "                                         spatial_domain = sd,\n",
    "                                         read_data_fn = read_data_fn,\n",
    "            lb=[-5.0, 0.0],\n",
    "           ub=[5.0, 1.57079633])"
   ]
  },
  {
   "cell_type": "code",
   "execution_count": 8,
   "id": "6cf8b41d-2801-4813-b92e-39f20a49da88",
   "metadata": {},
   "outputs": [],
   "source": [
    "x, t, u = mesh.on_initial_boundary()\n"
   ]
  },
  {
   "cell_type": "code",
   "execution_count": 27,
   "id": "f40e8af1-3f43-4985-b687-a9c454272c24",
   "metadata": {},
   "outputs": [
    {
     "data": {
      "text/plain": [
       "(256, 201)"
      ]
     },
     "execution_count": 27,
     "metadata": {},
     "output_type": "execute_result"
    }
   ],
   "source": [
    "mesh.solution[0].shape"
   ]
  },
  {
   "cell_type": "code",
   "execution_count": 9,
   "id": "0ff1375b-047c-415c-a32d-7af23b3ee692",
   "metadata": {},
   "outputs": [
    {
     "data": {
      "text/plain": [
       "((256, 1), (256, 1), (256, 2))"
      ]
     },
     "execution_count": 9,
     "metadata": {},
     "output_type": "execute_result"
    }
   ],
   "source": [
    "x.shape, t.shape, u.shape"
   ]
  },
  {
   "cell_type": "code",
   "execution_count": 10,
   "id": "1fc959ac-b991-4c2c-999f-2553349ac99f",
   "metadata": {},
   "outputs": [],
   "source": [
    "pb = PeriodicBoundaryCondition(mesh, num_sample=50, derivative_order = 1)"
   ]
  },
  {
   "cell_type": "code",
   "execution_count": 11,
   "id": "e59d80ad-dad1-4ea7-9924-3b63f0d1ee57",
   "metadata": {},
   "outputs": [],
   "source": [
    "ic = InitialCondition(mesh, num_sample=50)"
   ]
  },
  {
   "cell_type": "code",
   "execution_count": 12,
   "id": "3c15d29b-62e0-47a2-a496-23d5071acfb5",
   "metadata": {},
   "outputs": [],
   "source": [
    "f = MeshSampler(mesh, num_sample=20000, use_data=False)"
   ]
  },
  {
   "cell_type": "code",
   "execution_count": 13,
   "id": "65e07fd4-c3e0-4794-b84e-4722f73c0c38",
   "metadata": {},
   "outputs": [],
   "source": [
    "val = MeshSampler(mesh)"
   ]
  },
  {
   "cell_type": "code",
   "execution_count": 14,
   "id": "217093b3-27e0-4c95-bf01-d94b5e18376f",
   "metadata": {},
   "outputs": [],
   "source": [
    "x, t, u = f[:]"
   ]
  },
  {
   "cell_type": "code",
   "execution_count": 13,
   "id": "f538f414-5780-4726-a0ca-01190e84d20d",
   "metadata": {},
   "outputs": [
    {
     "data": {
      "text/plain": [
       "(-4.9998238940082445,\n",
       " 4.999509580674408,\n",
       " 3.6651487690453375e-05,\n",
       " 1.5707218851454547)"
      ]
     },
     "execution_count": 13,
     "metadata": {},
     "output_type": "execute_result"
    }
   ],
   "source": [
    "x[0].min(), x[0].max(), t.min(), t.max()"
   ]
  },
  {
   "cell_type": "code",
   "execution_count": 13,
   "id": "41da5e35-046f-42cd-a84b-e07126adb42c",
   "metadata": {},
   "outputs": [
    {
     "ename": "NameError",
     "evalue": "name 'x_f' is not defined",
     "output_type": "error",
     "traceback": [
      "\u001b[0;31m---------------------------------------------------------------------------\u001b[0m",
      "\u001b[0;31mNameError\u001b[0m                                 Traceback (most recent call last)",
      "Cell \u001b[0;32mIn[13], line 1\u001b[0m\n\u001b[0;32m----> 1\u001b[0m \u001b[43mx_f\u001b[49m\u001b[38;5;241m.\u001b[39mshape\n",
      "\u001b[0;31mNameError\u001b[0m: name 'x_f' is not defined"
     ]
    }
   ],
   "source": [
    "x_f.shape"
   ]
  },
  {
   "cell_type": "code",
   "execution_count": 29,
   "id": "e91a71d1-31fa-47bf-852d-97994dc7d608",
   "metadata": {},
   "outputs": [
    {
     "ename": "NameError",
     "evalue": "name 'lhs' is not defined",
     "output_type": "error",
     "traceback": [
      "\u001b[0;31m---------------------------------------------------------------------------\u001b[0m",
      "\u001b[0;31mNameError\u001b[0m                                 Traceback (most recent call last)",
      "Cell \u001b[0;32mIn[29], line 31\u001b[0m\n\u001b[1;32m     28\u001b[0m uu3 \u001b[38;5;241m=\u001b[39m Exact[:,\u001b[38;5;241m-\u001b[39m\u001b[38;5;241m1\u001b[39m:]\n\u001b[1;32m     30\u001b[0m X_u_train \u001b[38;5;241m=\u001b[39m np\u001b[38;5;241m.\u001b[39mvstack([xx1, xx2, xx3])\n\u001b[0;32m---> 31\u001b[0m X_f_train \u001b[38;5;241m=\u001b[39m lb \u001b[38;5;241m+\u001b[39m (ub\u001b[38;5;241m-\u001b[39mlb)\u001b[38;5;241m*\u001b[39m\u001b[43mlhs\u001b[49m(\u001b[38;5;241m2\u001b[39m, N_f)\n\u001b[1;32m     32\u001b[0m X_f_train \u001b[38;5;241m=\u001b[39m np\u001b[38;5;241m.\u001b[39mvstack((X_f_train, X_u_train))\n\u001b[1;32m     33\u001b[0m u_train \u001b[38;5;241m=\u001b[39m np\u001b[38;5;241m.\u001b[39mvstack([uu1, uu2, uu3])\n",
      "\u001b[0;31mNameError\u001b[0m: name 'lhs' is not defined"
     ]
    }
   ],
   "source": [
    "nu = 0.01/np.pi\n",
    "noise = 0.0        \n",
    "\n",
    "N_u = 100\n",
    "N_f = 10000\n",
    "layers = [2, 20, 20, 20, 20, 20, 20, 20, 20, 1]\n",
    "\n",
    "data = scipy.io.loadmat('data/burgers_shock.mat')\n",
    "\n",
    "t = data['t'].flatten()[:,None]\n",
    "x = data['x'].flatten()[:,None]\n",
    "Exact = np.real(data['usol']).T\n",
    "\n",
    "X, T = np.meshgrid(x,t)\n",
    "\n",
    "X_star = np.hstack((X.flatten()[:,None], T.flatten()[:,None]))\n",
    "u_star = Exact.flatten()[:,None]              \n",
    "\n",
    "# Doman bounds\n",
    "lb = X_star.min(0)\n",
    "ub = X_star.max(0)    \n",
    "    \n",
    "xx1 = np.hstack((X[0:1,:].T, T[0:1,:].T))\n",
    "uu1 = Exact[0:1,:].T\n",
    "xx2 = np.hstack((X[:,0:1], T[:,0:1]))\n",
    "uu2 = Exact[:,0:1]\n",
    "xx3 = np.hstack((X[:,-1:], T[:,-1:]))\n",
    "uu3 = Exact[:,-1:]\n",
    "\n",
    "X_u_train = np.vstack([xx1, xx2, xx3])\n",
    "X_f_train = lb + (ub-lb)*lhs(2, N_f)\n",
    "X_f_train = np.vstack((X_f_train, X_u_train))\n",
    "u_train = np.vstack([uu1, uu2, uu3])\n",
    "\n",
    "idx = np.random.choice(X_u_train.shape[0], N_u, replace=False)\n",
    "X_u_train = X_u_train[idx, :]\n",
    "u_train = u_train[idx,:]"
   ]
  },
  {
   "cell_type": "code",
   "execution_count": null,
   "id": "d8ea9a5b-e2ca-4907-9c60-dd341b08a061",
   "metadata": {},
   "outputs": [],
   "source": [
    "x1, x2, t1 = ic[:]"
   ]
  },
  {
   "cell_type": "code",
   "execution_count": 55,
   "id": "dd8681f4-1975-4095-9039-5f9db7a87234",
   "metadata": {},
   "outputs": [
    {
     "data": {
      "text/plain": [
       "torch.Size([50, 1])"
      ]
     },
     "execution_count": 55,
     "metadata": {},
     "output_type": "execute_result"
    }
   ],
   "source": [
    "x2.shape"
   ]
  },
  {
   "cell_type": "code",
   "execution_count": 35,
   "id": "840196cf-2c2c-43c9-be48-974408f25a1d",
   "metadata": {},
   "outputs": [
    {
     "data": {
      "text/plain": [
       "(array([[0.02695056],\n",
       "        [0.02802405],\n",
       "        [0.02914028],\n",
       "        ...,\n",
       "        [0.02642052],\n",
       "        [0.02630184],\n",
       "        [0.02632516]]),\n",
       " array([[0.        ],\n",
       "        [0.        ],\n",
       "        [0.        ],\n",
       "        ...,\n",
       "        [0.04400636],\n",
       "        [0.04379966],\n",
       "        [0.0436945 ]]))"
      ]
     },
     "execution_count": 35,
     "metadata": {},
     "output_type": "execute_result"
    }
   ],
   "source": [
    "u_star, v_star"
   ]
  },
  {
   "cell_type": "code",
   "execution_count": 23,
   "id": "7bf69d5b-b01a-474a-8a83-10911791dd86",
   "metadata": {},
   "outputs": [
    {
     "data": {
      "text/plain": [
       "[<matplotlib.lines.Line2D at 0x7fc52ee828b0>]"
      ]
     },
     "execution_count": 23,
     "metadata": {},
     "output_type": "execute_result"
    },
    {
     "data": {
      "image/png": "[encoded data removed]",
      "text/plain": [
       "<Figure size 640x480 with 1 Axes>"
      ]
     },
     "metadata": {},
     "output_type": "display_data"
    }
   ],
   "source": [
    "x, t, u = val[:]\n",
    "plt.plot(x[0])"
   ]
  },
  {
   "cell_type": "code",
   "execution_count": 24,
   "id": "8beaf08b-82aa-42ee-ad47-424863f2ae7a",
   "metadata": {},
   "outputs": [
    {
     "data": {
      "text/plain": [
       "(array([-5.       , -4.9609375, -4.921875 , ...,  4.8828125,  4.921875 ,\n",
       "         4.9609375]),\n",
       " array([[-5.       ],\n",
       "        [-4.9609375],\n",
       "        [-4.921875 ],\n",
       "        ...,\n",
       "        [ 4.8828125],\n",
       "        [ 4.921875 ],\n",
       "        [ 4.9609375]]))"
      ]
     },
     "execution_count": 24,
     "metadata": {},
     "output_type": "execute_result"
    }
   ],
   "source": [
    "X_star[:, 0], x[0]"
   ]
  },
  {
   "cell_type": "code",
   "execution_count": 30,
   "id": "51623ca5-9e55-42f9-882a-e4c6f5f8fdee",
   "metadata": {},
   "outputs": [
    {
     "name": "stdout",
     "output_type": "stream",
     "text": [
      "[[0.]\n",
      " [0.]\n",
      " [0.]\n",
      " ...\n",
      " [0.]\n",
      " [0.]\n",
      " [0.]]\n",
      "[[ 0.00000000e+00]\n",
      " [ 0.00000000e+00]\n",
      " [ 0.00000000e+00]\n",
      " ...\n",
      " [-3.20510352e-09]\n",
      " [-3.20510352e-09]\n",
      " [-3.20510352e-09]]\n",
      "1.7663766504599998e-13\n",
      "[[0.]\n",
      " [0.]\n",
      " [0.]\n",
      " ...\n",
      " [0.]\n",
      " [0.]\n",
      " [0.]]\n",
      "[[0.]\n",
      " [0.]\n",
      " [0.]\n",
      " ...\n",
      " [0.]\n",
      " [0.]\n",
      " [0.]]\n"
     ]
    }
   ],
   "source": [
    "print(X_star[:, 0][:, None] -  x[0])\n",
    "print(X_star[:, 1][:, None] -  t)\n",
    "print(np.sum(np.square(X_star[:, 1][:, None] -  t)))\n",
    "print(u_star - u[:, 0][:, None])\n",
    "print(v_star - u[:, 1][:, None])\n"
   ]
  },
  {
   "cell_type": "code",
   "execution_count": 17,
   "id": "3f15fcc3-8a24-4cd7-a403-d8789b076dfc",
   "metadata": {
    "scrolled": true
   },
   "outputs": [
    {
     "name": "stdout",
     "output_type": "stream",
     "text": [
      "[[0.]\n",
      " [0.]\n",
      " [0.]\n",
      " [0.]\n",
      " [0.]\n",
      " [0.]\n",
      " [0.]\n",
      " [0.]\n",
      " [0.]\n",
      " [0.]\n",
      " [0.]\n",
      " [0.]\n",
      " [0.]\n",
      " [0.]\n",
      " [0.]\n",
      " [0.]\n",
      " [0.]\n",
      " [0.]\n",
      " [0.]\n",
      " [0.]\n",
      " [0.]\n",
      " [0.]\n",
      " [0.]\n",
      " [0.]\n",
      " [0.]\n",
      " [0.]\n",
      " [0.]\n",
      " [0.]\n",
      " [0.]\n",
      " [0.]\n",
      " [0.]\n",
      " [0.]\n",
      " [0.]\n",
      " [0.]\n",
      " [0.]\n",
      " [0.]\n",
      " [0.]\n",
      " [0.]\n",
      " [0.]\n",
      " [0.]\n",
      " [0.]\n",
      " [0.]\n",
      " [0.]\n",
      " [0.]\n",
      " [0.]\n",
      " [0.]\n",
      " [0.]\n",
      " [0.]\n",
      " [0.]\n",
      " [0.]]\n",
      "[[-0.]\n",
      " [-0.]\n",
      " [ 0.]\n",
      " [ 0.]\n",
      " [ 0.]\n",
      " [-0.]\n",
      " [ 0.]\n",
      " [ 0.]\n",
      " [ 0.]\n",
      " [-0.]\n",
      " [ 0.]\n",
      " [-0.]\n",
      " [ 0.]\n",
      " [ 0.]\n",
      " [ 0.]\n",
      " [-0.]\n",
      " [ 0.]\n",
      " [-0.]\n",
      " [ 0.]\n",
      " [-0.]\n",
      " [-0.]\n",
      " [ 0.]\n",
      " [ 0.]\n",
      " [-0.]\n",
      " [-0.]\n",
      " [-0.]\n",
      " [-0.]\n",
      " [-0.]\n",
      " [ 0.]\n",
      " [ 0.]\n",
      " [ 0.]\n",
      " [ 0.]\n",
      " [-0.]\n",
      " [-0.]\n",
      " [-0.]\n",
      " [ 0.]\n",
      " [ 0.]\n",
      " [-0.]\n",
      " [-0.]\n",
      " [ 0.]\n",
      " [ 0.]\n",
      " [-0.]\n",
      " [ 0.]\n",
      " [ 0.]\n",
      " [-0.]\n",
      " [ 0.]\n",
      " [ 0.]\n",
      " [-0.]\n",
      " [ 0.]\n",
      " [ 0.]]\n",
      "[[0.]\n",
      " [0.]\n",
      " [0.]\n",
      " [0.]\n",
      " [0.]\n",
      " [0.]\n",
      " [0.]\n",
      " [0.]\n",
      " [0.]\n",
      " [0.]\n",
      " [0.]\n",
      " [0.]\n",
      " [0.]\n",
      " [0.]\n",
      " [0.]\n",
      " [0.]\n",
      " [0.]\n",
      " [0.]\n",
      " [0.]\n",
      " [0.]\n",
      " [0.]\n",
      " [0.]\n",
      " [0.]\n",
      " [0.]\n",
      " [0.]\n",
      " [0.]\n",
      " [0.]\n",
      " [0.]\n",
      " [0.]\n",
      " [0.]\n",
      " [0.]\n",
      " [0.]\n",
      " [0.]\n",
      " [0.]\n",
      " [0.]\n",
      " [0.]\n",
      " [0.]\n",
      " [0.]\n",
      " [0.]\n",
      " [0.]\n",
      " [0.]\n",
      " [0.]\n",
      " [0.]\n",
      " [0.]\n",
      " [0.]\n",
      " [0.]\n",
      " [0.]\n",
      " [0.]\n",
      " [0.]\n",
      " [0.]]\n",
      "[[0.]\n",
      " [0.]\n",
      " [0.]\n",
      " [0.]\n",
      " [0.]\n",
      " [0.]\n",
      " [0.]\n",
      " [0.]\n",
      " [0.]\n",
      " [0.]\n",
      " [0.]\n",
      " [0.]\n",
      " [0.]\n",
      " [0.]\n",
      " [0.]\n",
      " [0.]\n",
      " [0.]\n",
      " [0.]\n",
      " [0.]\n",
      " [0.]\n",
      " [0.]\n",
      " [0.]\n",
      " [0.]\n",
      " [0.]\n",
      " [0.]\n",
      " [0.]\n",
      " [0.]\n",
      " [0.]\n",
      " [0.]\n",
      " [0.]\n",
      " [0.]\n",
      " [0.]\n",
      " [0.]\n",
      " [0.]\n",
      " [0.]\n",
      " [0.]\n",
      " [0.]\n",
      " [0.]\n",
      " [0.]\n",
      " [0.]\n",
      " [0.]\n",
      " [0.]\n",
      " [0.]\n",
      " [0.]\n",
      " [0.]\n",
      " [0.]\n",
      " [0.]\n",
      " [0.]\n",
      " [0.]\n",
      " [0.]]\n"
     ]
    }
   ],
   "source": [
    "x, t, u = ic[:]\n",
    "print(x0 -  x[0])\n",
    "print(t0 -  t)\n",
    "print(u0 - u[:, 0][:, None])\n",
    "print(v0 - u[:, 1][:, None])\n"
   ]
  },
  {
   "cell_type": "code",
   "execution_count": 18,
   "id": "3506af6b-9e71-4e9f-905f-461c1c5d88b1",
   "metadata": {
    "scrolled": true
   },
   "outputs": [
    {
     "name": "stdout",
     "output_type": "stream",
     "text": [
      "[[[0.]\n",
      "  [0.]\n",
      "  [0.]\n",
      "  [0.]\n",
      "  [0.]\n",
      "  [0.]\n",
      "  [0.]\n",
      "  [0.]\n",
      "  [0.]\n",
      "  [0.]\n",
      "  [0.]\n",
      "  [0.]\n",
      "  [0.]\n",
      "  [0.]\n",
      "  [0.]\n",
      "  [0.]\n",
      "  [0.]\n",
      "  [0.]\n",
      "  [0.]\n",
      "  [0.]\n",
      "  [0.]\n",
      "  [0.]\n",
      "  [0.]\n",
      "  [0.]\n",
      "  [0.]\n",
      "  [0.]\n",
      "  [0.]\n",
      "  [0.]\n",
      "  [0.]\n",
      "  [0.]\n",
      "  [0.]\n",
      "  [0.]\n",
      "  [0.]\n",
      "  [0.]\n",
      "  [0.]\n",
      "  [0.]\n",
      "  [0.]\n",
      "  [0.]\n",
      "  [0.]\n",
      "  [0.]\n",
      "  [0.]\n",
      "  [0.]\n",
      "  [0.]\n",
      "  [0.]\n",
      "  [0.]\n",
      "  [0.]\n",
      "  [0.]\n",
      "  [0.]\n",
      "  [0.]\n",
      "  [0.]]]\n",
      "[[[0.]\n",
      "  [0.]\n",
      "  [0.]\n",
      "  [0.]\n",
      "  [0.]\n",
      "  [0.]\n",
      "  [0.]\n",
      "  [0.]\n",
      "  [0.]\n",
      "  [0.]\n",
      "  [0.]\n",
      "  [0.]\n",
      "  [0.]\n",
      "  [0.]\n",
      "  [0.]\n",
      "  [0.]\n",
      "  [0.]\n",
      "  [0.]\n",
      "  [0.]\n",
      "  [0.]\n",
      "  [0.]\n",
      "  [0.]\n",
      "  [0.]\n",
      "  [0.]\n",
      "  [0.]\n",
      "  [0.]\n",
      "  [0.]\n",
      "  [0.]\n",
      "  [0.]\n",
      "  [0.]\n",
      "  [0.]\n",
      "  [0.]\n",
      "  [0.]\n",
      "  [0.]\n",
      "  [0.]\n",
      "  [0.]\n",
      "  [0.]\n",
      "  [0.]\n",
      "  [0.]\n",
      "  [0.]\n",
      "  [0.]\n",
      "  [0.]\n",
      "  [0.]\n",
      "  [0.]\n",
      "  [0.]\n",
      "  [0.]\n",
      "  [0.]\n",
      "  [0.]\n",
      "  [0.]\n",
      "  [0.]]]\n",
      "[[2.56408295e-09]\n",
      " [3.01279734e-09]\n",
      " [2.41985343e-09]\n",
      " [2.78844037e-09]\n",
      " [2.88459323e-09]\n",
      " [1.77883253e-09]\n",
      " [3.09292525e-09]\n",
      " [9.45505618e-10]\n",
      " [2.51600651e-09]\n",
      " [1.28204147e-09]\n",
      " [2.99677172e-09]\n",
      " [1.44229662e-09]\n",
      " [6.41020736e-10]\n",
      " [2.17947038e-09]\n",
      " [2.38780218e-09]\n",
      " [1.93908767e-09]\n",
      " [2.72433798e-10]\n",
      " [1.04165865e-09]\n",
      " [2.05126627e-09]\n",
      " [6.89097335e-10]\n",
      " [2.37177655e-09]\n",
      " [1.41024559e-09]\n",
      " [3.36535882e-10]\n",
      " [2.49998089e-09]\n",
      " [6.73071765e-10]\n",
      " [4.64740024e-10]\n",
      " [8.49352422e-10]\n",
      " [1.26601596e-09]\n",
      " [2.94869551e-09]\n",
      " [2.45190424e-09]\n",
      " [3.52561397e-10]\n",
      " [1.66665393e-09]\n",
      " [1.55447522e-09]\n",
      " [5.28842081e-10]\n",
      " [7.69224906e-10]\n",
      " [9.77556591e-10]\n",
      " [1.68267944e-09]\n",
      " [3.20510352e-09]\n",
      " [1.82690918e-09]\n",
      " [8.81403506e-10]\n",
      " [3.84612453e-10]\n",
      " [4.00637967e-10]\n",
      " [1.49037327e-09]\n",
      " [1.00960762e-09]\n",
      " [1.42627110e-09]\n",
      " [3.17305249e-09]\n",
      " [1.33011790e-09]\n",
      " [1.84293447e-09]\n",
      " [2.75638934e-09]\n",
      " [5.60893165e-10]]\n",
      "[[2.56408295e-09]\n",
      " [3.01279734e-09]\n",
      " [2.41985343e-09]\n",
      " [2.78844037e-09]\n",
      " [2.88459323e-09]\n",
      " [1.77883253e-09]\n",
      " [3.09292525e-09]\n",
      " [9.45505618e-10]\n",
      " [2.51600651e-09]\n",
      " [1.28204147e-09]\n",
      " [2.99677172e-09]\n",
      " [1.44229662e-09]\n",
      " [6.41020736e-10]\n",
      " [2.17947038e-09]\n",
      " [2.38780218e-09]\n",
      " [1.93908767e-09]\n",
      " [2.72433798e-10]\n",
      " [1.04165865e-09]\n",
      " [2.05126627e-09]\n",
      " [6.89097335e-10]\n",
      " [2.37177655e-09]\n",
      " [1.41024559e-09]\n",
      " [3.36535882e-10]\n",
      " [2.49998089e-09]\n",
      " [6.73071765e-10]\n",
      " [4.64740024e-10]\n",
      " [8.49352422e-10]\n",
      " [1.26601596e-09]\n",
      " [2.94869551e-09]\n",
      " [2.45190424e-09]\n",
      " [3.52561397e-10]\n",
      " [1.66665393e-09]\n",
      " [1.55447522e-09]\n",
      " [5.28842081e-10]\n",
      " [7.69224906e-10]\n",
      " [9.77556591e-10]\n",
      " [1.68267944e-09]\n",
      " [3.20510352e-09]\n",
      " [1.82690918e-09]\n",
      " [8.81403506e-10]\n",
      " [3.84612453e-10]\n",
      " [4.00637967e-10]\n",
      " [1.49037327e-09]\n",
      " [1.00960762e-09]\n",
      " [1.42627110e-09]\n",
      " [3.17305249e-09]\n",
      " [1.33011790e-09]\n",
      " [1.84293447e-09]\n",
      " [2.75638934e-09]\n",
      " [5.60893165e-10]]\n"
     ]
    }
   ],
   "source": [
    "x1, x2, t1, t2 = pb[:]\n",
    "print(x1 -  x_ub)\n",
    "print(x2 -  x_lb)\n",
    "print(t1 - t_ub)\n",
    "print(t2 - t_lb)\n"
   ]
  },
  {
   "cell_type": "code",
   "execution_count": 19,
   "id": "67017719-1b1f-44fa-85cc-d5bd2956670b",
   "metadata": {},
   "outputs": [
    {
     "data": {
      "text/plain": [
       "(array([[-1.20218241],\n",
       "        [ 2.47031863],\n",
       "        [-3.10242291],\n",
       "        ...,\n",
       "        [-1.39369363],\n",
       "        [ 2.27458067],\n",
       "        [ 0.90164412]]),\n",
       " array([[0.16043478],\n",
       "        [0.02935423],\n",
       "        [0.23322969],\n",
       "        ...,\n",
       "        [0.73589065],\n",
       "        [0.72930325],\n",
       "        [0.87674509]]))"
      ]
     },
     "execution_count": 19,
     "metadata": {},
     "output_type": "execute_result"
    }
   ],
   "source": [
    "x_f, t_f"
   ]
  },
  {
   "cell_type": "code",
   "execution_count": 21,
   "id": "914defeb-5c39-41f3-9a6e-4cc22f9bdcf1",
   "metadata": {},
   "outputs": [
    {
     "name": "stdout",
     "output_type": "stream",
     "text": [
      "[array([[ 3.36836489],\n",
      "       [-4.59295953],\n",
      "       [-4.63391622],\n",
      "       ...,\n",
      "       [-3.93575763],\n",
      "       [ 2.2478502 ],\n",
      "       [-3.99089477]])] [[0.30228131]\n",
      " [0.44912363]\n",
      " [0.75004027]\n",
      " ...\n",
      " [0.64904036]\n",
      " [1.27548985]\n",
      " [1.45594308]]\n"
     ]
    }
   ],
   "source": [
    "x, t, u = f[:]\n",
    "print(x, t)"
   ]
  },
  {
   "cell_type": "code",
   "execution_count": 22,
   "id": "af760f38-a561-4b6d-b883-6b7ff4b609ea",
   "metadata": {},
   "outputs": [
    {
     "data": {
      "text/plain": [
       "(-4.999955754025392,\n",
       " 4.99959691988796,\n",
       " 1.236274858550148e-05,\n",
       " 1.5707327783099327)"
      ]
     },
     "execution_count": 22,
     "metadata": {},
     "output_type": "execute_result"
    }
   ],
   "source": [
    "x[0].min(), x[0].max(), t.min(), t.max()"
   ]
  },
  {
   "cell_type": "code",
   "execution_count": 23,
   "id": "8339e895-0679-4048-909b-4025a8940d32",
   "metadata": {},
   "outputs": [
    {
     "data": {
      "text/plain": [
       "(-4.999563904089994,\n",
       " 4.999888702903867,\n",
       " 7.290342936606396e-05,\n",
       " 1.570788443608791)"
      ]
     },
     "execution_count": 23,
     "metadata": {},
     "output_type": "execute_result"
    }
   ],
   "source": [
    "x_f.min(), x_f.max(), t_f.min(), t_f.max()"
   ]
  },
  {
   "cell_type": "code",
   "execution_count": 24,
   "id": "a97e284c-ab25-473d-92ad-a0fe72dac739",
   "metadata": {},
   "outputs": [
    {
     "data": {
      "text/plain": [
       "(51456, 1)"
      ]
     },
     "execution_count": 24,
     "metadata": {},
     "output_type": "execute_result"
    }
   ],
   "source": [
    "x[0].shape"
   ]
  },
  {
   "cell_type": "code",
   "execution_count": 25,
   "id": "ee806692-7c41-44b0-9348-25e5b899d66c",
   "metadata": {},
   "outputs": [
    {
     "data": {
      "text/plain": [
       "array([[ 0.       ],\n",
       "       [-0.0390625],\n",
       "       [-0.078125 ],\n",
       "       ...,\n",
       "       [ 0.078125 ],\n",
       "       [ 0.0390625],\n",
       "       [ 0.       ]])"
      ]
     },
     "execution_count": 25,
     "metadata": {},
     "output_type": "execute_result"
    }
   ],
   "source": [
    "x[0] - X_star[:,0][:,None]"
   ]
  },
  {
   "cell_type": "code",
   "execution_count": 19,
   "id": "4ac00340-cbf0-4cbb-809f-cfc918936a70",
   "metadata": {},
   "outputs": [
    {
     "data": {
      "text/plain": [
       "(51456, 1)"
      ]
     },
     "execution_count": 19,
     "metadata": {},
     "output_type": "execute_result"
    }
   ],
   "source": [
    "u[:,0][:,None].shape"
   ]
  },
  {
   "cell_type": "code",
   "execution_count": 20,
   "id": "228633cc-2d17-4737-911b-0c193b90f6b6",
   "metadata": {},
   "outputs": [
    {
     "data": {
      "text/plain": [
       "array([[ 0.        ],\n",
       "       [-0.00024607],\n",
       "       [ 0.00031289],\n",
       "       ...,\n",
       "       [-0.00026942],\n",
       "       [-0.00017695],\n",
       "       [ 0.        ]])"
      ]
     },
     "execution_count": 20,
     "metadata": {},
     "output_type": "execute_result"
    }
   ],
   "source": [
    "u_star-u[:,0][:,None]"
   ]
  },
  {
   "cell_type": "code",
   "execution_count": 82,
   "id": "c7825a0d-ed1c-4334-911c-57d46ce3ffaa",
   "metadata": {},
   "outputs": [],
   "source": [
    "data = PINNDataModule(train_datasets = [ic,pb, f],\n",
    "                  val_dataset = val,\n",
    "                  batch_size = 30000)"
   ]
  },
  {
   "cell_type": "code",
   "execution_count": 83,
   "id": "4a5af569-2e9b-440f-a53e-c84dccf89724",
   "metadata": {},
   "outputs": [],
   "source": [
    "data.setup()"
   ]
  },
  {
   "cell_type": "code",
   "execution_count": 84,
   "id": "e0e0d77c-6f15-44d2-b22f-cee4283e0f07",
   "metadata": {},
   "outputs": [],
   "source": [
    "a = data.train_dataloader()"
   ]
  },
  {
   "cell_type": "code",
   "execution_count": 88,
   "id": "ecdaf79d-a918-4dca-b36a-a230fbe1d875",
   "metadata": {},
   "outputs": [],
   "source": [
    "batch = next(iter(a['InitialCondition']))"
   ]
  },
  {
   "cell_type": "code",
   "execution_count": 90,
   "id": "7492c562-19fc-4397-b697-6f1d4ad67812",
   "metadata": {},
   "outputs": [],
   "source": [
    "x, t, u = batch"
   ]
  },
  {
   "cell_type": "code",
   "execution_count": 94,
   "id": "b7fc24e1-9ab7-40af-bd74-ca2083101d58",
   "metadata": {},
   "outputs": [
    {
     "data": {
      "text/plain": [
       "[<matplotlib.lines.Line2D at 0x7fe95ba73fa0>]"
      ]
     },
     "execution_count": 94,
     "metadata": {},
     "output_type": "execute_result"
    },
    {
     "data": {
      "image/png": "[encoded data removed]",
      "text/plain": [
       "<Figure size 640x480 with 1 Axes>"
      ]
     },
     "metadata": {},
     "output_type": "display_data"
    }
   ],
   "source": [
    "plt.plot(np.sort(x[0],0))"
   ]
  },
  {
   "cell_type": "code",
   "execution_count": 12,
   "id": "57d1cbed-ce7d-4409-b52a-502436bf6853",
   "metadata": {},
   "outputs": [],
   "source": [
    "t_points= 201\n",
    "shape = (256,1)\n",
    "x_interval = [-5, 4.9609375]"
   ]
  },
  {
   "cell_type": "code",
   "execution_count": 13,
   "id": "4e4b27d7-cae1-4f89-97ff-877f00321546",
   "metadata": {},
   "outputs": [],
   "source": [
    "x = np.linspace(x_interval[0], x_interval[1], num=shape[0])\n",
    "mesh = np.tile(x, (t_points, 1)).flatten()"
   ]
  },
  {
   "cell_type": "code",
   "execution_count": 16,
   "id": "18e8e388-e5ba-4b4e-b534-80fdbcb15b10",
   "metadata": {},
   "outputs": [],
   "source": [
    "time_interval=[0, 1.57079633]\n",
    "time = np.linspace(time_interval[0], time_interval[1], num=t_points)\n",
    "spatial_points = 256\n",
    "\n",
    "mesh = np.tile(time, (spatial_points, 1)).T[:,:, None]"
   ]
  },
  {
   "cell_type": "code",
   "execution_count": 17,
   "id": "405cd274-67ee-4e57-87c1-93da1a76a0c5",
   "metadata": {},
   "outputs": [
    {
     "data": {
      "text/plain": [
       "(201, 256, 1)"
      ]
     },
     "execution_count": 17,
     "metadata": {},
     "output_type": "execute_result"
    }
   ],
   "source": [
    "mesh.shape"
   ]
  },
  {
   "cell_type": "code",
   "execution_count": 14,
   "id": "d23ab54d-db03-46ff-9f5f-dbdb773a9d16",
   "metadata": {},
   "outputs": [
    {
     "data": {
      "text/plain": [
       "[<matplotlib.lines.Line2D at 0x7f6396e62310>]"
      ]
     },
     "execution_count": 14,
     "metadata": {},
     "output_type": "execute_result"
    },
    {
     "data": {
      "image/png": "[encoded data removed]",
      "text/plain": [
       "<Figure size 640x480 with 1 Axes>"
      ]
     },
     "metadata": {},
     "output_type": "display_data"
    }
   ],
   "source": [
    "plt.plot(mesh)"
   ]
  },
  {
   "cell_type": "code",
   "execution_count": 36,
   "id": "ed5a9b5f-530f-43ee-9b1e-d4c8bdd75fe8",
   "metadata": {},
   "outputs": [
    {
     "data": {
      "text/plain": [
       "[<matplotlib.lines.Line2D at 0x7f60e0ec2a30>]"
      ]
     },
     "execution_count": 36,
     "metadata": {},
     "output_type": "execute_result"
    },
    {
     "data": {
      "image/png": "[encoded data removed]",
      "text/plain": [
       "<Figure size 640x480 with 1 Axes>"
      ]
     },
     "metadata": {},
     "output_type": "display_data"
    }
   ],
   "source": [
    "plt.plot(X_star[:,1])"
   ]
  },
  {
   "cell_type": "code",
   "execution_count": 32,
   "id": "f6fc70d4-656f-4de1-bed5-801190ce8768",
   "metadata": {},
   "outputs": [
    {
     "data": {
      "text/plain": [
       "[<matplotlib.lines.Line2D at 0x7f60e0fb85b0>]"
      ]
     },
     "execution_count": 32,
     "metadata": {},
     "output_type": "execute_result"
    },
    {
     "data": {
      "image/png": "[encoded data removed]",
      "text/plain": [
       "<Figure size 640x480 with 1 Axes>"
      ]
     },
     "metadata": {},
     "output_type": "display_data"
    }
   ],
   "source": [
    "plt.plot(TT[:,10])"
   ]
  },
  {
   "cell_type": "code",
   "execution_count": 33,
   "id": "37ae4c8d-367a-49fb-9032-7347e31f4249",
   "metadata": {},
   "outputs": [
    {
     "data": {
      "text/plain": [
       "array([0.        , 0.        , 0.        , ..., 1.57079633, 1.57079633,\n",
       "       1.57079633])"
      ]
     },
     "execution_count": 33,
     "metadata": {},
     "output_type": "execute_result"
    }
   ],
   "source": [
    "X_star[:,1]"
   ]
  },
  {
   "cell_type": "code",
   "execution_count": 85,
   "id": "6de2b67b-c3d6-4b93-94a1-76436f6800a9",
   "metadata": {},
   "outputs": [],
   "source": [
    "c = next(iter(a))"
   ]
  },
  {
   "cell_type": "code",
   "execution_count": 86,
   "id": "fea28e8b-13c8-4d4d-9ebd-4c25e40ebb5a",
   "metadata": {},
   "outputs": [
    {
     "data": {
      "text/plain": [
       "'InitialCondition'"
      ]
     },
     "execution_count": 86,
     "metadata": {},
     "output_type": "execute_result"
    }
   ],
   "source": [
    "c"
   ]
  },
  {
   "cell_type": "code",
   "execution_count": 3,
   "id": "c24aa67b-4e9a-4315-8391-079729acda44",
   "metadata": {},
   "outputs": [
    {
     "name": "stdout",
     "output_type": "stream",
     "text": [
      "(256, 201) (256, 201)\n",
      "(50, 1) (50, 1)\n",
      "(50, 1) (50, 1)\n"
     ]
    }
   ],
   "source": [
    "from pyDOE import lhs\n",
    "\n",
    "\n",
    "noise = 0.0        \n",
    "\n",
    "# Doman bounds\n",
    "lb = np.array([-5.0, 0.0])\n",
    "ub = np.array([5.0, np.pi/2])\n",
    "\n",
    "N0 = 50\n",
    "N_b = 50\n",
    "N_f = 20000\n",
    "layers = [2, 100, 100, 100, 100, 2]\n",
    "    \n",
    "data = scipy.io.loadmat('data/NLS.mat')\n",
    "\n",
    "t = data['tt'].flatten()[:,None]\n",
    "x = data['x'].flatten()[:,None]\n",
    "Exact = data['uu']\n",
    "Exact_u = np.real(Exact)\n",
    "Exact_v = np.imag(Exact)\n",
    "Exact_h = np.sqrt(Exact_u**2 + Exact_v**2)\n",
    "print(Exact_u.shape, Exact_v.shape)\n",
    "\n",
    "X, T = np.meshgrid(x,t)\n",
    "\n",
    "X_star = np.hstack((X.flatten()[:,None], T.flatten()[:,None]))\n",
    "u_star = Exact_u.T.flatten()[:,None]\n",
    "v_star = Exact_v.T.flatten()[:,None]\n",
    "h_star = Exact_h.T.flatten()[:,None]\n",
    "\n",
    "###########################\n",
    "\n",
    "idx_x = np.random.choice(x.shape[0], 50, replace=False)\n",
    "x0 = x[idx_x,:]\n",
    "u0 = Exact_u[idx_x,0:1]\n",
    "v0 = Exact_v[idx_x,0:1]\n",
    "print(u0.shape, v0.shape)\n",
    "\n",
    "idx_t = np.random.choice(t.shape[0], N_b, replace=False)\n",
    "tb = t[idx_t,:]\n",
    "\n",
    "X_f = lb + (ub-lb)*lhs(2, N_f)\n",
    "\n",
    "\n",
    "X0 = np.concatenate((x0, 0*x0), 1) # (x0, 0)\n",
    "X_lb = np.concatenate((0*tb + lb[0], tb), 1) # (lb[0], tb)\n",
    "X_ub = np.concatenate((0*tb + ub[0], tb), 1) # (ub[0], tb)\n",
    "\n",
    "lb = lb\n",
    "ub = ub\n",
    "       \n",
    "x0 = X0[:,0:1]\n",
    "t0 = X0[:,1:2]\n",
    "\n",
    "x_lb = X_lb[:,0:1]\n",
    "t_lb = X_lb[:,1:2]\n",
    "print(x_lb.shape, t_lb.shape)\n",
    "\n",
    "\n",
    "x_ub = X_ub[:,0:1]\n",
    "t_ub = X_ub[:,1:2]\n",
    "\n",
    "x_f = X_f[:,0:1]\n",
    "t_f = X_f[:,1:2]\n",
    "\n",
    "u0 = u0\n",
    "v0 = v0"
   ]
  },
  {
   "cell_type": "markdown",
   "id": "00779379-a14d-4c33-aa88-1a9953eec0ff",
   "metadata": {
    "jp-MarkdownHeadingCollapsed": true
   },
   "source": [
    "### Test MESH"
   ]
  },
  {
   "cell_type": "code",
   "execution_count": 91,
   "id": "2efc0db7-c408-4115-b861-e6be775f46b9",
   "metadata": {},
   "outputs": [],
   "source": [
    "nu = 0.01/np.pi\n",
    "noise = 0.0        \n",
    "\n",
    "N_u = 100\n",
    "N_f = 10000\n",
    "layers = [2, 20, 20, 20, 20, 20, 20, 20, 20, 1]\n",
    "\n",
    "data = scipy.io.loadmat('data/burgers_shock.mat')\n",
    "\n",
    "t = data['t'].flatten()[:,None]\n",
    "x = data['x'].flatten()[:,None]\n",
    "Exact = np.real(data['usol']).T\n",
    "\n",
    "X, T = np.meshgrid(x,t)\n",
    "\n",
    "X_star = np.hstack((X.flatten()[:,None], T.flatten()[:,None]))\n",
    "u_star = Exact.flatten()[:,None]              \n",
    "\n",
    "# Doman bounds\n",
    "lb = X_star.min(0)\n",
    "ub = X_star.max(0)    \n",
    "    \n",
    "xx1 = np.hstack((X[0:1,:].T, T[0:1,:].T))\n",
    "uu1 = Exact[0:1,:].T\n",
    "xx2 = np.hstack((X[:,0:1], T[:,0:1]))\n",
    "uu2 = Exact[:,0:1]\n",
    "xx3 = np.hstack((X[:,-1:], T[:,-1:]))\n",
    "uu3 = Exact[:,-1:]\n",
    "\n",
    "X_u_train = np.vstack([xx1, xx2, xx3])\n",
    "X_f_train = lb + (ub-lb)*lhs(2, N_f)\n",
    "X_f_train = np.vstack((X_f_train, X_u_train))\n",
    "u_train = np.vstack([uu1, uu2, uu3])\n",
    "\n",
    "idx = np.random.choice(X_u_train.shape[0], N_u, replace=False)\n",
    "X_u_train = X_u_train[idx, :]\n",
    "u_train = u_train[idx,:]\n",
    "\n",
    "x_u = X_u_train[:,0:1]\n",
    "t_u = X_u_train[:,1:2]\n",
    "\n",
    "x_f = X_f_train[:,0:1]\n",
    "t_f = X_f_train[:,1:2]"
   ]
  },
  {
   "cell_type": "code",
   "execution_count": 92,
   "id": "4606f96c-8361-4a79-b5f0-5227153b126c",
   "metadata": {},
   "outputs": [
    {
     "data": {
      "text/plain": [
       "(256, 1)"
      ]
     },
     "execution_count": 92,
     "metadata": {},
     "output_type": "execute_result"
    }
   ],
   "source": [
    "uu1.shape"
   ]
  },
  {
   "cell_type": "code",
   "execution_count": 93,
   "id": "72763e82-a78b-42d9-954f-a7e2e7326a28",
   "metadata": {},
   "outputs": [],
   "source": [
    "from torch.utils.data import Dataset\n",
    "import torch \n",
    "\n",
    "class InitialCondition(Dataset):\n",
    "    def __init__(self,\n",
    "                 x,\n",
    "                 t,\n",
    "                 u):\n",
    "\n",
    "        (self.spatial_domain_sampled,\n",
    "        self.time_domain_sampled, \n",
    "        self.solution_sampled) = self.convert_to_tensor((x, t, u))\n",
    "\n",
    "    @staticmethod\n",
    "    def convert_to_tensor(arrays, requires_grad=False):\n",
    "        return [torch.tensor(array, dtype=torch.float32, requires_grad=requires_grad) for array in arrays]\n",
    "        \n",
    "    def __len__(self):\n",
    "        return len(self.solution_sampled)\n",
    "    \n",
    "    def __getitem__(self, idx):\n",
    "        return ([self.spatial_domain_sampled[idx, i:i+1] for i in range(self.spatial_domain_sampled.shape[1])],\n",
    "                self.time_domain_sampled[idx],\n",
    "                self.solution_sampled[idx])\n",
    "\n",
    "class CollectionPoints(Dataset):\n",
    "    def __init__(self,\n",
    "                 x,\n",
    "                 t):\n",
    "\n",
    "        (self.spatial_domain_sampled,\n",
    "        self.time_domain_sampled) = self.convert_to_tensor((x, t))\n",
    "\n",
    "    @staticmethod\n",
    "    def convert_to_tensor(arrays, requires_grad=False):\n",
    "        return [torch.tensor(array, dtype=torch.float32, requires_grad=requires_grad) for array in arrays]\n",
    "        \n",
    "    def __len__(self):\n",
    "        return len(self.time_domain_sampled)\n",
    "    \n",
    "    def __getitem__(self, idx):\n",
    "        return ([self.spatial_domain_sampled[idx, i:i+1] for i in range(self.spatial_domain_sampled.shape[1])],\n",
    "                self.time_domain_sampled[idx])\n",
    "\n",
    "class Boundary(Dataset):\n",
    "    def __init__(self,\n",
    "                 x1,\n",
    "                 x2,\n",
    "                 t1,\n",
    "                 t2):\n",
    "\n",
    "        (self.spatial_domain_sampled_1,\n",
    "         self.spatial_domain_sampled_2,\n",
    "         self.time_domain_sampled_1,\n",
    "         self.time_domain_sampled_2,\n",
    "        ) = self.convert_to_tensor((x1, x2, t1, t2))\n",
    "\n",
    "    @staticmethod\n",
    "    def convert_to_tensor(arrays, requires_grad=False):\n",
    "        return [torch.tensor(array, dtype=torch.float32, requires_grad=requires_grad) for array in arrays]\n",
    "        \n",
    "    def __len__(self):\n",
    "        return len(self.time_domain_sampled_1)\n",
    "    \n",
    "    def __getitem__(self, idx):\n",
    "        return ([self.spatial_domain_sampled_1[idx, i:i+1] for i in range(self.spatial_domain_sampled_1.shape[1])],\n",
    "                [self.spatial_domain_sampled_2[idx, i:i+1] for i in range(self.spatial_domain_sampled_2.shape[1])],\n",
    "                self.time_domain_sampled_1[idx],\n",
    "                self.time_domain_sampled_2[idx],\n",
    "               )"
   ]
  },
  {
   "cell_type": "code",
   "execution_count": 94,
   "id": "472afa22-0d36-49a4-bbb2-f53544f137d0",
   "metadata": {},
   "outputs": [],
   "source": [
    "ic = InitialCondition(x_u, t_u, u_train)\n",
    "f = CollectionPoints(x_f, t_f)\n",
    "val = InitialCondition(X_star[:,0][:, None], X_star[:,1][:, None], u_star)"
   ]
  },
  {
   "cell_type": "code",
   "execution_count": 113,
   "id": "40f666a8-0675-4187-a912-2b3a9b4d8521",
   "metadata": {},
   "outputs": [],
   "source": [
    "from typing import Any, Dict, Tuple, Union, Callable, List\n",
    "\n",
    "import torch\n",
    "\n",
    "from lightning import LightningModule\n",
    "from torchmetrics import MinMetric, MeanMetric\n",
    "from torchmetrics.classification.accuracy import Accuracy\n",
    "from lightning.pytorch.utilities import move_data_to_device\n",
    "from src.utils.gradient import fwd_gradient, gradient\n",
    "\n",
    "class PINNModule(LightningModule):\n",
    "    \"\"\"Example of a `LightningModule` for PDE equations.\n",
    "\n",
    "    A `LightningModule` implements 8 key methods:\n",
    "\n",
    "    ```python\n",
    "    def __init__(self):\n",
    "    # Define initialization code here.\n",
    "\n",
    "    def setup(self, stage):\n",
    "    # Things to setup before each stage, 'fit', 'validate', 'test', 'predict'.\n",
    "    # This hook is called on every process when using DDP.\n",
    "\n",
    "    def training_step(self, batch, batch_idx):\n",
    "    # The complete training step.\n",
    "\n",
    "    def validation_step(self, batch, batch_idx):\n",
    "    # The complete validation step.\n",
    "\n",
    "    def test_step(self, batch, batch_idx):\n",
    "    # The complete test step.\n",
    "\n",
    "    def predict_step(self, batch, batch_idx):\n",
    "    # The complete predict step.\n",
    "\n",
    "    def configure_optimizers(self):\n",
    "    # Define and configure optimizers and LR schedulers.\n",
    "    ```\n",
    "\n",
    "    Docs:\n",
    "        https://lightning.ai/docs/pytorch/latest/common/lightning_module.html\n",
    "    \"\"\"\n",
    "\n",
    "    def __init__(\n",
    "        self,\n",
    "        net: torch.nn.Module,\n",
    "        pde_fn: Callable[[Any, ...], torch.Tensor],\n",
    "        optimizer: torch.optim.Optimizer,\n",
    "        scheduler: torch.optim.lr_scheduler = None,\n",
    "        extra_variables: Dict[str, Any] = None,\n",
    "        output_fn: Callable[[Any, ...], torch.Tensor] = None,\n",
    "        runge_kutta=None,\n",
    "    ) -> None:\n",
    "        \"\"\"Initialize a `PINNModule`.\n",
    "\n",
    "        :param net: The model to train.\n",
    "        :param pde_fn: PDE function.\n",
    "        :param optimizer: The optimizer to use for training.\n",
    "        :param scheduler: The learning rate scheduler to use for training.\n",
    "        :param extra_variables: Extra variables should be in a dictionary.\n",
    "        :param output_fn: Output function will apply on the output of the net.\n",
    "        :param runge_kutta: Runge–Kutta method will be used in discrete problems.\n",
    "        \"\"\"\n",
    "        super().__init__()\n",
    "\n",
    "        # this line allows to access init params with 'self.hparams' attribute\n",
    "        # also ensures init params will be stored in ckpt\n",
    "        self.save_hyperparameters(logger=False, ignore=['net'])\n",
    "\n",
    "        self.net = net\n",
    "        self.capture_end = False\n",
    "        self.extra_variables = self.fix_extra_variables(extra_variables)\n",
    "        self.output_fn = output_fn\n",
    "        self.pde_fn = pde_fn\n",
    "        self.automatic_optimization = False\n",
    "\n",
    "        self.rk = runge_kutta\n",
    "        \n",
    "        # for averaging loss across batches\n",
    "        self.train_loss = MeanMetric()\n",
    "        self.val_loss = MeanMetric()\n",
    "        self.val_error = MeanMetric()\n",
    "        self.test_loss = MeanMetric()\n",
    "        self.test_error = MeanMetric()\n",
    "\n",
    "        # for tracking best so far validation accuracy\n",
    "        self.val_loss_best = MinMetric()\n",
    "\n",
    "    def fix_extra_variables(self, extra_variables):\n",
    "        if extra_variables is None:\n",
    "            return None\n",
    "        extra_variables_parameters = {}\n",
    "        for key in extra_variables:\n",
    "            extra_variables_parameters[key] = torch.tensor([extra_variables[key]],\n",
    "                                                         dtype=torch.float32,\n",
    "                                                         requires_grad=True)\n",
    "        extra_variables_parameters = torch.nn.ParameterDict(extra_variables_parameters)\n",
    "        return extra_variables_parameters\n",
    "\n",
    "        \n",
    "    def forward(self, spatial: List[torch.Tensor], time: torch.Tensor) -> torch.Tensor:\n",
    "        \"\"\"Perform a forward pass through the model `self.net`.\n",
    "    \n",
    "        :param spatial: List of input spatial tensors.\n",
    "        :param time: Input tensor representing time.\n",
    "        :return: A tensor of solutions.\n",
    "        \"\"\"        \n",
    "        return self.net(spatial, time)\n",
    "\n",
    "    def on_fit_start(self):\n",
    "        if self.rk:\n",
    "            self.rk.to(self.device)\n",
    "\n",
    "    def on_validation_start(self):\n",
    "        if self.rk:\n",
    "            self.rk.to(self.device)\n",
    "\n",
    "    def on_train_start(self) -> None:\n",
    "        \"\"\"Lightning hook that is called when training begins.\"\"\"\n",
    "        # by default lightning executes validation step sanity checks before training starts,\n",
    "        # so it's worth to make sure validation metrics don't store results from these checks\n",
    "        self.val_loss.reset()\n",
    "        self.val_loss_best.reset()\n",
    "\n",
    "    def model_step(\n",
    "        self,\n",
    "        batch: Dict[str, Union[Tuple[torch.Tensor, torch.Tensor, torch.Tensor],\n",
    "                                     Tuple[torch.Tensor, torch.Tensor]]],\n",
    "        batch_idx: int = 0,\n",
    "    ) -> Tuple[torch.Tensor, torch.Tensor]:\n",
    "        \"\"\"Perform a single model step on a batch of data.\n",
    "\n",
    "        :param batch: A batch of data (a tuple) containing the\n",
    "        input tensor of different conditions and data.\n",
    "\n",
    "        :return: A tuple containing (in order):\n",
    "            - A tensor of losses.\n",
    "            - A tensor of predictions.\n",
    "        \"\"\"\n",
    "        total_loss = 0.\n",
    "        \n",
    "        for key in batch:\n",
    "            if len(batch[key])==2:\n",
    "                x, t = batch[key]\n",
    "            elif len(batch[key])==3:\n",
    "                x, t, u = batch[key]\n",
    "            else:\n",
    "                x_ub, x_lb, t_ub, t_lb = batch[key]\n",
    "                if batch_idx==0:\n",
    "                    t_lb = t_lb.requires_grad_(True)\n",
    "                    t_ub = t_ub.requires_grad_(True)\n",
    "                    x_ub = [x_.requires_grad_(True) for x_ in x_ub]\n",
    "                    x_lb = [x_.requires_grad_(True) for x_ in x_lb]\n",
    "\n",
    "            if batch_idx==0:\n",
    "                t = t.requires_grad_(True)\n",
    "                x = [x_.requires_grad_(True) for x_ in x]\n",
    "            \n",
    "            '''         \n",
    "            elif key == 'PeriodicBoundaryCondition_1':\n",
    "                if t.size()[0] == 2:\n",
    "                    t = None\n",
    "                u_pred = self.forward(x, t)\n",
    "                mid = u_pred.size()[0]//2\n",
    "                loss = 0.0\n",
    "                for i in range(u_pred.shape[-1]):\n",
    "                    if t is not None:\n",
    "                        u_pred_x = gradient(u_pred[:, i:i+1], x)\n",
    "                    else:\n",
    "                        u_pred_x = fwd_gradient(u_pred[:, i:i+1], x)                    \n",
    "                    loss = loss + torch.sum(torch.square(u_pred_x[:mid]-u_pred_x[mid:]))\n",
    "                loss = loss + torch.sum(torch.square(u_pred[:mid]-u_pred[mid:]))\n",
    "            '''\n",
    "            if key == 'PeriodicBoundaryCondition_0':    \n",
    "                if t.size()[0] == 2:\n",
    "                    t = None\n",
    "                u_pred = self.forward(x, t)\n",
    "                mid = u_pred.size()[0]//2\n",
    "                loss = torch.sum(torch.square(u_pred[:mid]-u_pred[mid:]))\n",
    "            \n",
    "            elif key == 'Boundary':\n",
    "                if t.size()[0] == 2:\n",
    "                    t = None\n",
    "                u_pred_ub = self.forward(x_ub, t_ub)\n",
    "                u_pred_lb = self.forward(x_lb, t_lb)  \n",
    "                loss = 0.0\n",
    "                for i in range(u_pred_lb.shape[-1]):\n",
    "                    if t is not None:\n",
    "                        u_pred_x_ub = gradient(u_pred_ub[:, i:i+1], x_ub)\n",
    "                        u_pred_x_lb = gradient(u_pred_lb[:, i:i+1], x_lb)\n",
    "                    else:\n",
    "                        u_pred_x_ub = fwd_gradient(u_pred_ub[:, i:i+1], x_ub)\n",
    "                        u_pred_x_lb = fwd_gradient(u_pred_lb[:, i:i+1], x_lb)\n",
    "                    loss = loss + torch.mean(torch.square(u_pred_x_ub - u_pred_x_lb))\n",
    "                    loss = loss + torch.mean(torch.square(u_pred_ub[:, i:i+1] -u_pred_lb[:, i:i+1]))\n",
    "            elif key == 'MeshSampler_alpha':\n",
    "                z = self.forward(x, None)\n",
    "                f = self.pde_fn(z, *x, self.extra_variables)\n",
    "                u_pred = z - self.rk['dt']*torch.matmul(f, self.rk['alpha'])\n",
    "                loss = torch.sum(torch.square(u_pred-u))\n",
    "\n",
    "            elif key == 'MeshSampler_beta':\n",
    "                z = self.forward(x, None)\n",
    "                f = self.pde_fn(z, *x, self.extra_variables)\n",
    "                u_pred = z + self.rk['dt']*torch.matmul(f, (self.rk['beta'] - self.rk['alpha']))\n",
    "                loss = torch.sum(torch.square(u_pred-u))\n",
    "\n",
    "            elif key == 'MeshSampler_weights':\n",
    "                z = self.forward(x, None)\n",
    "                f = self.pde_fn(z, *x, self.extra_variables)\n",
    "                u_pred = z - self.rk['dt']*torch.matmul(f, self.rk['weights'])\n",
    "                loss = torch.sum(torch.square(u_pred-u))\n",
    "\n",
    "            elif key == 'MeshSampler_use_data':\n",
    "                if self.output_fn:\n",
    "                    u_pred = self.forward(x, t)\n",
    "                    u_pred_new = self.output_fn(u_pred, *x, t)\n",
    "                    f = self.pde_fn(u_pred, *x, t, self.extra_variables)\n",
    "                    loss = torch.sum(torch.square(u_pred_new-u)) + torch.sum(torch.square(f))\n",
    "                else:\n",
    "                    u_pred = self.forward(x, t)\n",
    "                    f = self.pde_fn(u_pred, *x, t, self.extra_variables)\n",
    "                    loss = torch.sum(torch.square(u_pred-u)) + torch.sum(torch.square(f))\n",
    "             \n",
    "            elif key.startswith('CollectionPoints'):\n",
    "                u_pred = self.forward(x, t)\n",
    "                f = self.pde_fn(u_pred, *x, t, self.extra_variables)\n",
    "                loss = torch.mean(torch.square(f)) \n",
    "               \n",
    "            else:\n",
    "                u_pred = self.forward(x, t)\n",
    "                print(u_pred.shape, u.shape) \n",
    "                loss = torch.mean(torch.square(u_pred-u))\n",
    "                \n",
    "        total_loss = total_loss + loss\n",
    "        return total_loss, u_pred\n",
    "\n",
    "    def capture_graph(self, batch):\n",
    "        \n",
    "        self.opt = self.optimizers()\n",
    "        \n",
    "        self.new_batch = batch\n",
    "        self.batch_idx = 0\n",
    "        \n",
    "        s = torch.cuda.Stream()\n",
    "        s.wait_stream(torch.cuda.current_stream())\n",
    "        with torch.cuda.stream(s):\n",
    "            for i in range(11):\n",
    "                self.opt.zero_grad(set_to_none=True)\n",
    "                loss, pred = self.model_step(self.new_batch, self.batch_idx)\n",
    "                self.manual_backward(loss)\n",
    "                self.opt.step()\n",
    "        \n",
    "        torch.cuda.current_stream().wait_stream(s)\n",
    "        g = torch.cuda.CUDAGraph()\n",
    "        with torch.cuda.graph(g):\n",
    "            self.opt.zero_grad(set_to_none=True)\n",
    "            self.static_loss, self.static_pred = self.model_step(self.new_batch, self.batch_idx)\n",
    "            self.manual_backward(self.static_loss)\n",
    "            self.opt.step()\n",
    "\n",
    "        self.batch_idx = 1\n",
    "        self.capture_end = True\n",
    "        \n",
    "        return g\n",
    "    \n",
    "    def training_step(\n",
    "        self,\n",
    "        batch: Dict[str, Union[Tuple[torch.Tensor, torch.Tensor, torch.Tensor],\n",
    "                               Tuple[torch.Tensor, torch.Tensor]]],\n",
    "        batch_idx: int\n",
    "    ) -> torch.Tensor:\n",
    "        \"\"\"Perform a single training step on a batch of data from the training set.\n",
    "\n",
    "        :param batch: A batch of data (a tuple) containing the input tensor of images and target\n",
    "            labels.\n",
    "        :param batch_idx: The index of the current batch.\n",
    "        :return: A tensor of losses between model predictions and targets.\n",
    "        \"\"\"\n",
    "\n",
    "        if batch_idx == 0 and not self.capture_end:\n",
    "            self.g = self.capture_graph(batch)\n",
    "        else:\n",
    "            self.g.replay()\n",
    "\n",
    "        # update and log metrics\n",
    "        self.train_loss(self.static_loss)\n",
    "        self.log(\"train/loss\", self.train_loss, on_step=False, on_epoch=True, prog_bar=True)\n",
    "        \n",
    "        '''\n",
    "        if self.current_epoch > 20000 and self.current_epoch%20 == 0:\n",
    "            self.scheduler.step(self.static_loss)\n",
    "    \n",
    "            for param_group in self.optimizers().param_groups:\n",
    "                lr = param_group['lr']\n",
    "    \n",
    "            self.log(\"lr\", lr, prog_bar=True, sync_dist=False)\n",
    "        '''\n",
    "        #for param_group in self.optimizers().param_groups:\n",
    "        #    lr = param_group['lr']\n",
    "    \n",
    "        #self.log(\"lr_rate\", lr, prog_bar=True, sync_dist=False)\n",
    "        return self.static_loss\n",
    "\n",
    "    def on_train_epoch_end(self):\n",
    "        if self.extra_variables:\n",
    "            for key in self.extra_variables:\n",
    "                self.log(key, self.extra_variables[key], prog_bar=True)\n",
    "\n",
    "    def make_requires_grad_(self, batch):\n",
    "        x, t, u = batch\n",
    "        if self.rk:\n",
    "            t = None\n",
    "        else:\n",
    "            t = t.requires_grad_(True)\n",
    "        x = [x_.requires_grad_(True) for x_ in x]\n",
    "        return (x, t, u)\n",
    "    \n",
    "    def eval_step(self, batch: Tuple[torch.Tensor, torch.Tensor, torch.Tensor]) -> None:\n",
    "\n",
    "        \n",
    "        u_pred = self.forward(x, t)\n",
    "        if self.output_fn:\n",
    "            u_pred = self.output_fn(u_pred, *x, t)\n",
    "        \n",
    "        if self.rk:\n",
    "            loss = torch.sum(torch.square(u_pred[:,-1:] - u))\n",
    "            error_list = [torch.norm(u_pred[:,-1:] - u, p=2) / torch.norm(u, p=2)]\n",
    "        else:\n",
    "            loss = torch.sum(torch.square(u_pred - u))\n",
    "            error_list = [torch.norm(u_pred[:,i] - u[:,i], p=2) / torch.norm(u[:,i], p=2) \\\n",
    "                         for i in range(u_pred.shape[-1])]\n",
    "            \n",
    "        return loss, error_list, u_pred\n",
    "    \n",
    "    def validation_step(self,\n",
    "                        batch: Tuple[torch.Tensor, torch.Tensor, torch.Tensor],\n",
    "                        batch_idx: int) -> None:\n",
    "        \"\"\"Perform a single validation step on a batch of data from the validation set.\n",
    "\n",
    "        :param batch: A batch of data (a tuple) containing the input tensor of images and target\n",
    "            labels.\n",
    "        :param batch_idx: The index of the current batch.\n",
    "        \"\"\"\n",
    "        loss, error_list, pred = self.eval_step(batch)\n",
    "        self.val_loss(loss)  \n",
    "        self.log(\"val/loss\", loss, prog_bar=True, sync_dist=False)\n",
    "        for i, error in enumerate(error_list):\n",
    "            self.val_error(error)  \n",
    "            self.log(f\"val/error_{i}\", error, prog_bar=True, sync_dist=False)\n",
    "        \n",
    "    \n",
    "    def on_validation_epoch_end(self) -> None:\n",
    "        \"Lightning hook that is called when a validation epoch ends.\"\n",
    "        loss = self.val_loss.compute()\n",
    "        error = self.val_loss.compute()\n",
    "        self.val_loss_best(loss) \n",
    "        self.log(\"val/loss_best\", self.val_loss_best.compute(), sync_dist=True, prog_bar=True)\n",
    "        self.val_loss.reset()\n",
    "        \n",
    "        \n",
    "    def test_step(self,\n",
    "                  batch: Tuple[torch.Tensor, torch.Tensor, torch.Tensor],\n",
    "                  batch_idx: int,\n",
    "                  set_grad_enabled = True) -> None:\n",
    "        \"\"\"Perform a single test step on a batch of data from the test set.\n",
    "\n",
    "        :param batch: A batch of data (a tuple) containing the input tensor of images and target\n",
    "            labels.\n",
    "        :param batch_idx: The index of the current batch.\n",
    "        \"\"\"\n",
    "        loss, error, pred = self.eval_step(batch)\n",
    "        \n",
    "        # update and log metrics\n",
    "        self.test_loss(loss)\n",
    "        self.test_error(error)\n",
    "        self.log(\"test/loss\", loss, on_step=False, on_epoch=True, prog_bar=True)\n",
    "        self.log(\"test/error\", error, on_step=False, on_epoch=True, prog_bar=True)\n",
    "\n",
    "    def prediction_step(self,\n",
    "                        batch: Tuple[torch.Tensor, torch.Tensor, torch.Tensor],\n",
    "                        batch_idx: int,\n",
    "                        set_grad_enabled = True) -> None:\n",
    "        \"\"\"Perform a single test step on a batch of data from the test set.\n",
    "\n",
    "        :param batch: A batch of data (a tuple) containing the input tensor of images and target\n",
    "            labels.\n",
    "        :param batch_idx: The index of the current batch.\n",
    "        \"\"\"\n",
    "        loss, error, pred = self.eval_step(batch)\n",
    "        return pred\n",
    "    \n",
    "    def on_test_epoch_end(self) -> None:\n",
    "        \"\"\"Lightning hook that is called when a test epoch ends.\"\"\"\n",
    "        pass\n",
    "\n",
    "    def configure_optimizers(self) -> Dict[str, Any]:\n",
    "        \"\"\"Configures optimizers and learning-rate schedulers to be used for training.\n",
    "\n",
    "        Normally you'd need one, but in the case of GANs or similar you might need multiple.\n",
    "\n",
    "        Examples:\n",
    "            https://lightning.ai/docs/pytorch/latest/common/lightning_module.html#configure-optimizers\n",
    "\n",
    "        :return: A dict containing the configured optimizers and learning-rate schedulers to be used for training.\n",
    "        \"\"\"\n",
    "        optimizer = torch.optim.Adam(self.parameters(), capturable=True)\n",
    "    \n",
    "        return {\"optimizer\": optimizer}\n",
    "\n",
    "\n",
    "if __name__ == \"__main__\":\n",
    "    _ = PINNModule(None, None, None)"
   ]
  },
  {
   "cell_type": "code",
   "execution_count": 114,
   "id": "ac9d79e8-ece4-4053-ae96-6b5e52ae4533",
   "metadata": {},
   "outputs": [],
   "source": [
    "from src.data.pinn_datamodule import PINNDataModule\n",
    "from src.models.net.neural_net import FCN\n",
    "\n",
    "from lightning import Callback, LightningDataModule, LightningModule, Trainer"
   ]
  },
  {
   "cell_type": "code",
   "execution_count": 115,
   "id": "25da770c-e8f9-436e-b664-a1ddbd612279",
   "metadata": {},
   "outputs": [],
   "source": [
    "s = PINNDataModule(train_datasets=[ic, f], val_dataset=val)"
   ]
  },
  {
   "cell_type": "code",
   "execution_count": 116,
   "id": "d160700e-9ec7-4a1b-8c17-fea716da2129",
   "metadata": {},
   "outputs": [],
   "source": [
    "net = FCN(layers=[2, 20, 20, 20, 20, 20, 20, 20, 20, 1], lb= lb, ub= ub)"
   ]
  },
  {
   "cell_type": "code",
   "execution_count": 117,
   "id": "b844d66a-dc97-4db5-ad36-beb7aa53fc46",
   "metadata": {},
   "outputs": [],
   "source": [
    "from torch import autograd, ones_like\n",
    "\n",
    "def gradient(dy, dx, ones_like_tensor=None, create_graph=True):\n",
    "    if ones_like_tensor is None:\n",
    "        ones_like_tensor = ones_like(dy, requires_grad=False)\n",
    "    dy_dx = autograd.grad(dy,\n",
    "                         dx,\n",
    "                         grad_outputs = ones_like_tensor,\n",
    "                         create_graph = create_graph,\n",
    "                         retain_graph = True,\n",
    "                         allow_unused = False)\n",
    "    if len(dy_dx)==1:\n",
    "        dy_dx = dy_dx[0]\n",
    "    return dy_dx\n",
    "\n",
    "def pde_fn(u, x, t, extra_variables=None):\n",
    "    u_x = gradient(u, x)\n",
    "    u_t = gradient(u, t)\n",
    "    u_xx = gradient(u_x, x)[0]\n",
    "    return u_t + u*u_x - (0.01/np.pi)*u_xx"
   ]
  },
  {
   "cell_type": "code",
   "execution_count": 73,
   "id": "4c1bebc4-7b08-4134-aeb4-6dca4f2d332b",
   "metadata": {},
   "outputs": [
    {
     "name": "stderr",
     "output_type": "stream",
     "text": [
      "GPU available: True (cuda), used: True\n",
      "TPU available: False, using: 0 TPU cores\n",
      "IPU available: False, using: 0 IPUs\n",
      "HPU available: False, using: 0 HPUs\n"
     ]
    }
   ],
   "source": [
    "trainer = Trainer(max_epochs=50000, devices=[0], check_val_every_n_epoch=1000)"
   ]
  },
  {
   "cell_type": "code",
   "execution_count": 74,
   "id": "93f0d73e-f5ec-47ef-a183-0df608b4b2d7",
   "metadata": {},
   "outputs": [],
   "source": [
    "model = PINNModule(net=net, pde_fn=pde_fn, optimizer=None)"
   ]
  },
  {
   "cell_type": "code",
   "execution_count": 75,
   "id": "cb3d149d-01de-4055-a8f5-7bebe8e0d3e4",
   "metadata": {},
   "outputs": [
    {
     "name": "stderr",
     "output_type": "stream",
     "text": [
      "LOCAL_RANK: 0 - CUDA_VISIBLE_DEVICES: [0,1,2,3]\n",
      "\n",
      "  | Name          | Type       | Params\n",
      "---------------------------------------------\n",
      "0 | net           | FCN        | 3.0 K \n",
      "1 | train_loss    | MeanMetric | 0     \n",
      "2 | val_loss      | MeanMetric | 0     \n",
      "3 | val_error     | MeanMetric | 0     \n",
      "4 | test_loss     | MeanMetric | 0     \n",
      "5 | test_error    | MeanMetric | 0     \n",
      "6 | val_loss_best | MinMetric  | 0     \n",
      "---------------------------------------------\n",
      "3.0 K     Trainable params\n",
      "0         Non-trainable params\n",
      "3.0 K     Total params\n",
      "0.012     Total estimated model params size (MB)\n"
     ]
    },
    {
     "data": {
      "application/vnd.jupyter.widget-view+json": {
       "model_id": "7a5d9c1c60834e5bae30345c6ccb2871",
       "version_major": 2,
       "version_minor": 0
      },
      "text/plain": [
       "Sanity Checking: 0it [00:00, ?it/s]"
      ]
     },
     "metadata": {},
     "output_type": "display_data"
    },
    {
     "data": {
      "application/vnd.jupyter.widget-view+json": {
       "model_id": "2ef6773d4267450b8a98b4e875f52721",
       "version_major": 2,
       "version_minor": 0
      },
      "text/plain": [
       "Training: 0it [00:00, ?it/s]"
      ]
     },
     "metadata": {},
     "output_type": "display_data"
    },
    {
     "name": "stdout",
     "output_type": "stream",
     "text": [
      "torch.Size([100, 1]) torch.Size([100, 1])\n",
      "torch.Size([100, 1]) torch.Size([100, 1])\n",
      "torch.Size([100, 1]) torch.Size([100, 1])\n",
      "torch.Size([100, 1]) torch.Size([100, 1])\n",
      "torch.Size([100, 1]) torch.Size([100, 1])\n",
      "torch.Size([100, 1]) torch.Size([100, 1])\n",
      "torch.Size([100, 1]) torch.Size([100, 1])\n",
      "torch.Size([100, 1]) torch.Size([100, 1])\n",
      "torch.Size([100, 1]) torch.Size([100, 1])\n",
      "torch.Size([100, 1]) torch.Size([100, 1])\n",
      "torch.Size([100, 1]) torch.Size([100, 1])\n",
      "torch.Size([100, 1]) torch.Size([100, 1])\n"
     ]
    }
   ],
   "source": [
    "trainer.fit(model, datamodule=s)"
   ]
  },
  {
   "cell_type": "code",
   "execution_count": 50,
   "id": "ba02594f-6894-4477-a115-e298dfd5f6e1",
   "metadata": {},
   "outputs": [
    {
     "ename": "RuntimeError",
     "evalue": "Expected all tensors to be on the same device, but found at least two devices, cuda:0 and cpu!",
     "output_type": "error",
     "traceback": [
      "\u001b[0;31m---------------------------------------------------------------------------\u001b[0m",
      "\u001b[0;31mRuntimeError\u001b[0m                              Traceback (most recent call last)",
      "Cell \u001b[0;32mIn[50], line 1\u001b[0m\n\u001b[0;32m----> 1\u001b[0m u_pred \u001b[38;5;241m=\u001b[39m \u001b[43mmodel\u001b[49m\u001b[43m(\u001b[49m\u001b[43m[\u001b[49m\u001b[43mval\u001b[49m\u001b[38;5;241;43m.\u001b[39;49m\u001b[43mspatial_domain_sampled\u001b[49m\u001b[43m]\u001b[49m\u001b[43m,\u001b[49m\u001b[43m \u001b[49m\u001b[43mval\u001b[49m\u001b[38;5;241;43m.\u001b[39;49m\u001b[43mtime_domain_sampled\u001b[49m\u001b[43m)\u001b[49m\u001b[38;5;241m.\u001b[39mdetach()\u001b[38;5;241m.\u001b[39mnumpy()\n\u001b[1;32m      2\u001b[0m \u001b[38;5;28;01mfrom\u001b[39;00m \u001b[38;5;21;01mpyDOE\u001b[39;00m \u001b[38;5;28;01mimport\u001b[39;00m lhs\n\u001b[1;32m      3\u001b[0m \u001b[38;5;28;01mfrom\u001b[39;00m \u001b[38;5;21;01mscipy\u001b[39;00m\u001b[38;5;21;01m.\u001b[39;00m\u001b[38;5;21;01minterpolate\u001b[39;00m \u001b[38;5;28;01mimport\u001b[39;00m griddata\n",
      "File \u001b[0;32m~/miniconda3/envs/torch2stable/lib/python3.9/site-packages/torch/nn/modules/module.py:1501\u001b[0m, in \u001b[0;36mModule._call_impl\u001b[0;34m(self, *args, **kwargs)\u001b[0m\n\u001b[1;32m   1496\u001b[0m \u001b[38;5;66;03m# If we don't have any hooks, we want to skip the rest of the logic in\u001b[39;00m\n\u001b[1;32m   1497\u001b[0m \u001b[38;5;66;03m# this function, and just call forward.\u001b[39;00m\n\u001b[1;32m   1498\u001b[0m \u001b[38;5;28;01mif\u001b[39;00m \u001b[38;5;129;01mnot\u001b[39;00m (\u001b[38;5;28mself\u001b[39m\u001b[38;5;241m.\u001b[39m_backward_hooks \u001b[38;5;129;01mor\u001b[39;00m \u001b[38;5;28mself\u001b[39m\u001b[38;5;241m.\u001b[39m_backward_pre_hooks \u001b[38;5;129;01mor\u001b[39;00m \u001b[38;5;28mself\u001b[39m\u001b[38;5;241m.\u001b[39m_forward_hooks \u001b[38;5;129;01mor\u001b[39;00m \u001b[38;5;28mself\u001b[39m\u001b[38;5;241m.\u001b[39m_forward_pre_hooks\n\u001b[1;32m   1499\u001b[0m         \u001b[38;5;129;01mor\u001b[39;00m _global_backward_pre_hooks \u001b[38;5;129;01mor\u001b[39;00m _global_backward_hooks\n\u001b[1;32m   1500\u001b[0m         \u001b[38;5;129;01mor\u001b[39;00m _global_forward_hooks \u001b[38;5;129;01mor\u001b[39;00m _global_forward_pre_hooks):\n\u001b[0;32m-> 1501\u001b[0m     \u001b[38;5;28;01mreturn\u001b[39;00m \u001b[43mforward_call\u001b[49m\u001b[43m(\u001b[49m\u001b[38;5;241;43m*\u001b[39;49m\u001b[43margs\u001b[49m\u001b[43m,\u001b[49m\u001b[43m \u001b[49m\u001b[38;5;241;43m*\u001b[39;49m\u001b[38;5;241;43m*\u001b[39;49m\u001b[43mkwargs\u001b[49m\u001b[43m)\u001b[49m\n\u001b[1;32m   1502\u001b[0m \u001b[38;5;66;03m# Do not call functions when jit is used\u001b[39;00m\n\u001b[1;32m   1503\u001b[0m full_backward_hooks, non_full_backward_hooks \u001b[38;5;241m=\u001b[39m [], []\n",
      "Cell \u001b[0;32mIn[23], line 108\u001b[0m, in \u001b[0;36mPINNModule.forward\u001b[0;34m(self, spatial, time)\u001b[0m\n\u001b[1;32m    101\u001b[0m \u001b[38;5;28;01mdef\u001b[39;00m \u001b[38;5;21mforward\u001b[39m(\u001b[38;5;28mself\u001b[39m, spatial: List[torch\u001b[38;5;241m.\u001b[39mTensor], time: torch\u001b[38;5;241m.\u001b[39mTensor) \u001b[38;5;241m-\u001b[39m\u001b[38;5;241m>\u001b[39m torch\u001b[38;5;241m.\u001b[39mTensor:\n\u001b[1;32m    102\u001b[0m \u001b[38;5;250m    \u001b[39m\u001b[38;5;124;03m\"\"\"Perform a forward pass through the model `self.net`.\u001b[39;00m\n\u001b[1;32m    103\u001b[0m \u001b[38;5;124;03m\u001b[39;00m\n\u001b[1;32m    104\u001b[0m \u001b[38;5;124;03m    :param spatial: List of input spatial tensors.\u001b[39;00m\n\u001b[1;32m    105\u001b[0m \u001b[38;5;124;03m    :param time: Input tensor representing time.\u001b[39;00m\n\u001b[1;32m    106\u001b[0m \u001b[38;5;124;03m    :return: A tensor of solutions.\u001b[39;00m\n\u001b[1;32m    107\u001b[0m \u001b[38;5;124;03m    \"\"\"\u001b[39;00m        \n\u001b[0;32m--> 108\u001b[0m     \u001b[38;5;28;01mreturn\u001b[39;00m \u001b[38;5;28;43mself\u001b[39;49m\u001b[38;5;241;43m.\u001b[39;49m\u001b[43mnet\u001b[49m\u001b[43m(\u001b[49m\u001b[43mspatial\u001b[49m\u001b[43m,\u001b[49m\u001b[43m \u001b[49m\u001b[43mtime\u001b[49m\u001b[43m)\u001b[49m\n",
      "File \u001b[0;32m~/miniconda3/envs/torch2stable/lib/python3.9/site-packages/torch/nn/modules/module.py:1501\u001b[0m, in \u001b[0;36mModule._call_impl\u001b[0;34m(self, *args, **kwargs)\u001b[0m\n\u001b[1;32m   1496\u001b[0m \u001b[38;5;66;03m# If we don't have any hooks, we want to skip the rest of the logic in\u001b[39;00m\n\u001b[1;32m   1497\u001b[0m \u001b[38;5;66;03m# this function, and just call forward.\u001b[39;00m\n\u001b[1;32m   1498\u001b[0m \u001b[38;5;28;01mif\u001b[39;00m \u001b[38;5;129;01mnot\u001b[39;00m (\u001b[38;5;28mself\u001b[39m\u001b[38;5;241m.\u001b[39m_backward_hooks \u001b[38;5;129;01mor\u001b[39;00m \u001b[38;5;28mself\u001b[39m\u001b[38;5;241m.\u001b[39m_backward_pre_hooks \u001b[38;5;129;01mor\u001b[39;00m \u001b[38;5;28mself\u001b[39m\u001b[38;5;241m.\u001b[39m_forward_hooks \u001b[38;5;129;01mor\u001b[39;00m \u001b[38;5;28mself\u001b[39m\u001b[38;5;241m.\u001b[39m_forward_pre_hooks\n\u001b[1;32m   1499\u001b[0m         \u001b[38;5;129;01mor\u001b[39;00m _global_backward_pre_hooks \u001b[38;5;129;01mor\u001b[39;00m _global_backward_hooks\n\u001b[1;32m   1500\u001b[0m         \u001b[38;5;129;01mor\u001b[39;00m _global_forward_hooks \u001b[38;5;129;01mor\u001b[39;00m _global_forward_pre_hooks):\n\u001b[0;32m-> 1501\u001b[0m     \u001b[38;5;28;01mreturn\u001b[39;00m \u001b[43mforward_call\u001b[49m\u001b[43m(\u001b[49m\u001b[38;5;241;43m*\u001b[39;49m\u001b[43margs\u001b[49m\u001b[43m,\u001b[49m\u001b[43m \u001b[49m\u001b[38;5;241;43m*\u001b[39;49m\u001b[38;5;241;43m*\u001b[39;49m\u001b[43mkwargs\u001b[49m\u001b[43m)\u001b[49m\n\u001b[1;32m   1502\u001b[0m \u001b[38;5;66;03m# Do not call functions when jit is used\u001b[39;00m\n\u001b[1;32m   1503\u001b[0m full_backward_hooks, non_full_backward_hooks \u001b[38;5;241m=\u001b[39m [], []\n",
      "File \u001b[0;32m~/pinns-pytorch/src/models/net/neural_net.py:59\u001b[0m, in \u001b[0;36mFCN.forward\u001b[0;34m(self, spatial, time)\u001b[0m\n\u001b[1;32m     57\u001b[0m \u001b[38;5;28;01mif\u001b[39;00m time \u001b[38;5;129;01mis\u001b[39;00m \u001b[38;5;129;01mnot\u001b[39;00m \u001b[38;5;28;01mNone\u001b[39;00m:\n\u001b[1;32m     58\u001b[0m     z \u001b[38;5;241m=\u001b[39m torch\u001b[38;5;241m.\u001b[39mcat((\u001b[38;5;241m*\u001b[39mspatial,time),\u001b[38;5;241m1\u001b[39m)\n\u001b[0;32m---> 59\u001b[0m     z \u001b[38;5;241m=\u001b[39m \u001b[38;5;241m2.0\u001b[39m \u001b[38;5;241m*\u001b[39m (\u001b[43mz\u001b[49m\u001b[43m \u001b[49m\u001b[38;5;241;43m-\u001b[39;49m\u001b[43m \u001b[49m\u001b[38;5;28;43mself\u001b[39;49m\u001b[38;5;241;43m.\u001b[39;49m\u001b[43mlb\u001b[49m) \u001b[38;5;241m/\u001b[39m (\u001b[38;5;28mself\u001b[39m\u001b[38;5;241m.\u001b[39mub \u001b[38;5;241m-\u001b[39m \u001b[38;5;28mself\u001b[39m\u001b[38;5;241m.\u001b[39mlb) \u001b[38;5;241m-\u001b[39m \u001b[38;5;241m1.0\u001b[39m\n\u001b[1;32m     61\u001b[0m \u001b[38;5;66;03m# Discrete Mode\u001b[39;00m\n\u001b[1;32m     62\u001b[0m \u001b[38;5;28;01melse\u001b[39;00m:\n\u001b[1;32m     63\u001b[0m     \u001b[38;5;28;01mif\u001b[39;00m \u001b[38;5;28mlen\u001b[39m(spatial) \u001b[38;5;241m==\u001b[39m \u001b[38;5;241m1\u001b[39m:\n",
      "\u001b[0;31mRuntimeError\u001b[0m: Expected all tensors to be on the same device, but found at least two devices, cuda:0 and cpu!"
     ]
    }
   ],
   "source": [
    "u_pred = model([val.spatial_domain_sampled], val.time_domain_sampled).detach().numpy()\n",
    "from pyDOE import lhs\n",
    "from scipy.interpolate import griddata\n",
    "\n",
    "nu = 0.01/np.pi\n",
    "noise = 0.0        \n",
    "\n",
    "N_u = 100\n",
    "N_f = 10000\n",
    "layers = [2, 20, 20, 20, 20, 20, 20, 20, 20, 1]\n",
    "\n",
    "data = scipy.io.loadmat('data/burgers_shock.mat')\n",
    "\n",
    "t = data['t'].flatten()[:,None]\n",
    "x = data['x'].flatten()[:,None]\n",
    "Exact = np.real(data['usol']).T\n",
    "\n",
    "X, T = np.meshgrid(x,t)\n",
    "\n",
    "X_star = np.hstack((X.flatten()[:,None], T.flatten()[:,None]))\n",
    "u_star = Exact.flatten()[:,None]              \n",
    "\n",
    "# Doman bounds\n",
    "lb = X_star.min(0)\n",
    "ub = X_star.max(0)    \n",
    "    \n",
    "xx1 = np.hstack((X[0:1,:].T, T[0:1,:].T))\n",
    "uu1 = Exact[0:1,:].T\n",
    "xx2 = np.hstack((X[:,0:1], T[:,0:1]))\n",
    "uu2 = Exact[:,0:1]\n",
    "xx3 = np.hstack((X[:,-1:], T[:,-1:]))\n",
    "uu3 = Exact[:,-1:]\n",
    "\n",
    "X_u_train = np.vstack([xx1, xx2, xx3])\n",
    "X_f_train = lb + (ub-lb)*lhs(2, N_f)\n",
    "X_f_train = np.vstack((X_f_train, X_u_train))\n",
    "u_train = np.vstack([uu1, uu2, uu3])\n",
    "\n",
    "idx = np.random.choice(X_u_train.shape[0], N_u, replace=False)\n",
    "X_u_train = X_u_train[idx, :]\n",
    "u_train = u_train[idx,:]\n",
    "\n",
    "U_pred = griddata(X_star, u_pred.flatten(), (X, T), method='cubic')"
   ]
  },
  {
   "cell_type": "code",
   "execution_count": null,
   "id": "496f6ee3-4a98-46ef-b303-21398b3a27f7",
   "metadata": {},
   "outputs": [],
   "source": [
    "import numpy as np\n",
    "import matplotlib as mpl\n",
    "from mpl_toolkits.mplot3d import Axes3D\n",
    "import matplotlib.gridspec as gridspec\n",
    "from mpl_toolkits.axes_grid1 import make_axes_locatable\n",
    "import matplotlib.pyplot as plt\n",
    "data = scipy.io.loadmat('data/burgers_shock.mat')\n",
    "exact_u = np.real(data['usol']).astype('float32')\n",
    "def figsize(scale, nplots = 1):\n",
    "    fig_width_pt = 390.0                          # Get this from LaTeX using \\the\\textwidth\n",
    "    inches_per_pt = 1.0/72.27                       # Convert pt to inch\n",
    "    golden_mean = (np.sqrt(5.0)-1.0)/2.0            # Aesthetic ratio (you could change this)\n",
    "    fig_width = fig_width_pt*inches_per_pt*scale    # width in inches\n",
    "    fig_height = nplots*fig_width*golden_mean              # height in inches\n",
    "    fig_size = [fig_width,fig_height]\n",
    "    return fig_size\n",
    "\n",
    "def newfig(width, nplots = 1):\n",
    "    fig = plt.figure(figsize=figsize(width, nplots))\n",
    "    ax = fig.add_subplot(111)\n",
    "    return fig, ax\n",
    "\n",
    "######################################################################\n",
    "############################# Plotting ###############################\n",
    "######################################################################    \n",
    "\n",
    "fig, ax = newfig(1.0, 1.1)\n",
    "ax.axis('off')\n",
    "\n",
    "####### Row 1: u(t,x) slices ##################    \n",
    "gs1 = gridspec.GridSpec(1, 3)\n",
    "gs1.update(top=1-1/3, bottom=0, left=0.1, right=0.9, wspace=0.5)\n",
    "\n",
    "ax = plt.subplot(gs1[0, 0])\n",
    "ax.plot(x,exact_u[:, 25], 'b-', linewidth = 2, label = 'Exact')       \n",
    "ax.plot(x,U_pred[25, :], 'r--', linewidth = 2, label = 'Prediction')\n",
    "ax.set_xlabel('$x$')\n",
    "ax.set_ylabel('$u(t,x)$')    \n",
    "ax.set_title('$t = 0.25$', fontsize = 10)\n",
    "ax.axis('square')\n",
    "ax.set_xlim([-1.1,1.1])\n",
    "ax.set_ylim([-1.1,1.1])\n",
    "\n",
    "ax = plt.subplot(gs1[0, 1])\n",
    "ax.plot(x,exact_u[:, 50], 'b-', linewidth = 2, label = 'Exact')       \n",
    "ax.plot(x,U_pred[ 50, :], 'r--', linewidth = 2, label = 'Prediction')\n",
    "ax.set_xlabel('$x$')\n",
    "ax.set_ylabel('$u(t,x)$')\n",
    "ax.axis('square')\n",
    "ax.set_xlim([-1.1,1.1])\n",
    "ax.set_ylim([-1.1,1.1])\n",
    "ax.set_title('$t = 0.50$', fontsize = 10)\n",
    "ax.legend(loc='upper center', bbox_to_anchor=(0.5, -0.35), ncol=5, frameon=False)\n",
    "\n",
    "ax = plt.subplot(gs1[0, 2])\n",
    "ax.plot(x,exact_u[:, 75], 'b-', linewidth = 2, label = 'Exact')       \n",
    "ax.plot(x,U_pred[50, :], 'r--', linewidth = 2, label = 'Prediction')\n",
    "ax.set_xlabel('$x$')\n",
    "ax.set_ylabel('$u(t,x)$')\n",
    "ax.axis('square')\n",
    "ax.set_xlim([-1.1,1.1])\n",
    "ax.set_ylim([-1.1,1.1])    \n",
    "ax.set_title('$t = 0.75$', fontsize = 10)\n",
    "\n"
   ]
  },
  {
   "cell_type": "code",
   "execution_count": 39,
   "id": "7b23675a-e27c-4f6c-aa31-e7292d7bd102",
   "metadata": {},
   "outputs": [
    {
     "data": {
      "text/plain": [
       "(256, 100)"
      ]
     },
     "execution_count": 39,
     "metadata": {},
     "output_type": "execute_result"
    }
   ],
   "source": [
    "U_pred.shape"
   ]
  },
  {
   "cell_type": "code",
   "execution_count": 213,
   "id": "2fadb788-a9c7-4a25-b828-0d3f04d7f814",
   "metadata": {},
   "outputs": [],
   "source": [
    "u_pred = model.u_pred.cpu().detach()\n",
    "u_star = model.u_star.cpu()"
   ]
  },
  {
   "cell_type": "code",
   "execution_count": 210,
   "id": "03c7bd5c-75ca-4097-94a0-de4a5b552fda",
   "metadata": {},
   "outputs": [
    {
     "data": {
      "text/plain": [
       "tensor(32.5848)"
      ]
     },
     "execution_count": 210,
     "metadata": {},
     "output_type": "execute_result"
    }
   ],
   "source": [
    "torch.sum(torch.square(u_pred[:,0:1] - u_star))"
   ]
  },
  {
   "cell_type": "code",
   "execution_count": 211,
   "id": "e5426f42-06f8-4a20-8bdb-f62af7ce3455",
   "metadata": {},
   "outputs": [
    {
     "data": {
      "text/plain": [
       "32.584755"
      ]
     },
     "execution_count": 211,
     "metadata": {},
     "output_type": "execute_result"
    }
   ],
   "source": [
    "u_pred = model.u_pred.cpu().detach().numpy()\n",
    "u_star = model.u_star.cpu().numpy()\n",
    "np.sum(np.square(u_pred[:,0:1] - u_star))"
   ]
  },
  {
   "cell_type": "code",
   "execution_count": 219,
   "id": "59830cb9-cd7d-448a-af80-5434301da194",
   "metadata": {},
   "outputs": [],
   "source": [
    "u_pred = np.array([[ 2.7091e-01,  3.9882e-03],\n",
    "        [ 2.7687e-01,  1.1623e-02],\n",
    "        [ 2.6562e-01, -4.3583e-03],\n",
    "        [ 2.6574e-01, -3.9669e-03],\n",
    "        [ 2.6638e-01, -2.6910e-03],\n",
    "        [ 2.6875e-01,  2.9218e-04],\n",
    "        [ 2.6829e-01, -6.7141e-04],\n",
    "        [ 2.6760e-01, -1.9919e-03],\n",
    "        [ 2.6845e-01, -3.5939e-04],\n",
    "        [ 2.6562e-01, -4.4337e-03],\n",
    "        [ 2.7271e-01,  6.3726e-03],\n",
    "        [ 2.7899e-01,  1.4200e-02],\n",
    "        [ 2.6860e-01, -3.8063e-05],\n",
    "        [ 2.6563e-01, -4.4611e-03],\n",
    "        [ 2.6597e-01, -4.3149e-03],\n",
    "        [ 2.6605e-01, -4.2324e-03],\n",
    "        [ 2.6762e-01, -6.8513e-04],\n",
    "        [ 2.6591e-01, -3.5690e-03],\n",
    "        [ 2.6769e-01, -1.8177e-03],\n",
    "        [ 2.6585e-01, -4.4194e-03],\n",
    "        [ 2.6720e-01, -1.3304e-03],\n",
    "        [ 2.6769e-01, -5.7203e-04],\n",
    "        [ 2.6594e-01, -3.5116e-03],\n",
    "        [ 2.7115e-01,  4.3136e-03],\n",
    "        [ 2.7010e-01,  2.8917e-03],\n",
    "        [ 2.6860e-01,  7.7208e-04],\n",
    "        [ 2.6571e-01, -4.0494e-03],\n",
    "        [ 2.7827e-01,  1.3326e-02],\n",
    "        [ 2.7021e-01,  3.0445e-03],\n",
    "        [ 2.6579e-01, -3.8305e-03],\n",
    "        [ 2.6563e-01, -4.3102e-03],\n",
    "        [ 2.6819e-01, -8.7406e-04],\n",
    "        [ 2.7791e-01,  1.2895e-02],\n",
    "        [ 2.6684e-01, -1.9184e-03],\n",
    "        [ 2.6707e-01, -1.5328e-03],\n",
    "        [ 2.6824e-01, -7.7320e-04],\n",
    "        [ 2.6878e-01,  1.0360e-03],\n",
    "        [ 2.6611e-01, -4.1694e-03],\n",
    "        [ 2.6989e-01,  2.5907e-03],\n",
    "        [ 2.6649e-01, -3.7087e-03],\n",
    "        [ 2.6814e-01, -9.7357e-04],\n",
    "        [ 2.6733e-01, -1.1218e-03],\n",
    "        [ 2.6562e-01, -4.4482e-03],\n",
    "        [ 2.6825e-01,  2.6217e-04],\n",
    "        [ 2.7431e-01,  8.4140e-03],\n",
    "        [ 2.6592e-01, -4.3617e-03],\n",
    "        [ 2.6627e-01, -3.9835e-03],\n",
    "        [ 2.6789e-01, -1.4544e-03],\n",
    "        [ 2.7809e-01,  1.3110e-02],\n",
    "        [ 2.6562e-01, -4.3797e-03]])"
   ]
  },
  {
   "cell_type": "code",
   "execution_count": 218,
   "id": "b166e8b2-7537-4756-bde7-d1681dd1eb2f",
   "metadata": {},
   "outputs": [],
   "source": [
    "u_star = np.array([[0.2302],\n",
    "        [0.0466],\n",
    "        [1.6998],\n",
    "        [1.9863],\n",
    "        [1.5904],\n",
    "        [0.0612],\n",
    "        [0.0870],\n",
    "        [0.1501],\n",
    "        [0.0774],\n",
    "        [1.5524],\n",
    "        [0.1336],\n",
    "        [0.0291],\n",
    "        [0.0688],\n",
    "        [1.4752],\n",
    "        [0.7207],\n",
    "        [0.6455],\n",
    "        [0.8323],\n",
    "        [1.9625],\n",
    "        [0.1389],\n",
    "        [0.8623],\n",
    "        [1.0244],\n",
    "        [0.8032],\n",
    "        [1.9463],\n",
    "        [0.2130],\n",
    "        [0.3019],\n",
    "        [0.5356],\n",
    "        [1.9625],\n",
    "        [0.0341],\n",
    "        [0.2905],\n",
    "        [2.0000],\n",
    "        [1.7672],\n",
    "        [0.0940],\n",
    "        [0.0368],\n",
    "        [1.2425],\n",
    "        [1.0945],\n",
    "        [0.0904],\n",
    "        [0.4967],\n",
    "        [0.5993],\n",
    "        [0.3261],\n",
    "        [0.3952],\n",
    "        [0.0978],\n",
    "        [0.9571],\n",
    "        [1.5140],\n",
    "        [0.6220],\n",
    "        [0.0870],\n",
    "        [0.7748],\n",
    "        [0.4967],\n",
    "        [0.1188],\n",
    "        [0.0354],\n",
    "        [1.6642]])"
   ]
  },
  {
   "cell_type": "code",
   "execution_count": null,
   "id": "a2728dd1-434b-41d7-a836-0ee87532171c",
   "metadata": {},
   "outputs": [],
   "source": [
    "tf.reduce_mean(tf.square())"
   ]
  },
  {
   "cell_type": "code",
   "execution_count": null,
   "id": "d3a1cdd5-b041-4ef9-b618-15efe0e8dc0f",
   "metadata": {},
   "outputs": [],
   "source": [
    "u_pred = model.u_pred.cpu().detach().numpy()\n",
    "u_star = model.u_star.cpu().numpy()\n",
    "np.sum(np.square(u_pred[:,0:1] - u_star))"
   ]
  },
  {
   "cell_type": "code",
   "execution_count": 57,
   "id": "a806ff9a-e3de-4a12-9cf6-3ff772a36f3c",
   "metadata": {},
   "outputs": [
    {
     "data": {
      "text/plain": [
       "<matplotlib.image.AxesImage at 0x7f16527cc160>"
      ]
     },
     "execution_count": 57,
     "metadata": {},
     "output_type": "execute_result"
    },
    {
     "data": {
      "image/png": "[encoded data removed]",
      "text/plain": [
       "<Figure size 640x480 with 1 Axes>"
      ]
     },
     "metadata": {},
     "output_type": "display_data"
    }
   ],
   "source": [
    "plt.imshow(mesh.solution_mesh[:,:,0], interpolation='nearest', cmap='YlGnBu', \n",
    "                  extent=[mesh.lb[1], mesh.ub[1], mesh.lb[0], mesh.ub[0]], \n",
    "                  origin='lower', aspect='auto')\n"
   ]
  },
  {
   "cell_type": "code",
   "execution_count": null,
   "id": "ab388831-fa10-400a-a3a1-ac3ae9f11de8",
   "metadata": {},
   "outputs": [],
   "source": [
    "plt.imshow(mesh.solution_mesh[:,:,0], interpolation='nearest', cmap='YlGnBu', \n",
    "                  extent=[mesh.lb[1], mesh.ub[1], mesh.lb[0], mesh.ub[0]], \n",
    "                  origin='lower', aspect='auto')\n"
   ]
  },
  {
   "cell_type": "code",
   "execution_count": 21,
   "id": "7391409f-ce07-4a8c-8fd5-48af37b446f6",
   "metadata": {},
   "outputs": [],
   "source": [
    "data = scipy.io.loadmat('data/burgers_shock.mat')\n",
    "\n",
    "t = data['t'].flatten()[:,None]\n",
    "x = data['x'].flatten()[:,None]\n",
    "Exact = np.real(data['usol']).T\n",
    "\n",
    "X, T = np.meshgrid(x,t)\n",
    "\n",
    "X_star = np.hstack((X.flatten()[:,None], T.flatten()[:,None]))\n",
    "u_star = Exact.flatten()[:,None]  "
   ]
  },
  {
   "cell_type": "code",
   "execution_count": 31,
   "id": "c2fb5efe-8851-4173-ae0c-7dc12d9a41d7",
   "metadata": {},
   "outputs": [],
   "source": [
    "N_train = 5000\n",
    "\n",
    "layers = [3, 20, 20, 20, 20, 20, 20, 20, 20, 2]\n",
    "\n",
    "# Load Data\n",
    "data = scipy.io.loadmat('data/cylinder_nektar_wake.mat')\n",
    "       \n",
    "U_star = data['U_star'] # N x 2 x T\n",
    "P_star = data['p_star'] # N x T\n",
    "t_star = data['t'] # T x 1\n",
    "X_star = data['X_star'] # N x 2\n",
    "\n",
    "N = X_star.shape[0]\n",
    "T = t_star.shape[0]\n",
    "\n",
    "# Rearrange Data \n",
    "XX = np.tile(X_star[:,0:1], (1,T)) # N x T\n",
    "YY = np.tile(X_star[:,1:2], (1,T)) # N x T\n",
    "TT = np.tile(t_star, (1,N)).T # N x T\n",
    "\n",
    "UU = U_star[:,0,:] # N x T\n",
    "VV = U_star[:,1,:] # N x T\n",
    "PP = P_star # N x T\n",
    "\n",
    "x = XX.flatten()[:,None] # NT x 1\n",
    "y = YY.flatten()[:,None] # NT x 1\n",
    "t = TT.flatten()[:,None] # NT x 1\n",
    "\n",
    "u = UU.flatten()[:,None] # NT x 1\n",
    "v = VV.flatten()[:,None] # NT x 1\n",
    "p = PP.flatten()[:,None] # NT x 1\n",
    "\n",
    "######################################################################\n",
    "######################## Noiseles Data ###############################\n",
    "######################################################################\n",
    "# Training Data    \n",
    "idx = np.random.choice(N*T, N_train, replace=False)\n",
    "x_train = x[idx,:]\n",
    "y_train = y[idx,:]\n",
    "t_train = t[idx,:]\n",
    "u_train = u[idx,:]\n",
    "v_train = v[idx,:]\n",
    "\n",
    "# Test Data\n",
    "snap = np.array([100])\n",
    "x_star = X_star[:,0:1]\n",
    "y_star = X_star[:,1:2]"
   ]
  },
  {
   "cell_type": "code",
   "execution_count": 32,
   "id": "6b2d4f1e-b16b-4acd-91da-8b1bf8f1a32f",
   "metadata": {},
   "outputs": [
    {
     "data": {
      "text/plain": [
       "(200, 1)"
      ]
     },
     "execution_count": 32,
     "metadata": {},
     "output_type": "execute_result"
    }
   ],
   "source": [
    "t_star.shape"
   ]
  },
  {
   "cell_type": "markdown",
   "id": "3e305f3b-42cf-45e9-8d01-a24c9a73d90b",
   "metadata": {
    "jp-MarkdownHeadingCollapsed": true
   },
   "source": [
    "### NavierStokes"
   ]
  },
  {
   "cell_type": "code",
   "execution_count": 42,
   "id": "540a967c-a917-443a-bc20-5871090cd574",
   "metadata": {},
   "outputs": [],
   "source": [
    "from pinnstorch.data import Interval, Rectangle\n",
    "from pinnstorch.data import TimeDomain\n",
    "from pinnstorch.data import Mesh, PointCloud, PointCloudData\n",
    "from pinnstorch.data import MeshSampler\n",
    "from pinnstorch.data import PeriodicBoundaryCondition\n",
    "from pinnstorch.data import InitialCondition\n",
    "from pinnstorch.data import InitialCondition\n",
    "from pinnstorch.data import PINNDataModule"
   ]
  },
  {
   "cell_type": "code",
   "execution_count": 17,
   "id": "773f7d10-3c48-46a4-bccc-dda319ad27a0",
   "metadata": {},
   "outputs": [],
   "source": [
    "from pinnstorch.utils import load_data\n",
    "\n",
    "def read_data_fn(root_path):\n",
    "    data = load_data(root_path, 'cylinder_nektar_wake.mat')\n",
    "    U_star = data['U_star'] # N x 2 x T\n",
    "    exact_u = U_star[:,0,:]\n",
    "    exact_v = U_star[:,1,:] \n",
    "    p_star = data['p_star'] # N x 2 x T\n",
    "    return PointCloudData(spatial = [data['X_star'][:, 0:1], # N x 1\n",
    "                                            data['X_star'][:, 1:2]], # N x 1\n",
    "                          time = [data['t']], # T x 1\n",
    "                          solution = {'u': exact_u, # N x T\n",
    "                                      'v':exact_v,\n",
    "                                      'p':p_star} # N x T\n",
    "                         )\n",
    "\n",
    "def read_data_fn_2(root_path):\n",
    "    data = load_data(root_path, 'cylinder_nektar_wake.mat')\n",
    "    U_star = data['U_star'] # N x 2 x T\n",
    "    exact_u = U_star[:,0,:]\n",
    "    exact_v = U_star[:,1,:] \n",
    "    p_star = data['p_star'] # N x 2 x T\n",
    "    return {'u': exact_u, 'v': exact_v}"
   ]
  },
  {
   "cell_type": "code",
   "execution_count": 18,
   "id": "16079a18-55f1-4731-9646-64f03f085794",
   "metadata": {},
   "outputs": [],
   "source": [
    "pc = PointCloud('data', read_data_fn)"
   ]
  },
  {
   "cell_type": "code",
   "execution_count": 19,
   "id": "0549c6ac-6eca-454a-98c6-b5c376e4d49f",
   "metadata": {},
   "outputs": [],
   "source": [
    "td = TimeDomain([0, 19.9], 200)\n",
    "sd = Rectangle([1, 8],[-2, 2], [100, 50])\n",
    "mesh = Mesh(time_domain=td, spatial_domain=sd, root_dir = 'data', read_data_fn = read_data_fn_2)"
   ]
  },
  {
   "cell_type": "code",
   "execution_count": 6,
   "id": "39fa62e5-0472-44d2-82dd-96fed5085a39",
   "metadata": {},
   "outputs": [
    {
     "data": {
      "text/plain": [
       "((5000, 200, 1), (5000, 200, 1))"
      ]
     },
     "execution_count": 6,
     "metadata": {},
     "output_type": "execute_result"
    }
   ],
   "source": [
    "mesh.time_domain_mesh.shape, pc.time_domain_mesh.shape"
   ]
  },
  {
   "cell_type": "code",
   "execution_count": 10,
   "id": "a65b0ff0-0585-4290-8bb5-9fd08d35e513",
   "metadata": {},
   "outputs": [
    {
     "data": {
      "text/plain": [
       "((5000, 200), (5000, 200))"
      ]
     },
     "execution_count": 10,
     "metadata": {},
     "output_type": "execute_result"
    }
   ],
   "source": [
    "mesh.solution['v'].shape, pc.solution['v'].shape"
   ]
  },
  {
   "cell_type": "code",
   "execution_count": 23,
   "id": "05c43b6a-ba0a-409b-beb1-df677fb566ff",
   "metadata": {},
   "outputs": [],
   "source": [
    "x, t, u = pc.on_lower_boundary(['v', 'u'])\n",
    "xx, tt, uu = mesh.on_lower_boundary(['v', 'u'])"
   ]
  },
  {
   "cell_type": "code",
   "execution_count": 24,
   "id": "ce1bf2fc-f112-4fee-90f0-001aa3241886",
   "metadata": {},
   "outputs": [
    {
     "data": {
      "text/plain": [
       "((200, 1), (200, 1))"
      ]
     },
     "execution_count": 24,
     "metadata": {},
     "output_type": "execute_result"
    }
   ],
   "source": [
    "tt.shape, t.shape"
   ]
  },
  {
   "cell_type": "code",
   "execution_count": 25,
   "id": "0cf6817c-71b7-49e1-8b53-a309aceaf6f3",
   "metadata": {
    "scrolled": true
   },
   "outputs": [
    {
     "data": {
      "text/plain": [
       "((array([[ 1., -2.],\n",
       "         [ 1., -2.],\n",
       "         [ 1., -2.],\n",
       "         [ 1., -2.],\n",
       "         [ 1., -2.],\n",
       "         [ 1., -2.],\n",
       "         [ 1., -2.],\n",
       "         [ 1., -2.],\n",
       "         [ 1., -2.],\n",
       "         [ 1., -2.],\n",
       "         [ 1., -2.],\n",
       "         [ 1., -2.],\n",
       "         [ 1., -2.],\n",
       "         [ 1., -2.],\n",
       "         [ 1., -2.],\n",
       "         [ 1., -2.],\n",
       "         [ 1., -2.],\n",
       "         [ 1., -2.],\n",
       "         [ 1., -2.],\n",
       "         [ 1., -2.],\n",
       "         [ 1., -2.],\n",
       "         [ 1., -2.],\n",
       "         [ 1., -2.],\n",
       "         [ 1., -2.],\n",
       "         [ 1., -2.],\n",
       "         [ 1., -2.],\n",
       "         [ 1., -2.],\n",
       "         [ 1., -2.],\n",
       "         [ 1., -2.],\n",
       "         [ 1., -2.],\n",
       "         [ 1., -2.],\n",
       "         [ 1., -2.],\n",
       "         [ 1., -2.],\n",
       "         [ 1., -2.],\n",
       "         [ 1., -2.],\n",
       "         [ 1., -2.],\n",
       "         [ 1., -2.],\n",
       "         [ 1., -2.],\n",
       "         [ 1., -2.],\n",
       "         [ 1., -2.],\n",
       "         [ 1., -2.],\n",
       "         [ 1., -2.],\n",
       "         [ 1., -2.],\n",
       "         [ 1., -2.],\n",
       "         [ 1., -2.],\n",
       "         [ 1., -2.],\n",
       "         [ 1., -2.],\n",
       "         [ 1., -2.],\n",
       "         [ 1., -2.],\n",
       "         [ 1., -2.],\n",
       "         [ 1., -2.],\n",
       "         [ 1., -2.],\n",
       "         [ 1., -2.],\n",
       "         [ 1., -2.],\n",
       "         [ 1., -2.],\n",
       "         [ 1., -2.],\n",
       "         [ 1., -2.],\n",
       "         [ 1., -2.],\n",
       "         [ 1., -2.],\n",
       "         [ 1., -2.],\n",
       "         [ 1., -2.],\n",
       "         [ 1., -2.],\n",
       "         [ 1., -2.],\n",
       "         [ 1., -2.],\n",
       "         [ 1., -2.],\n",
       "         [ 1., -2.],\n",
       "         [ 1., -2.],\n",
       "         [ 1., -2.],\n",
       "         [ 1., -2.],\n",
       "         [ 1., -2.],\n",
       "         [ 1., -2.],\n",
       "         [ 1., -2.],\n",
       "         [ 1., -2.],\n",
       "         [ 1., -2.],\n",
       "         [ 1., -2.],\n",
       "         [ 1., -2.],\n",
       "         [ 1., -2.],\n",
       "         [ 1., -2.],\n",
       "         [ 1., -2.],\n",
       "         [ 1., -2.],\n",
       "         [ 1., -2.],\n",
       "         [ 1., -2.],\n",
       "         [ 1., -2.],\n",
       "         [ 1., -2.],\n",
       "         [ 1., -2.],\n",
       "         [ 1., -2.],\n",
       "         [ 1., -2.],\n",
       "         [ 1., -2.],\n",
       "         [ 1., -2.],\n",
       "         [ 1., -2.],\n",
       "         [ 1., -2.],\n",
       "         [ 1., -2.],\n",
       "         [ 1., -2.],\n",
       "         [ 1., -2.],\n",
       "         [ 1., -2.],\n",
       "         [ 1., -2.],\n",
       "         [ 1., -2.],\n",
       "         [ 1., -2.],\n",
       "         [ 1., -2.],\n",
       "         [ 1., -2.],\n",
       "         [ 1., -2.],\n",
       "         [ 1., -2.],\n",
       "         [ 1., -2.],\n",
       "         [ 1., -2.],\n",
       "         [ 1., -2.],\n",
       "         [ 1., -2.],\n",
       "         [ 1., -2.],\n",
       "         [ 1., -2.],\n",
       "         [ 1., -2.],\n",
       "         [ 1., -2.],\n",
       "         [ 1., -2.],\n",
       "         [ 1., -2.],\n",
       "         [ 1., -2.],\n",
       "         [ 1., -2.],\n",
       "         [ 1., -2.],\n",
       "         [ 1., -2.],\n",
       "         [ 1., -2.],\n",
       "         [ 1., -2.],\n",
       "         [ 1., -2.],\n",
       "         [ 1., -2.],\n",
       "         [ 1., -2.],\n",
       "         [ 1., -2.],\n",
       "         [ 1., -2.],\n",
       "         [ 1., -2.],\n",
       "         [ 1., -2.],\n",
       "         [ 1., -2.],\n",
       "         [ 1., -2.],\n",
       "         [ 1., -2.],\n",
       "         [ 1., -2.],\n",
       "         [ 1., -2.],\n",
       "         [ 1., -2.],\n",
       "         [ 1., -2.],\n",
       "         [ 1., -2.],\n",
       "         [ 1., -2.],\n",
       "         [ 1., -2.],\n",
       "         [ 1., -2.],\n",
       "         [ 1., -2.],\n",
       "         [ 1., -2.],\n",
       "         [ 1., -2.],\n",
       "         [ 1., -2.],\n",
       "         [ 1., -2.],\n",
       "         [ 1., -2.],\n",
       "         [ 1., -2.],\n",
       "         [ 1., -2.],\n",
       "         [ 1., -2.],\n",
       "         [ 1., -2.],\n",
       "         [ 1., -2.],\n",
       "         [ 1., -2.],\n",
       "         [ 1., -2.],\n",
       "         [ 1., -2.],\n",
       "         [ 1., -2.],\n",
       "         [ 1., -2.],\n",
       "         [ 1., -2.],\n",
       "         [ 1., -2.],\n",
       "         [ 1., -2.],\n",
       "         [ 1., -2.],\n",
       "         [ 1., -2.],\n",
       "         [ 1., -2.],\n",
       "         [ 1., -2.],\n",
       "         [ 1., -2.],\n",
       "         [ 1., -2.],\n",
       "         [ 1., -2.],\n",
       "         [ 1., -2.],\n",
       "         [ 1., -2.],\n",
       "         [ 1., -2.],\n",
       "         [ 1., -2.],\n",
       "         [ 1., -2.],\n",
       "         [ 1., -2.],\n",
       "         [ 1., -2.],\n",
       "         [ 1., -2.],\n",
       "         [ 1., -2.],\n",
       "         [ 1., -2.],\n",
       "         [ 1., -2.],\n",
       "         [ 1., -2.],\n",
       "         [ 1., -2.],\n",
       "         [ 1., -2.],\n",
       "         [ 1., -2.],\n",
       "         [ 1., -2.],\n",
       "         [ 1., -2.],\n",
       "         [ 1., -2.],\n",
       "         [ 1., -2.],\n",
       "         [ 1., -2.],\n",
       "         [ 1., -2.],\n",
       "         [ 1., -2.],\n",
       "         [ 1., -2.],\n",
       "         [ 1., -2.],\n",
       "         [ 1., -2.],\n",
       "         [ 1., -2.],\n",
       "         [ 1., -2.],\n",
       "         [ 1., -2.],\n",
       "         [ 1., -2.],\n",
       "         [ 1., -2.],\n",
       "         [ 1., -2.],\n",
       "         [ 1., -2.],\n",
       "         [ 1., -2.],\n",
       "         [ 1., -2.],\n",
       "         [ 1., -2.],\n",
       "         [ 1., -2.],\n",
       "         [ 1., -2.],\n",
       "         [ 1., -2.]]),\n",
       "  array([[ 0. ],\n",
       "         [ 0.1],\n",
       "         [ 0.2],\n",
       "         [ 0.3],\n",
       "         [ 0.4],\n",
       "         [ 0.5],\n",
       "         [ 0.6],\n",
       "         [ 0.7],\n",
       "         [ 0.8],\n",
       "         [ 0.9],\n",
       "         [ 1. ],\n",
       "         [ 1.1],\n",
       "         [ 1.2],\n",
       "         [ 1.3],\n",
       "         [ 1.4],\n",
       "         [ 1.5],\n",
       "         [ 1.6],\n",
       "         [ 1.7],\n",
       "         [ 1.8],\n",
       "         [ 1.9],\n",
       "         [ 2. ],\n",
       "         [ 2.1],\n",
       "         [ 2.2],\n",
       "         [ 2.3],\n",
       "         [ 2.4],\n",
       "         [ 2.5],\n",
       "         [ 2.6],\n",
       "         [ 2.7],\n",
       "         [ 2.8],\n",
       "         [ 2.9],\n",
       "         [ 3. ],\n",
       "         [ 3.1],\n",
       "         [ 3.2],\n",
       "         [ 3.3],\n",
       "         [ 3.4],\n",
       "         [ 3.5],\n",
       "         [ 3.6],\n",
       "         [ 3.7],\n",
       "         [ 3.8],\n",
       "         [ 3.9],\n",
       "         [ 4. ],\n",
       "         [ 4.1],\n",
       "         [ 4.2],\n",
       "         [ 4.3],\n",
       "         [ 4.4],\n",
       "         [ 4.5],\n",
       "         [ 4.6],\n",
       "         [ 4.7],\n",
       "         [ 4.8],\n",
       "         [ 4.9],\n",
       "         [ 5. ],\n",
       "         [ 5.1],\n",
       "         [ 5.2],\n",
       "         [ 5.3],\n",
       "         [ 5.4],\n",
       "         [ 5.5],\n",
       "         [ 5.6],\n",
       "         [ 5.7],\n",
       "         [ 5.8],\n",
       "         [ 5.9],\n",
       "         [ 6. ],\n",
       "         [ 6.1],\n",
       "         [ 6.2],\n",
       "         [ 6.3],\n",
       "         [ 6.4],\n",
       "         [ 6.5],\n",
       "         [ 6.6],\n",
       "         [ 6.7],\n",
       "         [ 6.8],\n",
       "         [ 6.9],\n",
       "         [ 7. ],\n",
       "         [ 7.1],\n",
       "         [ 7.2],\n",
       "         [ 7.3],\n",
       "         [ 7.4],\n",
       "         [ 7.5],\n",
       "         [ 7.6],\n",
       "         [ 7.7],\n",
       "         [ 7.8],\n",
       "         [ 7.9],\n",
       "         [ 8. ],\n",
       "         [ 8.1],\n",
       "         [ 8.2],\n",
       "         [ 8.3],\n",
       "         [ 8.4],\n",
       "         [ 8.5],\n",
       "         [ 8.6],\n",
       "         [ 8.7],\n",
       "         [ 8.8],\n",
       "         [ 8.9],\n",
       "         [ 9. ],\n",
       "         [ 9.1],\n",
       "         [ 9.2],\n",
       "         [ 9.3],\n",
       "         [ 9.4],\n",
       "         [ 9.5],\n",
       "         [ 9.6],\n",
       "         [ 9.7],\n",
       "         [ 9.8],\n",
       "         [ 9.9],\n",
       "         [10. ],\n",
       "         [10.1],\n",
       "         [10.2],\n",
       "         [10.3],\n",
       "         [10.4],\n",
       "         [10.5],\n",
       "         [10.6],\n",
       "         [10.7],\n",
       "         [10.8],\n",
       "         [10.9],\n",
       "         [11. ],\n",
       "         [11.1],\n",
       "         [11.2],\n",
       "         [11.3],\n",
       "         [11.4],\n",
       "         [11.5],\n",
       "         [11.6],\n",
       "         [11.7],\n",
       "         [11.8],\n",
       "         [11.9],\n",
       "         [12. ],\n",
       "         [12.1],\n",
       "         [12.2],\n",
       "         [12.3],\n",
       "         [12.4],\n",
       "         [12.5],\n",
       "         [12.6],\n",
       "         [12.7],\n",
       "         [12.8],\n",
       "         [12.9],\n",
       "         [13. ],\n",
       "         [13.1],\n",
       "         [13.2],\n",
       "         [13.3],\n",
       "         [13.4],\n",
       "         [13.5],\n",
       "         [13.6],\n",
       "         [13.7],\n",
       "         [13.8],\n",
       "         [13.9],\n",
       "         [14. ],\n",
       "         [14.1],\n",
       "         [14.2],\n",
       "         [14.3],\n",
       "         [14.4],\n",
       "         [14.5],\n",
       "         [14.6],\n",
       "         [14.7],\n",
       "         [14.8],\n",
       "         [14.9],\n",
       "         [15. ],\n",
       "         [15.1],\n",
       "         [15.2],\n",
       "         [15.3],\n",
       "         [15.4],\n",
       "         [15.5],\n",
       "         [15.6],\n",
       "         [15.7],\n",
       "         [15.8],\n",
       "         [15.9],\n",
       "         [16. ],\n",
       "         [16.1],\n",
       "         [16.2],\n",
       "         [16.3],\n",
       "         [16.4],\n",
       "         [16.5],\n",
       "         [16.6],\n",
       "         [16.7],\n",
       "         [16.8],\n",
       "         [16.9],\n",
       "         [17. ],\n",
       "         [17.1],\n",
       "         [17.2],\n",
       "         [17.3],\n",
       "         [17.4],\n",
       "         [17.5],\n",
       "         [17.6],\n",
       "         [17.7],\n",
       "         [17.8],\n",
       "         [17.9],\n",
       "         [18. ],\n",
       "         [18.1],\n",
       "         [18.2],\n",
       "         [18.3],\n",
       "         [18.4],\n",
       "         [18.5],\n",
       "         [18.6],\n",
       "         [18.7],\n",
       "         [18.8],\n",
       "         [18.9],\n",
       "         [19. ],\n",
       "         [19.1],\n",
       "         [19.2],\n",
       "         [19.3],\n",
       "         [19.4],\n",
       "         [19.5],\n",
       "         [19.6],\n",
       "         [19.7],\n",
       "         [19.8],\n",
       "         [19.9]]),\n",
       "  {'v': array([[-0.0040965 ],\n",
       "          [ 0.00109213],\n",
       "          [ 0.00328232],\n",
       "          [ 0.005173  ],\n",
       "          [ 0.00674659],\n",
       "          [ 0.00798929],\n",
       "          [ 0.00889127],\n",
       "          [ 0.00944654],\n",
       "          [ 0.00965274],\n",
       "          [ 0.00951096],\n",
       "          [ 0.00902566],\n",
       "          [ 0.00820458],\n",
       "          [ 0.00705858],\n",
       "          [ 0.00560144],\n",
       "          [ 0.00384975],\n",
       "          [ 0.00182271],\n",
       "          [-0.00045825],\n",
       "          [-0.00296951],\n",
       "          [-0.00568559],\n",
       "          [-0.00857908],\n",
       "          [-0.01162094],\n",
       "          [-0.0147807 ],\n",
       "          [-0.01802651],\n",
       "          [-0.02132563],\n",
       "          [-0.02464439],\n",
       "          [-0.02794844],\n",
       "          [-0.03120314],\n",
       "          [-0.03437397],\n",
       "          [-0.0374262 ],\n",
       "          [-0.04032577],\n",
       "          [-0.04303927],\n",
       "          [-0.04553471],\n",
       "          [-0.04778137],\n",
       "          [-0.04975078],\n",
       "          [-0.05141675],\n",
       "          [-0.05275583],\n",
       "          [-0.05374829],\n",
       "          [-0.0543782 ],\n",
       "          [-0.05463362],\n",
       "          [-0.05450765],\n",
       "          [-0.05399782],\n",
       "          [-0.05310716],\n",
       "          [-0.05184344],\n",
       "          [-0.05022022],\n",
       "          [-0.04825622],\n",
       "          [-0.04597496],\n",
       "          [-0.04340504],\n",
       "          [-0.0405786 ],\n",
       "          [-0.03753179],\n",
       "          [-0.0343037 ],\n",
       "          [-0.03093606],\n",
       "          [-0.0274718 ],\n",
       "          [-0.02395506],\n",
       "          [-0.02042972],\n",
       "          [-0.01693941],\n",
       "          [-0.01352641],\n",
       "          [-0.01023119],\n",
       "          [-0.00709177],\n",
       "          [-0.00414345],\n",
       "          [-0.00141855],\n",
       "          [ 0.00105399],\n",
       "          [ 0.00324886],\n",
       "          [ 0.00514452],\n",
       "          [ 0.00672334],\n",
       "          [ 0.00797147],\n",
       "          [ 0.00887911],\n",
       "          [ 0.00944013],\n",
       "          [ 0.00965211],\n",
       "          [ 0.00951591],\n",
       "          [ 0.00903612],\n",
       "          [ 0.00822038],\n",
       "          [ 0.00707956],\n",
       "          [ 0.00562742],\n",
       "          [ 0.00388044],\n",
       "          [ 0.00185776],\n",
       "          [-0.00041919],\n",
       "          [-0.00292689],\n",
       "          [-0.00563984],\n",
       "          [-0.00853067],\n",
       "          [-0.01157036],\n",
       "          [-0.01472838],\n",
       "          [-0.01797305],\n",
       "          [-0.02127156],\n",
       "          [-0.02459023],\n",
       "          [-0.0278948 ],\n",
       "          [-0.03115067],\n",
       "          [-0.03432315],\n",
       "          [-0.03737771],\n",
       "          [-0.04028016],\n",
       "          [-0.04299701],\n",
       "          [-0.04549626],\n",
       "          [-0.0477473 ],\n",
       "          [-0.04972148],\n",
       "          [-0.05139258],\n",
       "          [-0.05273716],\n",
       "          [-0.05373537],\n",
       "          [-0.05437121],\n",
       "          [-0.05463287],\n",
       "          [-0.05451312],\n",
       "          [-0.05400959],\n",
       "          [-0.05312507],\n",
       "          [-0.05186746],\n",
       "          [-0.05024997],\n",
       "          [-0.04829143],\n",
       "          [-0.04601518],\n",
       "          [-0.04344971],\n",
       "          [-0.04062721],\n",
       "          [-0.03758362],\n",
       "          [-0.03435818],\n",
       "          [-0.03099248],\n",
       "          [-0.02752944],\n",
       "          [-0.02401315],\n",
       "          [-0.0204875 ],\n",
       "          [-0.01699625],\n",
       "          [-0.01358161],\n",
       "          [-0.01028412],\n",
       "          [-0.00714183],\n",
       "          [-0.0041901 ],\n",
       "          [-0.00146127],\n",
       "          [ 0.00101561],\n",
       "          [ 0.0032152 ],\n",
       "          [ 0.00511591],\n",
       "          [ 0.0067    ],\n",
       "          [ 0.00795373],\n",
       "          [ 0.00886694],\n",
       "          [ 0.00943371],\n",
       "          [ 0.00965138],\n",
       "          [ 0.00952091],\n",
       "          [ 0.00904673],\n",
       "          [ 0.00823654],\n",
       "          [ 0.00710101],\n",
       "          [ 0.00565383],\n",
       "          [ 0.00391156],\n",
       "          [ 0.00189328],\n",
       "          [-0.00037966],\n",
       "          [-0.00288374],\n",
       "          [-0.00559349],\n",
       "          [-0.00848163],\n",
       "          [-0.01151906],\n",
       "          [-0.01467539],\n",
       "          [-0.01791886],\n",
       "          [-0.02121677],\n",
       "          [-0.02453528],\n",
       "          [-0.02784036],\n",
       "          [-0.03109724],\n",
       "          [-0.03427131],\n",
       "          [-0.03732807],\n",
       "          [-0.04023319],\n",
       "          [-0.04295339],\n",
       "          [-0.04545646],\n",
       "          [-0.04771185],\n",
       "          [-0.04969078],\n",
       "          [-0.05136699],\n",
       "          [-0.05271717],\n",
       "          [-0.05372126],\n",
       "          [-0.05436316],\n",
       "          [-0.05463105],\n",
       "          [-0.05451767],\n",
       "          [-0.05402046],\n",
       "          [-0.05314215],\n",
       "          [-0.05189059],\n",
       "          [-0.05027897],\n",
       "          [-0.04832578],\n",
       "          [-0.04605467],\n",
       "          [-0.04349368],\n",
       "          [-0.0406752 ],\n",
       "          [-0.03763502],\n",
       "          [-0.03441234],\n",
       "          [-0.03104858],\n",
       "          [-0.02758683],\n",
       "          [-0.02407106],\n",
       "          [-0.02054532],\n",
       "          [-0.01705321],\n",
       "          [-0.01363697],\n",
       "          [-0.01033719],\n",
       "          [-0.00719206],\n",
       "          [-0.00423694],\n",
       "          [-0.0015042 ],\n",
       "          [ 0.00097704],\n",
       "          [ 0.00318139],\n",
       "          [ 0.00508719],\n",
       "          [ 0.00667666],\n",
       "          [ 0.00793587],\n",
       "          [ 0.00885482],\n",
       "          [ 0.00942737],\n",
       "          [ 0.00965082],\n",
       "          [ 0.00952605],\n",
       "          [ 0.0090575 ],\n",
       "          [ 0.00825276],\n",
       "          [ 0.0071225 ],\n",
       "          [ 0.00568036],\n",
       "          [ 0.00394282],\n",
       "          [ 0.00192888],\n",
       "          [-0.00034006],\n",
       "          [-0.00284058],\n",
       "          [-0.0055472 ],\n",
       "          [-0.00843269],\n",
       "          [-0.01146797],\n",
       "          [-0.01462266],\n",
       "          [-0.017865  ]]),\n",
       "   'u': array([[1.11419216],\n",
       "          [1.11755721],\n",
       "          [1.11956933],\n",
       "          [1.12177099],\n",
       "          [1.12412892],\n",
       "          [1.12662507],\n",
       "          [1.1292281 ],\n",
       "          [1.13190512],\n",
       "          [1.13461545],\n",
       "          [1.1373532 ],\n",
       "          [1.14007577],\n",
       "          [1.14276071],\n",
       "          [1.14537743],\n",
       "          [1.14790041],\n",
       "          [1.15031579],\n",
       "          [1.15257767],\n",
       "          [1.15468707],\n",
       "          [1.1566094 ],\n",
       "          [1.15832993],\n",
       "          [1.15984126],\n",
       "          [1.16110797],\n",
       "          [1.16213538],\n",
       "          [1.16290577],\n",
       "          [1.16340951],\n",
       "          [1.16363524],\n",
       "          [1.16358731],\n",
       "          [1.16325188],\n",
       "          [1.16263068],\n",
       "          [1.1617395 ],\n",
       "          [1.16057091],\n",
       "          [1.15913313],\n",
       "          [1.15744733],\n",
       "          [1.15551491],\n",
       "          [1.15337462],\n",
       "          [1.15102655],\n",
       "          [1.14850601],\n",
       "          [1.14584113],\n",
       "          [1.14305749],\n",
       "          [1.14019454],\n",
       "          [1.13728103],\n",
       "          [1.13435602],\n",
       "          [1.13145002],\n",
       "          [1.12861106],\n",
       "          [1.12587309],\n",
       "          [1.12327187],\n",
       "          [1.12084148],\n",
       "          [1.11860466],\n",
       "          [1.11660976],\n",
       "          [1.11485918],\n",
       "          [1.11339471],\n",
       "          [1.11222466],\n",
       "          [1.11136288],\n",
       "          [1.11082131],\n",
       "          [1.11060664],\n",
       "          [1.11070401],\n",
       "          [1.11112398],\n",
       "          [1.11184452],\n",
       "          [1.11287463],\n",
       "          [1.11416536],\n",
       "          [1.11572712],\n",
       "          [1.11752131],\n",
       "          [1.11953228],\n",
       "          [1.12173549],\n",
       "          [1.12409395],\n",
       "          [1.12658988],\n",
       "          [1.1291841 ],\n",
       "          [1.13185857],\n",
       "          [1.13457679],\n",
       "          [1.13730692],\n",
       "          [1.14002938],\n",
       "          [1.1427141 ],\n",
       "          [1.14533343],\n",
       "          [1.14786294],\n",
       "          [1.15026763],\n",
       "          [1.15253871],\n",
       "          [1.15465196],\n",
       "          [1.15658092],\n",
       "          [1.15830268],\n",
       "          [1.159815  ],\n",
       "          [1.16109548],\n",
       "          [1.16212426],\n",
       "          [1.16289577],\n",
       "          [1.16340639],\n",
       "          [1.16363578],\n",
       "          [1.16358866],\n",
       "          [1.16326237],\n",
       "          [1.16264748],\n",
       "          [1.16175709],\n",
       "          [1.16058729],\n",
       "          [1.15915988],\n",
       "          [1.1574775 ],\n",
       "          [1.15555242],\n",
       "          [1.15341015],\n",
       "          [1.15106895],\n",
       "          [1.1485494 ],\n",
       "          [1.14588669],\n",
       "          [1.14310419],\n",
       "          [1.14024385],\n",
       "          [1.13732632],\n",
       "          [1.13440113],\n",
       "          [1.13149962],\n",
       "          [1.12865738],\n",
       "          [1.12591733],\n",
       "          [1.12330947],\n",
       "          [1.12087885],\n",
       "          [1.11864137],\n",
       "          [1.11663969],\n",
       "          [1.11488442],\n",
       "          [1.11341389],\n",
       "          [1.11224482],\n",
       "          [1.11138242],\n",
       "          [1.11083381],\n",
       "          [1.1106068 ],\n",
       "          [1.11070578],\n",
       "          [1.11111602],\n",
       "          [1.11183535],\n",
       "          [1.11284588],\n",
       "          [1.11414782],\n",
       "          [1.11570238],\n",
       "          [1.1174945 ],\n",
       "          [1.11949684],\n",
       "          [1.12169298],\n",
       "          [1.12404745],\n",
       "          [1.1265429 ],\n",
       "          [1.1291391 ],\n",
       "          [1.13181208],\n",
       "          [1.13453229],\n",
       "          [1.13726779],\n",
       "          [1.13998975],\n",
       "          [1.14267442],\n",
       "          [1.14529365],\n",
       "          [1.14782241],\n",
       "          [1.15023175],\n",
       "          [1.15250197],\n",
       "          [1.15462256],\n",
       "          [1.15655154],\n",
       "          [1.15828099],\n",
       "          [1.15979484],\n",
       "          [1.16107617],\n",
       "          [1.16210432],\n",
       "          [1.16288336],\n",
       "          [1.16339836],\n",
       "          [1.16363486],\n",
       "          [1.16359531],\n",
       "          [1.16326915],\n",
       "          [1.16265655],\n",
       "          [1.16177493],\n",
       "          [1.16061384],\n",
       "          [1.15918464],\n",
       "          [1.15750244],\n",
       "          [1.15558489],\n",
       "          [1.15344545],\n",
       "          [1.15110462],\n",
       "          [1.14859554],\n",
       "          [1.14593041],\n",
       "          [1.14315068],\n",
       "          [1.14028888],\n",
       "          [1.13737918],\n",
       "          [1.13445028],\n",
       "          [1.13155244],\n",
       "          [1.12870401],\n",
       "          [1.12596436],\n",
       "          [1.12335668],\n",
       "          [1.12091724],\n",
       "          [1.1186702 ],\n",
       "          [1.11666701],\n",
       "          [1.11491493],\n",
       "          [1.11344261],\n",
       "          [1.11226064],\n",
       "          [1.11139231],\n",
       "          [1.11083448],\n",
       "          [1.11061017],\n",
       "          [1.11069783],\n",
       "          [1.11109868],\n",
       "          [1.11181784],\n",
       "          [1.11283001],\n",
       "          [1.11412073],\n",
       "          [1.11566792],\n",
       "          [1.11745893],\n",
       "          [1.11946039],\n",
       "          [1.12165243],\n",
       "          [1.12401194],\n",
       "          [1.12649578],\n",
       "          [1.12909288],\n",
       "          [1.13176601],\n",
       "          [1.13448596],\n",
       "          [1.13722167],\n",
       "          [1.13994323],\n",
       "          [1.14262993],\n",
       "          [1.14524663],\n",
       "          [1.14777696],\n",
       "          [1.15019296],\n",
       "          [1.15246714],\n",
       "          [1.15458322],\n",
       "          [1.15651401],\n",
       "          [1.15825125],\n",
       "          [1.15976425],\n",
       "          [1.16105653],\n",
       "          [1.16209316],\n",
       "          [1.16287446]])}),\n",
       " (array([[ 1., -2.],\n",
       "         [ 1., -2.],\n",
       "         [ 1., -2.],\n",
       "         [ 1., -2.],\n",
       "         [ 1., -2.],\n",
       "         [ 1., -2.],\n",
       "         [ 1., -2.],\n",
       "         [ 1., -2.],\n",
       "         [ 1., -2.],\n",
       "         [ 1., -2.],\n",
       "         [ 1., -2.],\n",
       "         [ 1., -2.],\n",
       "         [ 1., -2.],\n",
       "         [ 1., -2.],\n",
       "         [ 1., -2.],\n",
       "         [ 1., -2.],\n",
       "         [ 1., -2.],\n",
       "         [ 1., -2.],\n",
       "         [ 1., -2.],\n",
       "         [ 1., -2.],\n",
       "         [ 1., -2.],\n",
       "         [ 1., -2.],\n",
       "         [ 1., -2.],\n",
       "         [ 1., -2.],\n",
       "         [ 1., -2.],\n",
       "         [ 1., -2.],\n",
       "         [ 1., -2.],\n",
       "         [ 1., -2.],\n",
       "         [ 1., -2.],\n",
       "         [ 1., -2.],\n",
       "         [ 1., -2.],\n",
       "         [ 1., -2.],\n",
       "         [ 1., -2.],\n",
       "         [ 1., -2.],\n",
       "         [ 1., -2.],\n",
       "         [ 1., -2.],\n",
       "         [ 1., -2.],\n",
       "         [ 1., -2.],\n",
       "         [ 1., -2.],\n",
       "         [ 1., -2.],\n",
       "         [ 1., -2.],\n",
       "         [ 1., -2.],\n",
       "         [ 1., -2.],\n",
       "         [ 1., -2.],\n",
       "         [ 1., -2.],\n",
       "         [ 1., -2.],\n",
       "         [ 1., -2.],\n",
       "         [ 1., -2.],\n",
       "         [ 1., -2.],\n",
       "         [ 1., -2.],\n",
       "         [ 1., -2.],\n",
       "         [ 1., -2.],\n",
       "         [ 1., -2.],\n",
       "         [ 1., -2.],\n",
       "         [ 1., -2.],\n",
       "         [ 1., -2.],\n",
       "         [ 1., -2.],\n",
       "         [ 1., -2.],\n",
       "         [ 1., -2.],\n",
       "         [ 1., -2.],\n",
       "         [ 1., -2.],\n",
       "         [ 1., -2.],\n",
       "         [ 1., -2.],\n",
       "         [ 1., -2.],\n",
       "         [ 1., -2.],\n",
       "         [ 1., -2.],\n",
       "         [ 1., -2.],\n",
       "         [ 1., -2.],\n",
       "         [ 1., -2.],\n",
       "         [ 1., -2.],\n",
       "         [ 1., -2.],\n",
       "         [ 1., -2.],\n",
       "         [ 1., -2.],\n",
       "         [ 1., -2.],\n",
       "         [ 1., -2.],\n",
       "         [ 1., -2.],\n",
       "         [ 1., -2.],\n",
       "         [ 1., -2.],\n",
       "         [ 1., -2.],\n",
       "         [ 1., -2.],\n",
       "         [ 1., -2.],\n",
       "         [ 1., -2.],\n",
       "         [ 1., -2.],\n",
       "         [ 1., -2.],\n",
       "         [ 1., -2.],\n",
       "         [ 1., -2.],\n",
       "         [ 1., -2.],\n",
       "         [ 1., -2.],\n",
       "         [ 1., -2.],\n",
       "         [ 1., -2.],\n",
       "         [ 1., -2.],\n",
       "         [ 1., -2.],\n",
       "         [ 1., -2.],\n",
       "         [ 1., -2.],\n",
       "         [ 1., -2.],\n",
       "         [ 1., -2.],\n",
       "         [ 1., -2.],\n",
       "         [ 1., -2.],\n",
       "         [ 1., -2.],\n",
       "         [ 1., -2.],\n",
       "         [ 1., -2.],\n",
       "         [ 1., -2.],\n",
       "         [ 1., -2.],\n",
       "         [ 1., -2.],\n",
       "         [ 1., -2.],\n",
       "         [ 1., -2.],\n",
       "         [ 1., -2.],\n",
       "         [ 1., -2.],\n",
       "         [ 1., -2.],\n",
       "         [ 1., -2.],\n",
       "         [ 1., -2.],\n",
       "         [ 1., -2.],\n",
       "         [ 1., -2.],\n",
       "         [ 1., -2.],\n",
       "         [ 1., -2.],\n",
       "         [ 1., -2.],\n",
       "         [ 1., -2.],\n",
       "         [ 1., -2.],\n",
       "         [ 1., -2.],\n",
       "         [ 1., -2.],\n",
       "         [ 1., -2.],\n",
       "         [ 1., -2.],\n",
       "         [ 1., -2.],\n",
       "         [ 1., -2.],\n",
       "         [ 1., -2.],\n",
       "         [ 1., -2.],\n",
       "         [ 1., -2.],\n",
       "         [ 1., -2.],\n",
       "         [ 1., -2.],\n",
       "         [ 1., -2.],\n",
       "         [ 1., -2.],\n",
       "         [ 1., -2.],\n",
       "         [ 1., -2.],\n",
       "         [ 1., -2.],\n",
       "         [ 1., -2.],\n",
       "         [ 1., -2.],\n",
       "         [ 1., -2.],\n",
       "         [ 1., -2.],\n",
       "         [ 1., -2.],\n",
       "         [ 1., -2.],\n",
       "         [ 1., -2.],\n",
       "         [ 1., -2.],\n",
       "         [ 1., -2.],\n",
       "         [ 1., -2.],\n",
       "         [ 1., -2.],\n",
       "         [ 1., -2.],\n",
       "         [ 1., -2.],\n",
       "         [ 1., -2.],\n",
       "         [ 1., -2.],\n",
       "         [ 1., -2.],\n",
       "         [ 1., -2.],\n",
       "         [ 1., -2.],\n",
       "         [ 1., -2.],\n",
       "         [ 1., -2.],\n",
       "         [ 1., -2.],\n",
       "         [ 1., -2.],\n",
       "         [ 1., -2.],\n",
       "         [ 1., -2.],\n",
       "         [ 1., -2.],\n",
       "         [ 1., -2.],\n",
       "         [ 1., -2.],\n",
       "         [ 1., -2.],\n",
       "         [ 1., -2.],\n",
       "         [ 1., -2.],\n",
       "         [ 1., -2.],\n",
       "         [ 1., -2.],\n",
       "         [ 1., -2.],\n",
       "         [ 1., -2.],\n",
       "         [ 1., -2.],\n",
       "         [ 1., -2.],\n",
       "         [ 1., -2.],\n",
       "         [ 1., -2.],\n",
       "         [ 1., -2.],\n",
       "         [ 1., -2.],\n",
       "         [ 1., -2.],\n",
       "         [ 1., -2.],\n",
       "         [ 1., -2.],\n",
       "         [ 1., -2.],\n",
       "         [ 1., -2.],\n",
       "         [ 1., -2.],\n",
       "         [ 1., -2.],\n",
       "         [ 1., -2.],\n",
       "         [ 1., -2.],\n",
       "         [ 1., -2.],\n",
       "         [ 1., -2.],\n",
       "         [ 1., -2.],\n",
       "         [ 1., -2.],\n",
       "         [ 1., -2.],\n",
       "         [ 1., -2.],\n",
       "         [ 1., -2.],\n",
       "         [ 1., -2.],\n",
       "         [ 1., -2.],\n",
       "         [ 1., -2.],\n",
       "         [ 1., -2.],\n",
       "         [ 1., -2.],\n",
       "         [ 1., -2.],\n",
       "         [ 1., -2.],\n",
       "         [ 1., -2.],\n",
       "         [ 1., -2.],\n",
       "         [ 1., -2.]]),\n",
       "  array([[ 0. ],\n",
       "         [ 0.1],\n",
       "         [ 0.2],\n",
       "         [ 0.3],\n",
       "         [ 0.4],\n",
       "         [ 0.5],\n",
       "         [ 0.6],\n",
       "         [ 0.7],\n",
       "         [ 0.8],\n",
       "         [ 0.9],\n",
       "         [ 1. ],\n",
       "         [ 1.1],\n",
       "         [ 1.2],\n",
       "         [ 1.3],\n",
       "         [ 1.4],\n",
       "         [ 1.5],\n",
       "         [ 1.6],\n",
       "         [ 1.7],\n",
       "         [ 1.8],\n",
       "         [ 1.9],\n",
       "         [ 2. ],\n",
       "         [ 2.1],\n",
       "         [ 2.2],\n",
       "         [ 2.3],\n",
       "         [ 2.4],\n",
       "         [ 2.5],\n",
       "         [ 2.6],\n",
       "         [ 2.7],\n",
       "         [ 2.8],\n",
       "         [ 2.9],\n",
       "         [ 3. ],\n",
       "         [ 3.1],\n",
       "         [ 3.2],\n",
       "         [ 3.3],\n",
       "         [ 3.4],\n",
       "         [ 3.5],\n",
       "         [ 3.6],\n",
       "         [ 3.7],\n",
       "         [ 3.8],\n",
       "         [ 3.9],\n",
       "         [ 4. ],\n",
       "         [ 4.1],\n",
       "         [ 4.2],\n",
       "         [ 4.3],\n",
       "         [ 4.4],\n",
       "         [ 4.5],\n",
       "         [ 4.6],\n",
       "         [ 4.7],\n",
       "         [ 4.8],\n",
       "         [ 4.9],\n",
       "         [ 5. ],\n",
       "         [ 5.1],\n",
       "         [ 5.2],\n",
       "         [ 5.3],\n",
       "         [ 5.4],\n",
       "         [ 5.5],\n",
       "         [ 5.6],\n",
       "         [ 5.7],\n",
       "         [ 5.8],\n",
       "         [ 5.9],\n",
       "         [ 6. ],\n",
       "         [ 6.1],\n",
       "         [ 6.2],\n",
       "         [ 6.3],\n",
       "         [ 6.4],\n",
       "         [ 6.5],\n",
       "         [ 6.6],\n",
       "         [ 6.7],\n",
       "         [ 6.8],\n",
       "         [ 6.9],\n",
       "         [ 7. ],\n",
       "         [ 7.1],\n",
       "         [ 7.2],\n",
       "         [ 7.3],\n",
       "         [ 7.4],\n",
       "         [ 7.5],\n",
       "         [ 7.6],\n",
       "         [ 7.7],\n",
       "         [ 7.8],\n",
       "         [ 7.9],\n",
       "         [ 8. ],\n",
       "         [ 8.1],\n",
       "         [ 8.2],\n",
       "         [ 8.3],\n",
       "         [ 8.4],\n",
       "         [ 8.5],\n",
       "         [ 8.6],\n",
       "         [ 8.7],\n",
       "         [ 8.8],\n",
       "         [ 8.9],\n",
       "         [ 9. ],\n",
       "         [ 9.1],\n",
       "         [ 9.2],\n",
       "         [ 9.3],\n",
       "         [ 9.4],\n",
       "         [ 9.5],\n",
       "         [ 9.6],\n",
       "         [ 9.7],\n",
       "         [ 9.8],\n",
       "         [ 9.9],\n",
       "         [10. ],\n",
       "         [10.1],\n",
       "         [10.2],\n",
       "         [10.3],\n",
       "         [10.4],\n",
       "         [10.5],\n",
       "         [10.6],\n",
       "         [10.7],\n",
       "         [10.8],\n",
       "         [10.9],\n",
       "         [11. ],\n",
       "         [11.1],\n",
       "         [11.2],\n",
       "         [11.3],\n",
       "         [11.4],\n",
       "         [11.5],\n",
       "         [11.6],\n",
       "         [11.7],\n",
       "         [11.8],\n",
       "         [11.9],\n",
       "         [12. ],\n",
       "         [12.1],\n",
       "         [12.2],\n",
       "         [12.3],\n",
       "         [12.4],\n",
       "         [12.5],\n",
       "         [12.6],\n",
       "         [12.7],\n",
       "         [12.8],\n",
       "         [12.9],\n",
       "         [13. ],\n",
       "         [13.1],\n",
       "         [13.2],\n",
       "         [13.3],\n",
       "         [13.4],\n",
       "         [13.5],\n",
       "         [13.6],\n",
       "         [13.7],\n",
       "         [13.8],\n",
       "         [13.9],\n",
       "         [14. ],\n",
       "         [14.1],\n",
       "         [14.2],\n",
       "         [14.3],\n",
       "         [14.4],\n",
       "         [14.5],\n",
       "         [14.6],\n",
       "         [14.7],\n",
       "         [14.8],\n",
       "         [14.9],\n",
       "         [15. ],\n",
       "         [15.1],\n",
       "         [15.2],\n",
       "         [15.3],\n",
       "         [15.4],\n",
       "         [15.5],\n",
       "         [15.6],\n",
       "         [15.7],\n",
       "         [15.8],\n",
       "         [15.9],\n",
       "         [16. ],\n",
       "         [16.1],\n",
       "         [16.2],\n",
       "         [16.3],\n",
       "         [16.4],\n",
       "         [16.5],\n",
       "         [16.6],\n",
       "         [16.7],\n",
       "         [16.8],\n",
       "         [16.9],\n",
       "         [17. ],\n",
       "         [17.1],\n",
       "         [17.2],\n",
       "         [17.3],\n",
       "         [17.4],\n",
       "         [17.5],\n",
       "         [17.6],\n",
       "         [17.7],\n",
       "         [17.8],\n",
       "         [17.9],\n",
       "         [18. ],\n",
       "         [18.1],\n",
       "         [18.2],\n",
       "         [18.3],\n",
       "         [18.4],\n",
       "         [18.5],\n",
       "         [18.6],\n",
       "         [18.7],\n",
       "         [18.8],\n",
       "         [18.9],\n",
       "         [19. ],\n",
       "         [19.1],\n",
       "         [19.2],\n",
       "         [19.3],\n",
       "         [19.4],\n",
       "         [19.5],\n",
       "         [19.6],\n",
       "         [19.7],\n",
       "         [19.8],\n",
       "         [19.9]]),\n",
       "  {'v': array([[-0.0040965 ],\n",
       "          [ 0.00109213],\n",
       "          [ 0.00328232],\n",
       "          [ 0.005173  ],\n",
       "          [ 0.00674659],\n",
       "          [ 0.00798929],\n",
       "          [ 0.00889127],\n",
       "          [ 0.00944654],\n",
       "          [ 0.00965274],\n",
       "          [ 0.00951096],\n",
       "          [ 0.00902566],\n",
       "          [ 0.00820458],\n",
       "          [ 0.00705858],\n",
       "          [ 0.00560144],\n",
       "          [ 0.00384975],\n",
       "          [ 0.00182271],\n",
       "          [-0.00045825],\n",
       "          [-0.00296951],\n",
       "          [-0.00568559],\n",
       "          [-0.00857908],\n",
       "          [-0.01162094],\n",
       "          [-0.0147807 ],\n",
       "          [-0.01802651],\n",
       "          [-0.02132563],\n",
       "          [-0.02464439],\n",
       "          [-0.02794844],\n",
       "          [-0.03120314],\n",
       "          [-0.03437397],\n",
       "          [-0.0374262 ],\n",
       "          [-0.04032577],\n",
       "          [-0.04303927],\n",
       "          [-0.04553471],\n",
       "          [-0.04778137],\n",
       "          [-0.04975078],\n",
       "          [-0.05141675],\n",
       "          [-0.05275583],\n",
       "          [-0.05374829],\n",
       "          [-0.0543782 ],\n",
       "          [-0.05463362],\n",
       "          [-0.05450765],\n",
       "          [-0.05399782],\n",
       "          [-0.05310716],\n",
       "          [-0.05184344],\n",
       "          [-0.05022022],\n",
       "          [-0.04825622],\n",
       "          [-0.04597496],\n",
       "          [-0.04340504],\n",
       "          [-0.0405786 ],\n",
       "          [-0.03753179],\n",
       "          [-0.0343037 ],\n",
       "          [-0.03093606],\n",
       "          [-0.0274718 ],\n",
       "          [-0.02395506],\n",
       "          [-0.02042972],\n",
       "          [-0.01693941],\n",
       "          [-0.01352641],\n",
       "          [-0.01023119],\n",
       "          [-0.00709177],\n",
       "          [-0.00414345],\n",
       "          [-0.00141855],\n",
       "          [ 0.00105399],\n",
       "          [ 0.00324886],\n",
       "          [ 0.00514452],\n",
       "          [ 0.00672334],\n",
       "          [ 0.00797147],\n",
       "          [ 0.00887911],\n",
       "          [ 0.00944013],\n",
       "          [ 0.00965211],\n",
       "          [ 0.00951591],\n",
       "          [ 0.00903612],\n",
       "          [ 0.00822038],\n",
       "          [ 0.00707956],\n",
       "          [ 0.00562742],\n",
       "          [ 0.00388044],\n",
       "          [ 0.00185776],\n",
       "          [-0.00041919],\n",
       "          [-0.00292689],\n",
       "          [-0.00563984],\n",
       "          [-0.00853067],\n",
       "          [-0.01157036],\n",
       "          [-0.01472838],\n",
       "          [-0.01797305],\n",
       "          [-0.02127156],\n",
       "          [-0.02459023],\n",
       "          [-0.0278948 ],\n",
       "          [-0.03115067],\n",
       "          [-0.03432315],\n",
       "          [-0.03737771],\n",
       "          [-0.04028016],\n",
       "          [-0.04299701],\n",
       "          [-0.04549626],\n",
       "          [-0.0477473 ],\n",
       "          [-0.04972148],\n",
       "          [-0.05139258],\n",
       "          [-0.05273716],\n",
       "          [-0.05373537],\n",
       "          [-0.05437121],\n",
       "          [-0.05463287],\n",
       "          [-0.05451312],\n",
       "          [-0.05400959],\n",
       "          [-0.05312507],\n",
       "          [-0.05186746],\n",
       "          [-0.05024997],\n",
       "          [-0.04829143],\n",
       "          [-0.04601518],\n",
       "          [-0.04344971],\n",
       "          [-0.04062721],\n",
       "          [-0.03758362],\n",
       "          [-0.03435818],\n",
       "          [-0.03099248],\n",
       "          [-0.02752944],\n",
       "          [-0.02401315],\n",
       "          [-0.0204875 ],\n",
       "          [-0.01699625],\n",
       "          [-0.01358161],\n",
       "          [-0.01028412],\n",
       "          [-0.00714183],\n",
       "          [-0.0041901 ],\n",
       "          [-0.00146127],\n",
       "          [ 0.00101561],\n",
       "          [ 0.0032152 ],\n",
       "          [ 0.00511591],\n",
       "          [ 0.0067    ],\n",
       "          [ 0.00795373],\n",
       "          [ 0.00886694],\n",
       "          [ 0.00943371],\n",
       "          [ 0.00965138],\n",
       "          [ 0.00952091],\n",
       "          [ 0.00904673],\n",
       "          [ 0.00823654],\n",
       "          [ 0.00710101],\n",
       "          [ 0.00565383],\n",
       "          [ 0.00391156],\n",
       "          [ 0.00189328],\n",
       "          [-0.00037966],\n",
       "          [-0.00288374],\n",
       "          [-0.00559349],\n",
       "          [-0.00848163],\n",
       "          [-0.01151906],\n",
       "          [-0.01467539],\n",
       "          [-0.01791886],\n",
       "          [-0.02121677],\n",
       "          [-0.02453528],\n",
       "          [-0.02784036],\n",
       "          [-0.03109724],\n",
       "          [-0.03427131],\n",
       "          [-0.03732807],\n",
       "          [-0.04023319],\n",
       "          [-0.04295339],\n",
       "          [-0.04545646],\n",
       "          [-0.04771185],\n",
       "          [-0.04969078],\n",
       "          [-0.05136699],\n",
       "          [-0.05271717],\n",
       "          [-0.05372126],\n",
       "          [-0.05436316],\n",
       "          [-0.05463105],\n",
       "          [-0.05451767],\n",
       "          [-0.05402046],\n",
       "          [-0.05314215],\n",
       "          [-0.05189059],\n",
       "          [-0.05027897],\n",
       "          [-0.04832578],\n",
       "          [-0.04605467],\n",
       "          [-0.04349368],\n",
       "          [-0.0406752 ],\n",
       "          [-0.03763502],\n",
       "          [-0.03441234],\n",
       "          [-0.03104858],\n",
       "          [-0.02758683],\n",
       "          [-0.02407106],\n",
       "          [-0.02054532],\n",
       "          [-0.01705321],\n",
       "          [-0.01363697],\n",
       "          [-0.01033719],\n",
       "          [-0.00719206],\n",
       "          [-0.00423694],\n",
       "          [-0.0015042 ],\n",
       "          [ 0.00097704],\n",
       "          [ 0.00318139],\n",
       "          [ 0.00508719],\n",
       "          [ 0.00667666],\n",
       "          [ 0.00793587],\n",
       "          [ 0.00885482],\n",
       "          [ 0.00942737],\n",
       "          [ 0.00965082],\n",
       "          [ 0.00952605],\n",
       "          [ 0.0090575 ],\n",
       "          [ 0.00825276],\n",
       "          [ 0.0071225 ],\n",
       "          [ 0.00568036],\n",
       "          [ 0.00394282],\n",
       "          [ 0.00192888],\n",
       "          [-0.00034006],\n",
       "          [-0.00284058],\n",
       "          [-0.0055472 ],\n",
       "          [-0.00843269],\n",
       "          [-0.01146797],\n",
       "          [-0.01462266],\n",
       "          [-0.017865  ]]),\n",
       "   'u': array([[1.11419216],\n",
       "          [1.11755721],\n",
       "          [1.11956933],\n",
       "          [1.12177099],\n",
       "          [1.12412892],\n",
       "          [1.12662507],\n",
       "          [1.1292281 ],\n",
       "          [1.13190512],\n",
       "          [1.13461545],\n",
       "          [1.1373532 ],\n",
       "          [1.14007577],\n",
       "          [1.14276071],\n",
       "          [1.14537743],\n",
       "          [1.14790041],\n",
       "          [1.15031579],\n",
       "          [1.15257767],\n",
       "          [1.15468707],\n",
       "          [1.1566094 ],\n",
       "          [1.15832993],\n",
       "          [1.15984126],\n",
       "          [1.16110797],\n",
       "          [1.16213538],\n",
       "          [1.16290577],\n",
       "          [1.16340951],\n",
       "          [1.16363524],\n",
       "          [1.16358731],\n",
       "          [1.16325188],\n",
       "          [1.16263068],\n",
       "          [1.1617395 ],\n",
       "          [1.16057091],\n",
       "          [1.15913313],\n",
       "          [1.15744733],\n",
       "          [1.15551491],\n",
       "          [1.15337462],\n",
       "          [1.15102655],\n",
       "          [1.14850601],\n",
       "          [1.14584113],\n",
       "          [1.14305749],\n",
       "          [1.14019454],\n",
       "          [1.13728103],\n",
       "          [1.13435602],\n",
       "          [1.13145002],\n",
       "          [1.12861106],\n",
       "          [1.12587309],\n",
       "          [1.12327187],\n",
       "          [1.12084148],\n",
       "          [1.11860466],\n",
       "          [1.11660976],\n",
       "          [1.11485918],\n",
       "          [1.11339471],\n",
       "          [1.11222466],\n",
       "          [1.11136288],\n",
       "          [1.11082131],\n",
       "          [1.11060664],\n",
       "          [1.11070401],\n",
       "          [1.11112398],\n",
       "          [1.11184452],\n",
       "          [1.11287463],\n",
       "          [1.11416536],\n",
       "          [1.11572712],\n",
       "          [1.11752131],\n",
       "          [1.11953228],\n",
       "          [1.12173549],\n",
       "          [1.12409395],\n",
       "          [1.12658988],\n",
       "          [1.1291841 ],\n",
       "          [1.13185857],\n",
       "          [1.13457679],\n",
       "          [1.13730692],\n",
       "          [1.14002938],\n",
       "          [1.1427141 ],\n",
       "          [1.14533343],\n",
       "          [1.14786294],\n",
       "          [1.15026763],\n",
       "          [1.15253871],\n",
       "          [1.15465196],\n",
       "          [1.15658092],\n",
       "          [1.15830268],\n",
       "          [1.159815  ],\n",
       "          [1.16109548],\n",
       "          [1.16212426],\n",
       "          [1.16289577],\n",
       "          [1.16340639],\n",
       "          [1.16363578],\n",
       "          [1.16358866],\n",
       "          [1.16326237],\n",
       "          [1.16264748],\n",
       "          [1.16175709],\n",
       "          [1.16058729],\n",
       "          [1.15915988],\n",
       "          [1.1574775 ],\n",
       "          [1.15555242],\n",
       "          [1.15341015],\n",
       "          [1.15106895],\n",
       "          [1.1485494 ],\n",
       "          [1.14588669],\n",
       "          [1.14310419],\n",
       "          [1.14024385],\n",
       "          [1.13732632],\n",
       "          [1.13440113],\n",
       "          [1.13149962],\n",
       "          [1.12865738],\n",
       "          [1.12591733],\n",
       "          [1.12330947],\n",
       "          [1.12087885],\n",
       "          [1.11864137],\n",
       "          [1.11663969],\n",
       "          [1.11488442],\n",
       "          [1.11341389],\n",
       "          [1.11224482],\n",
       "          [1.11138242],\n",
       "          [1.11083381],\n",
       "          [1.1106068 ],\n",
       "          [1.11070578],\n",
       "          [1.11111602],\n",
       "          [1.11183535],\n",
       "          [1.11284588],\n",
       "          [1.11414782],\n",
       "          [1.11570238],\n",
       "          [1.1174945 ],\n",
       "          [1.11949684],\n",
       "          [1.12169298],\n",
       "          [1.12404745],\n",
       "          [1.1265429 ],\n",
       "          [1.1291391 ],\n",
       "          [1.13181208],\n",
       "          [1.13453229],\n",
       "          [1.13726779],\n",
       "          [1.13998975],\n",
       "          [1.14267442],\n",
       "          [1.14529365],\n",
       "          [1.14782241],\n",
       "          [1.15023175],\n",
       "          [1.15250197],\n",
       "          [1.15462256],\n",
       "          [1.15655154],\n",
       "          [1.15828099],\n",
       "          [1.15979484],\n",
       "          [1.16107617],\n",
       "          [1.16210432],\n",
       "          [1.16288336],\n",
       "          [1.16339836],\n",
       "          [1.16363486],\n",
       "          [1.16359531],\n",
       "          [1.16326915],\n",
       "          [1.16265655],\n",
       "          [1.16177493],\n",
       "          [1.16061384],\n",
       "          [1.15918464],\n",
       "          [1.15750244],\n",
       "          [1.15558489],\n",
       "          [1.15344545],\n",
       "          [1.15110462],\n",
       "          [1.14859554],\n",
       "          [1.14593041],\n",
       "          [1.14315068],\n",
       "          [1.14028888],\n",
       "          [1.13737918],\n",
       "          [1.13445028],\n",
       "          [1.13155244],\n",
       "          [1.12870401],\n",
       "          [1.12596436],\n",
       "          [1.12335668],\n",
       "          [1.12091724],\n",
       "          [1.1186702 ],\n",
       "          [1.11666701],\n",
       "          [1.11491493],\n",
       "          [1.11344261],\n",
       "          [1.11226064],\n",
       "          [1.11139231],\n",
       "          [1.11083448],\n",
       "          [1.11061017],\n",
       "          [1.11069783],\n",
       "          [1.11109868],\n",
       "          [1.11181784],\n",
       "          [1.11283001],\n",
       "          [1.11412073],\n",
       "          [1.11566792],\n",
       "          [1.11745893],\n",
       "          [1.11946039],\n",
       "          [1.12165243],\n",
       "          [1.12401194],\n",
       "          [1.12649578],\n",
       "          [1.12909288],\n",
       "          [1.13176601],\n",
       "          [1.13448596],\n",
       "          [1.13722167],\n",
       "          [1.13994323],\n",
       "          [1.14262993],\n",
       "          [1.14524663],\n",
       "          [1.14777696],\n",
       "          [1.15019296],\n",
       "          [1.15246714],\n",
       "          [1.15458322],\n",
       "          [1.15651401],\n",
       "          [1.15825125],\n",
       "          [1.15976425],\n",
       "          [1.16105653],\n",
       "          [1.16209316],\n",
       "          [1.16287446]])}))"
      ]
     },
     "execution_count": 25,
     "metadata": {},
     "output_type": "execute_result"
    }
   ],
   "source": [
    "pc.on_lower_boundary(['v', 'u']), mesh.on_lower_boundary(['v', 'u'])"
   ]
  },
  {
   "cell_type": "code",
   "execution_count": null,
   "id": "4a9d4edb-bcc4-429f-9fbc-f3b11114bdc8",
   "metadata": {},
   "outputs": [],
   "source": [
    "data = load_data('data', 'cylinder_nektar_wake.mat')"
   ]
  },
  {
   "cell_type": "code",
   "execution_count": 5,
   "id": "4e6a4513-53c7-4f73-803a-4e8398503913",
   "metadata": {},
   "outputs": [
    {
     "data": {
      "text/plain": [
       "(200, 1)"
      ]
     },
     "execution_count": 5,
     "metadata": {},
     "output_type": "execute_result"
    }
   ],
   "source": [
    "data['t'].shape"
   ]
  },
  {
   "cell_type": "code",
   "execution_count": 6,
   "id": "e1037fbd-f30a-4821-8c44-abccac8e6247",
   "metadata": {},
   "outputs": [
    {
     "data": {
      "text/plain": [
       "(5000, 2, 200)"
      ]
     },
     "execution_count": 6,
     "metadata": {},
     "output_type": "execute_result"
    }
   ],
   "source": [
    "data['U_star'].shape"
   ]
  },
  {
   "cell_type": "code",
   "execution_count": 19,
   "id": "ccc24ba1-25b9-4dcf-9c1b-9ad79e945f8c",
   "metadata": {},
   "outputs": [],
   "source": [
    "td = TimeDomain([0, 19.9], 200)\n",
    "sd = Rectangle([1, 8],[-2, 2], [100, 50])"
   ]
  },
  {
   "cell_type": "code",
   "execution_count": 8,
   "id": "cb3ae9cb-19a8-448a-ae8c-3a2dbcafdeac",
   "metadata": {},
   "outputs": [
    {
     "name": "stdout",
     "output_type": "stream",
     "text": [
      "First argument: hello\n",
      "Positional arguments: (1, 2, 3)\n",
      "Keyword arguments: {'a': 10, 'b': 20}\n",
      "Keyword arguments: 10\n"
     ]
    }
   ],
   "source": [
    "def my_function(first_arg, *args, **kwargs):\n",
    "    print(\"First argument:\", first_arg)\n",
    "    print(\"Positional arguments:\", args)\n",
    "    print(\"Keyword arguments:\", kwargs)\n",
    "    print(\"Keyword arguments:\", kwargs['a'])\n",
    "\n",
    "my_function('hello', 1, 2, 3, a=10, b=20)\n",
    "# Output:\n",
    "# First argument: hello\n",
    "# Positional arguments: (1, 2, 3)\n",
    "# Keyword arguments: {'a': 10, 'b': 20}"
   ]
  },
  {
   "cell_type": "code",
   "execution_count": 9,
   "id": "98a743c8-7778-48f4-9066-5c78d9e216ba",
   "metadata": {},
   "outputs": [
    {
     "name": "stdout",
     "output_type": "stream",
     "text": [
      "Size of my_variable: 120 bytes\n"
     ]
    }
   ],
   "source": [
    "import sys\n",
    "\n",
    "my_variable = [1, 2, 3, 4, 5]\n",
    "size = sys.getsizeof(my_variable)\n",
    "\n",
    "print(f\"Size of my_variable: {size} bytes\")"
   ]
  },
  {
   "cell_type": "code",
   "execution_count": 20,
   "id": "03948bc6-eb3b-44b7-9cc3-fe3d2d7a5494",
   "metadata": {},
   "outputs": [],
   "source": [
    "sd = Rectangle([1, 8],[-2, 2], [100, 50])"
   ]
  },
  {
   "cell_type": "code",
   "execution_count": 21,
   "id": "626b136a-eafc-497e-ae5c-96932064d9fe",
   "metadata": {},
   "outputs": [],
   "source": [
    "mesh = Mesh(root_dir='data', time_domain = td,\n",
    "                                         spatial_domain = sd,\n",
    "                                         read_data_fn = read_data_fn_2)"
   ]
  },
  {
   "cell_type": "code",
   "execution_count": 33,
   "id": "7f179236-d9c5-4059-b7b7-05348d8f5479",
   "metadata": {},
   "outputs": [],
   "source": [
    "x, t, u = mesh.flatten_mesh(['u', 'v'])\n",
    "xx, tt, uu = pc.flatten_mesh(['u', 'v'])"
   ]
  },
  {
   "cell_type": "code",
   "execution_count": 47,
   "id": "bda589a1-09ca-488b-9e72-89dd81cb39d9",
   "metadata": {},
   "outputs": [
    {
     "data": {
      "text/plain": [
       "[<matplotlib.lines.Line2D at 0x7f791385e2e0>]"
      ]
     },
     "execution_count": 47,
     "metadata": {},
     "output_type": "execute_result"
    },
    {
     "data": {
      "image/png": "[encoded data removed]",
      "text/plain": [
       "<Figure size 640x480 with 1 Axes>"
      ]
     },
     "metadata": {},
     "output_type": "display_data"
    }
   ],
   "source": [
    "plt.plot(uu['u'])"
   ]
  },
  {
   "cell_type": "code",
   "execution_count": 48,
   "id": "8b35b522-465a-44c8-9f1b-94be36e687ab",
   "metadata": {},
   "outputs": [
    {
     "data": {
      "text/plain": [
       "[4, 250, 250, 250, 250, 250, 250, 250, 250, 250, 250, 5]"
      ]
     },
     "execution_count": 48,
     "metadata": {},
     "output_type": "execute_result"
    }
   ],
   "source": [
    " [4] + 10*[5*50] + [5]"
   ]
  },
  {
   "cell_type": "code",
   "execution_count": 34,
   "id": "0ec45b47-9dac-4b03-bce2-cd7c04fc784a",
   "metadata": {},
   "outputs": [
    {
     "data": {
      "text/plain": [
       "array([[0.],\n",
       "       [0.],\n",
       "       [0.],\n",
       "       ...,\n",
       "       [0.],\n",
       "       [0.],\n",
       "       [0.]])"
      ]
     },
     "execution_count": 34,
     "metadata": {},
     "output_type": "execute_result"
    }
   ],
   "source": [
    "uu['u'] - u['u']"
   ]
  },
  {
   "cell_type": "code",
   "execution_count": null,
   "id": "02f3a604-0e07-48c5-b32d-69f988f59604",
   "metadata": {},
   "outputs": [],
   "source": [
    "pb = PeriodicBoundaryCondition(mesh, num_sample=50, derivative_order = 1)"
   ]
  },
  {
   "cell_type": "code",
   "execution_count": 11,
   "id": "c8c5192b-8981-41f1-8a38-d83eaab95bd5",
   "metadata": {},
   "outputs": [],
   "source": [
    "ic = InitialCondition(mesh, num_sample=50, solution='u')"
   ]
  },
  {
   "cell_type": "code",
   "execution_count": 20,
   "id": "d61b5c37-4cdc-4f74-83a3-5e2e18c64fd6",
   "metadata": {},
   "outputs": [],
   "source": [
    "a = np.zeros([50, 1])"
   ]
  },
  {
   "cell_type": "code",
   "execution_count": 20,
   "id": "1fee6558-69b9-4765-99ed-3f3bc657cb3f",
   "metadata": {},
   "outputs": [],
   "source": [
    "idx = np.random.choice(50, 30, replace=False)"
   ]
  },
  {
   "cell_type": "code",
   "execution_count": 21,
   "id": "3f9d91cc-f8e4-4658-aef4-deb028caa9fc",
   "metadata": {},
   "outputs": [
    {
     "data": {
      "text/plain": [
       "array([34, 27,  1,  2, 14,  3, 15, 45, 16, 19, 12, 36, 43, 17,  5, 11,  8,\n",
       "       13, 25, 40, 47, 32, 10, 42, 29,  9, 37,  0, 21,  4])"
      ]
     },
     "execution_count": 21,
     "metadata": {},
     "output_type": "execute_result"
    }
   ],
   "source": [
    "idx"
   ]
  },
  {
   "cell_type": "code",
   "execution_count": 31,
   "id": "cdb77674-1543-44a7-857c-c390c2732897",
   "metadata": {},
   "outputs": [
    {
     "data": {
      "text/plain": [
       "(1,)"
      ]
     },
     "execution_count": 31,
     "metadata": {},
     "output_type": "execute_result"
    }
   ],
   "source": [
    "a[0, :].shape"
   ]
  },
  {
   "cell_type": "code",
   "execution_count": 22,
   "id": "cabefbb2-f603-499d-adf4-6b2904fff1f4",
   "metadata": {},
   "outputs": [
    {
     "data": {
      "text/plain": [
       "([tensor([[1.7071],\n",
       "          [5.9495],\n",
       "          [6.8687],\n",
       "          [1.0707],\n",
       "          [2.6970],\n",
       "          [4.5354],\n",
       "          [4.1818],\n",
       "          [1.6364],\n",
       "          [4.3232],\n",
       "          [4.6061],\n",
       "          [5.3131],\n",
       "          [7.0101],\n",
       "          [1.9192],\n",
       "          [4.7475],\n",
       "          [5.5253],\n",
       "          [3.6162],\n",
       "          [6.5859],\n",
       "          [3.6869],\n",
       "          [7.2929],\n",
       "          [1.2828],\n",
       "          [5.0303],\n",
       "          [5.3131],\n",
       "          [2.8384],\n",
       "          [3.9697],\n",
       "          [3.5455],\n",
       "          [5.1010],\n",
       "          [3.8990],\n",
       "          [1.7071],\n",
       "          [5.8081],\n",
       "          [2.8384]]),\n",
       "  tensor([[ 0.6122],\n",
       "          [ 0.2857],\n",
       "          [-0.3673],\n",
       "          [-0.4490],\n",
       "          [-0.1224],\n",
       "          [ 0.6939],\n",
       "          [ 1.7551],\n",
       "          [ 0.4490],\n",
       "          [ 1.2653],\n",
       "          [-0.6939],\n",
       "          [ 1.5918],\n",
       "          [ 0.4490],\n",
       "          [ 1.1837],\n",
       "          [-1.5918],\n",
       "          [-0.7755],\n",
       "          [-1.1837],\n",
       "          [-1.1020],\n",
       "          [ 0.2041],\n",
       "          [ 1.9184],\n",
       "          [-1.2653],\n",
       "          [-0.3673],\n",
       "          [-1.5102],\n",
       "          [ 0.7755],\n",
       "          [-0.4490],\n",
       "          [ 0.5306],\n",
       "          [-1.9184],\n",
       "          [ 0.9388],\n",
       "          [-0.2857],\n",
       "          [ 0.1224],\n",
       "          [ 1.6735]])],\n",
       " tensor([[0.],\n",
       "         [0.],\n",
       "         [0.],\n",
       "         [0.],\n",
       "         [0.],\n",
       "         [0.],\n",
       "         [0.],\n",
       "         [0.],\n",
       "         [0.],\n",
       "         [0.],\n",
       "         [0.],\n",
       "         [0.],\n",
       "         [0.],\n",
       "         [0.],\n",
       "         [0.],\n",
       "         [0.],\n",
       "         [0.],\n",
       "         [0.],\n",
       "         [0.],\n",
       "         [0.],\n",
       "         [0.],\n",
       "         [0.],\n",
       "         [0.],\n",
       "         [0.],\n",
       "         [0.],\n",
       "         [0.],\n",
       "         [0.],\n",
       "         [0.],\n",
       "         [0.],\n",
       "         [0.]]),\n",
       " {'u': tensor([[0.6552],\n",
       "          [0.7963],\n",
       "          [0.6476],\n",
       "          [0.3717],\n",
       "          [0.3021],\n",
       "          [0.5197],\n",
       "          [0.8884],\n",
       "          [0.3473],\n",
       "          [0.7616],\n",
       "          [1.0956],\n",
       "          [0.8511],\n",
       "          [0.8850],\n",
       "          [1.2983],\n",
       "          [1.1337],\n",
       "          [0.9243],\n",
       "          [1.1090],\n",
       "          [0.7401],\n",
       "          [0.6233],\n",
       "          [1.1394],\n",
       "          [1.1492],\n",
       "          [0.9319],\n",
       "          [1.0228],\n",
       "          [1.0816],\n",
       "          [0.6416],\n",
       "          [0.7566],\n",
       "          [1.0574],\n",
       "          [0.7558],\n",
       "          [0.0651],\n",
       "          [0.7968],\n",
       "          [1.0777]])})"
      ]
     },
     "execution_count": 22,
     "metadata": {},
     "output_type": "execute_result"
    }
   ],
   "source": [
    "ic[idx]"
   ]
  },
  {
   "cell_type": "code",
   "execution_count": 12,
   "id": "d09fe246-6d6d-4d47-9d07-7b08f694cc65",
   "metadata": {},
   "outputs": [],
   "source": [
    "f = MeshSampler(mesh, num_sample=20000, use_data=False)"
   ]
  },
  {
   "cell_type": "code",
   "execution_count": 13,
   "id": "87ca68d2-3e55-4ba8-bd64-892b8ab591ac",
   "metadata": {},
   "outputs": [],
   "source": [
    "val = MeshSampler(mesh)"
   ]
  },
  {
   "cell_type": "markdown",
   "id": "2a2e2f67-9e0b-48c3-8d94-81e3981e7c2e",
   "metadata": {
    "jp-MarkdownHeadingCollapsed": true
   },
   "source": [
    "### Burgurs"
   ]
  },
  {
   "cell_type": "code",
   "execution_count": 4,
   "id": "d0b8409c-6a0b-4bcf-8826-bfb5d5df767f",
   "metadata": {},
   "outputs": [],
   "source": [
    "from src.utils.utils import load_data\n",
    "\n",
    "\n",
    "def read_data_fn(root_path):\n",
    "    data = load_data(root_path, 'burgers_shock.mat')\n",
    "    exact_u = np.real(data['usol']).astype('float32')\n",
    "    return data, [exact_u]"
   ]
  },
  {
   "cell_type": "code",
   "execution_count": 5,
   "id": "15cc2aa5-f78a-461f-98f5-21de9d8a654c",
   "metadata": {},
   "outputs": [],
   "source": [
    "data, [exact_u] = read_data_fn('data')"
   ]
  },
  {
   "cell_type": "code",
   "execution_count": 6,
   "id": "866a74e4-f1d7-47b4-8ecb-44ab14739377",
   "metadata": {},
   "outputs": [],
   "source": [
    "from src.data.domains.spatial import Interval, Rectangle, Cube\n",
    "from src.data.domains.time import TimeDomain\n",
    "from src.data.mesh.mesh import Mesh\n",
    "from src.data.sampler.mesh_sampler import MeshSampler\n",
    "from src.data.sampler.boundary_condition import DirichletBoundaryCondition \n",
    "from src.data.sampler.initial_condition import InitialCondition\n",
    "from src.data.sampler.initial_condition import InitialCondition\n",
    "from src.data.pinn_datamodule import PINNDataModule"
   ]
  },
  {
   "cell_type": "code",
   "execution_count": 7,
   "id": "23a58ed7-214d-42d9-9b73-b05c45fc346e",
   "metadata": {},
   "outputs": [],
   "source": [
    "td = TimeDomain([0, 0.99], 100)"
   ]
  },
  {
   "cell_type": "code",
   "execution_count": 8,
   "id": "8b837226-a8e7-4e76-96e6-9dec6c3aff43",
   "metadata": {},
   "outputs": [],
   "source": [
    "sd = Interval([-1, 1], [256, 1])\n",
    "#sd = Rectangle([-1, 1], [3, 12], [256, 10])"
   ]
  },
  {
   "cell_type": "code",
   "execution_count": 9,
   "id": "63a23f9d-d835-4133-8b11-8650f6aa0143",
   "metadata": {},
   "outputs": [],
   "source": [
    "mesh = Mesh(root_dir='data', time_domain = td,\n",
    "                                         spatial_domain = sd,\n",
    "                                         read_data_fn = read_data_fn)"
   ]
  },
  {
   "cell_type": "code",
   "execution_count": 10,
   "id": "3fee2a58-4fb1-4db0-89aa-1d38f73139f1",
   "metadata": {},
   "outputs": [],
   "source": [
    "db = DirichletBoundaryCondition(mesh, idx_t=10)"
   ]
  },
  {
   "cell_type": "code",
   "execution_count": 12,
   "id": "83e82e80-3eec-4caa-a5ae-c7b064037c55",
   "metadata": {},
   "outputs": [],
   "source": [
    "ic = InitialCondition(mesh, num_sample=30)"
   ]
  },
  {
   "cell_type": "code",
   "execution_count": 14,
   "id": "036128c6-ec03-4df2-b559-12cee3151b3b",
   "metadata": {},
   "outputs": [],
   "source": [
    "x, t, u = ic[:]"
   ]
  },
  {
   "cell_type": "code",
   "execution_count": 17,
   "id": "6c1230d4-c871-44d7-90ae-beccd334e9fc",
   "metadata": {},
   "outputs": [],
   "source": [
    "\n",
    "class PINNDataLoader:\n",
    "    \"\"\"Custom DataLoader for the PINN datasets.\n",
    "\n",
    "    A `PINNDataLoader` implements 3 key methods:\n",
    "\n",
    "    ```python\n",
    "        def  __iter__(self):\n",
    "        #\n",
    "\n",
    "        def __next__(self):\n",
    "        #\n",
    "    ```\n",
    "\n",
    "    This allows you to have a fast dataloader.\n",
    "\n",
    "    Read the docs:\n",
    "        https://lightning.ai/docs/pytorch/latest/data/datamodule.html\n",
    "    \"\"\"\n",
    "    def __init__(self,\n",
    "                 dataset,\n",
    "                 batch_size=None,\n",
    "                 shuffle=False):\n",
    "        self.dataset = dataset\n",
    "        self.batch_size = batch_size\n",
    "        self.shuffle = shuffle\n",
    "        self.indices = list(range(len(self.dataset)))\n",
    "        self.current_index = 0\n",
    "\n",
    "        if self.shuffle:\n",
    "            torch.random.manual_seed(42)  \n",
    "            torch.random.shuffle(self.indices)\n",
    "\n",
    "    def __iter__(self):\n",
    "        self.current_index = 0\n",
    "        return self\n",
    "\n",
    "    def __next__(self):\n",
    "        if self.current_index >= len(self.indices):\n",
    "            raise StopIteration\n",
    "        batch_indices = self.indices[self.current_index:self.current_index + self.batch_size]\n",
    "        batch = self.dataset[batch_indices]\n",
    "        self.current_index += self.batch_size\n",
    "\n",
    "        return batch"
   ]
  },
  {
   "cell_type": "code",
   "execution_count": 24,
   "id": "84378c2a-c5e3-4134-ad21-ec21c44c772e",
   "metadata": {},
   "outputs": [],
   "source": [
    "k = PINNDataLoader(ic, 40)"
   ]
  },
  {
   "cell_type": "code",
   "execution_count": 26,
   "id": "a76e1d68-f2e3-4866-83a3-ad09fedbf4d9",
   "metadata": {},
   "outputs": [
    {
     "name": "stdout",
     "output_type": "stream",
     "text": [
      "Solver 1 data\n",
      "Solver 2 data\n"
     ]
    }
   ],
   "source": [
    "class ProblemSolver:\n",
    "    def __init__(self, name):\n",
    "        self.name = name\n",
    "\n",
    "    def solve(self, inputs, targets):\n",
    "        # Solving logic here\n",
    "        pass\n",
    "\n",
    "# Create instances of the ProblemSolver class\n",
    "solver1 = ProblemSolver(name='Solver1')\n",
    "solver2 = ProblemSolver(name='Solver2')\n",
    "\n",
    "# Create a dictionary with class methods as keys\n",
    "solver_dict = {\n",
    "    solver1.solve: 'Solver 1 data',\n",
    "    solver2.solve: 'Solver 2 data'\n",
    "}\n",
    "\n",
    "# Use the class methods as keys to retrieve data\n",
    "result1 = solver_dict[solver1.solve]\n",
    "result2 = solver_dict[solver2.solve]\n",
    "\n",
    "print(result1)  # Output: 'Solver 1 data'\n",
    "print(result2)  # Output: 'Solver 2 data'\n"
   ]
  },
  {
   "cell_type": "code",
   "execution_count": 29,
   "id": "81e9ab2e-e371-4bb4-acca-0b8af968b724",
   "metadata": {},
   "outputs": [
    {
     "name": "stdout",
     "output_type": "stream",
     "text": [
      "<bound method ProblemSolver.solve of <__main__.ProblemSolver object at 0x7f830c74e6d0>> Solver 1 data\n",
      "<bound method ProblemSolver.solve of <__main__.ProblemSolver object at 0x7f830c74e5b0>> Solver 2 data\n"
     ]
    }
   ],
   "source": [
    "for key, value in solver_dict.items(): \n",
    "    print(key, value)"
   ]
  },
  {
   "cell_type": "code",
   "execution_count": 33,
   "id": "9825b2dc-f3bb-4c04-b8df-0b6eb849c452",
   "metadata": {},
   "outputs": [],
   "source": [
    "f = MeshSampler(mesh, num_sample=10000, use_data=False)"
   ]
  },
  {
   "cell_type": "code",
   "execution_count": 34,
   "id": "2ca7a765-3f9f-4b7d-b2f7-02341eb584ed",
   "metadata": {},
   "outputs": [],
   "source": [
    "val = MeshSampler(mesh)"
   ]
  },
  {
   "cell_type": "code",
   "execution_count": 37,
   "id": "46f66f91-1956-49bb-a1ba-51421e4b6b9a",
   "metadata": {},
   "outputs": [],
   "source": [
    "x, t, u = val[:]"
   ]
  },
  {
   "cell_type": "code",
   "execution_count": 36,
   "id": "9a4ff1dd-8d03-4f38-9c90-b9e3ec7907f5",
   "metadata": {},
   "outputs": [
    {
     "data": {
      "text/plain": [
       "(tensor(-1.), tensor(1.), tensor(0.), tensor(0.9900))"
      ]
     },
     "execution_count": 36,
     "metadata": {},
     "output_type": "execute_result"
    }
   ],
   "source": [
    "x[0].min(), x[0].max(), t.min(), t.max()"
   ]
  },
  {
   "cell_type": "code",
   "execution_count": 89,
   "id": "cbf72fc1-d6ff-42bc-b4b3-96c02f21e64e",
   "metadata": {},
   "outputs": [],
   "source": [
    "nu = 0.01/np.pi\n",
    "noise = 0.0        \n",
    "\n",
    "N_u = 100\n",
    "N_f = 10000\n",
    "layers = [2, 20, 20, 20, 20, 20, 20, 20, 20, 1]\n",
    "\n",
    "data = scipy.io.loadmat('data/burgers_shock.mat')\n",
    "\n",
    "t = data['t'].flatten()[:,None]\n",
    "x = data['x'].flatten()[:,None]\n",
    "Exact = np.real(data['usol']).T\n",
    "\n",
    "X, T = np.meshgrid(x,t)\n",
    "\n",
    "X_star = np.hstack((X.flatten()[:,None], T.flatten()[:,None]))\n",
    "u_star = Exact.flatten()[:,None]              \n",
    "\n",
    "# Doman bounds\n",
    "lb = X_star.min(0)\n",
    "ub = X_star.max(0)    \n",
    "    \n",
    "xx1 = np.hstack((X[0:1,:].T, T[0:1,:].T))\n",
    "uu1 = Exact[0:1,:].T\n",
    "xx2 = np.hstack((X[:,0:1], T[:,0:1]))\n",
    "uu2 = Exact[:,0:1]\n",
    "xx3 = np.hstack((X[:,-1:], T[:,-1:]))\n",
    "uu3 = Exact[:,-1:]\n",
    "\n",
    "X_u_train = np.vstack([xx3, xx2])\n",
    "X_f_train = lb + (ub-lb)*lhs(2, N_f)\n",
    "X_f_train = np.vstack((X_f_train, X_u_train))\n",
    "u_train = np.vstack([uu3, uu2])\n",
    "\n",
    "idx = np.random.choice(X_u_train.shape[0], N_u, replace=False)\n",
    "X_u_train_ = X_u_train[idx, :]\n",
    "u_train_ = u_train[idx,:]"
   ]
  },
  {
   "cell_type": "code",
   "execution_count": 90,
   "id": "c259b07e-a5ac-4c3e-8435-4ab556aeb5c3",
   "metadata": {},
   "outputs": [
    {
     "data": {
      "text/plain": [
       "(100, 256)"
      ]
     },
     "execution_count": 90,
     "metadata": {},
     "output_type": "execute_result"
    }
   ],
   "source": [
    "Exact.shape"
   ]
  },
  {
   "cell_type": "code",
   "execution_count": 86,
   "id": "7d6e955f-f880-464d-9675-8613ea506abc",
   "metadata": {},
   "outputs": [
    {
     "data": {
      "text/plain": [
       "((25600, 2), torch.Size([25600, 1]), (25600, 1))"
      ]
     },
     "execution_count": 86,
     "metadata": {},
     "output_type": "execute_result"
    }
   ],
   "source": [
    "X_star.shape, u.shape, u_star.shape"
   ]
  },
  {
   "cell_type": "code",
   "execution_count": 87,
   "id": "930ddd2e-5c67-429c-84ce-bdf28d5a2789",
   "metadata": {},
   "outputs": [
    {
     "data": {
      "text/plain": [
       "array([[ 5.34378146e-24],\n",
       "       [-2.46374492e-02],\n",
       "       [-4.92599411e-02],\n",
       "       ...,\n",
       "       [ 1.19673204e-02],\n",
       "       [ 5.98368729e-03],\n",
       "       [-3.45977250e-24]])"
      ]
     },
     "execution_count": 87,
     "metadata": {},
     "output_type": "execute_result"
    }
   ],
   "source": [
    "np.array(u-u_star)"
   ]
  },
  {
   "cell_type": "code",
   "execution_count": 88,
   "id": "61e7b50a-d978-46af-9fcc-a0951b407b1a",
   "metadata": {},
   "outputs": [
    {
     "data": {
      "text/plain": [
       "array([[0., 0., 0., ..., 0., 0., 0.],\n",
       "       [0., 0., 0., ..., 0., 0., 0.],\n",
       "       [0., 0., 0., ..., 0., 0., 0.],\n",
       "       ...,\n",
       "       [0., 0., 0., ..., 0., 0., 0.],\n",
       "       [0., 0., 0., ..., 0., 0., 0.],\n",
       "       [0., 0., 0., ..., 0., 0., 0.]], dtype=float32)"
      ]
     },
     "execution_count": 88,
     "metadata": {},
     "output_type": "execute_result"
    }
   ],
   "source": [
    "exact_u - np.array(u.reshape(exact_u.shape))"
   ]
  },
  {
   "cell_type": "code",
   "execution_count": 36,
   "id": "040beabc-89cd-4475-9c43-309e7a9214ac",
   "metadata": {},
   "outputs": [
    {
     "data": {
      "text/plain": [
       "(array([[0.  , 0.01, 0.02, ..., 0.97, 0.98, 0.99],\n",
       "        [0.  , 0.01, 0.02, ..., 0.97, 0.98, 0.99],\n",
       "        [0.  , 0.01, 0.02, ..., 0.97, 0.98, 0.99],\n",
       "        ...,\n",
       "        [0.  , 0.01, 0.02, ..., 0.97, 0.98, 0.99],\n",
       "        [0.  , 0.01, 0.02, ..., 0.97, 0.98, 0.99],\n",
       "        [0.  , 0.01, 0.02, ..., 0.97, 0.98, 0.99]]),\n",
       " (256, 100, 1))"
      ]
     },
     "execution_count": 36,
     "metadata": {},
     "output_type": "execute_result"
    }
   ],
   "source": [
    "mesh.time_domain_mesh.min(2), mesh.spatial_domain_mesh.shape"
   ]
  },
  {
   "cell_type": "code",
   "execution_count": 31,
   "id": "04958479-d739-4f19-b0c5-9f38d8c03d8a",
   "metadata": {},
   "outputs": [
    {
     "data": {
      "text/plain": [
       "array([[-1.  , -1.  ],\n",
       "       [-1.  , -1.  ],\n",
       "       [-1.  , -1.  ],\n",
       "       ...,\n",
       "       [ 0.94,  0.95],\n",
       "       [ 0.96,  0.97],\n",
       "       [ 0.98,  0.99]])"
      ]
     },
     "execution_count": 31,
     "metadata": {},
     "output_type": "execute_result"
    }
   ],
   "source": [
    "ss"
   ]
  },
  {
   "cell_type": "code",
   "execution_count": 14,
   "id": "c521eea8-04d6-48d3-82fa-e5eb1dd2adfb",
   "metadata": {},
   "outputs": [],
   "source": [
    "x, t, u = f[:]"
   ]
  },
  {
   "cell_type": "code",
   "execution_count": 15,
   "id": "1e7f4b38-a2b9-484c-b9fa-c9bb984f2122",
   "metadata": {},
   "outputs": [
    {
     "data": {
      "text/plain": [
       "(tensor(8.4022e-05), tensor(0.9900), tensor(-0.9998), tensor(1.0000))"
      ]
     },
     "execution_count": 15,
     "metadata": {},
     "output_type": "execute_result"
    }
   ],
   "source": [
    "t.min(), t.max(), x[0].min(), x[0].max()"
   ]
  },
  {
   "cell_type": "code",
   "execution_count": 25,
   "id": "0dceb7ea-e6ba-4dbd-9688-e468ad418d22",
   "metadata": {
    "scrolled": true
   },
   "outputs": [
    {
     "data": {
      "text/plain": [
       "array([[ 1.14327318e-25],\n",
       "       [ 3.17119742e-24],\n",
       "       [ 2.74066623e-25],\n",
       "       [ 7.63614041e-25],\n",
       "       [ 1.49239262e-25],\n",
       "       [-1.08675919e-25],\n",
       "       [ 3.26598022e-24],\n",
       "       [ 2.37845764e-24],\n",
       "       [-2.29080166e-25],\n",
       "       [ 2.08414728e-24],\n",
       "       [-1.92241485e-24],\n",
       "       [-4.34847931e-24],\n",
       "       [ 4.11513020e-25],\n",
       "       [-1.49263595e-24],\n",
       "       [-5.05488571e-25],\n",
       "       [ 3.45977250e-24],\n",
       "       [-3.45527744e-26],\n",
       "       [-2.60508680e-24],\n",
       "       [-2.12583532e-24],\n",
       "       [-2.16426563e-24],\n",
       "       [-3.19403057e-25],\n",
       "       [ 3.02089227e-25],\n",
       "       [-3.41361834e-24],\n",
       "       [-2.82434727e-24],\n",
       "       [ 1.73833426e-24],\n",
       "       [-2.31043255e-24],\n",
       "       [-3.12730557e-25],\n",
       "       [ 5.42860211e-24],\n",
       "       [ 7.88927965e-25],\n",
       "       [ 3.24077815e-26],\n",
       "       [-3.82859484e-25],\n",
       "       [ 1.31079423e-24],\n",
       "       [ 1.29054156e-25],\n",
       "       [-1.91868283e-25],\n",
       "       [ 2.19304835e-24],\n",
       "       [ 3.88739132e-24],\n",
       "       [ 1.24681580e-24],\n",
       "       [ 1.62389738e-24],\n",
       "       [ 9.71444044e-25],\n",
       "       [-5.54136657e-24],\n",
       "       [-4.63228437e-24],\n",
       "       [-6.91559350e-26],\n",
       "       [-4.26344437e-25],\n",
       "       [-2.82526970e-24],\n",
       "       [-2.82906339e-24],\n",
       "       [ 8.66560130e-25],\n",
       "       [-6.12093540e-24],\n",
       "       [-4.59996146e-24],\n",
       "       [ 6.69461640e-24],\n",
       "       [-7.60401220e-25],\n",
       "       [-7.75934384e-25],\n",
       "       [ 1.01765161e-23],\n",
       "       [ 3.20342197e-24],\n",
       "       [-1.42426985e-24],\n",
       "       [ 3.40912773e-26],\n",
       "       [ 1.09780468e-24],\n",
       "       [ 2.75530401e-24],\n",
       "       [ 1.69817518e-24],\n",
       "       [ 3.52118450e-26],\n",
       "       [-1.86924844e-24],\n",
       "       [-2.49543850e-27],\n",
       "       [-4.73753264e-25],\n",
       "       [-4.42307373e-25],\n",
       "       [-4.14227575e-24],\n",
       "       [ 1.33708618e-24],\n",
       "       [ 6.96875570e-25],\n",
       "       [ 2.87838088e-24],\n",
       "       [-5.74855411e-24],\n",
       "       [-2.02461578e-24],\n",
       "       [ 6.80177615e-25]])"
      ]
     },
     "execution_count": 25,
     "metadata": {},
     "output_type": "execute_result"
    }
   ],
   "source": [
    "u_train[db.idx] - u.numpy()"
   ]
  },
  {
   "cell_type": "code",
   "execution_count": 24,
   "id": "a4845395-493a-4caf-8843-c61f3f39b7a1",
   "metadata": {},
   "outputs": [],
   "source": [
    "x, t, u = db[:]\n",
    "xxx = np.hstack((x[0], t))"
   ]
  },
  {
   "cell_type": "code",
   "execution_count": 64,
   "id": "ca4ac63e-abf7-45e0-97ee-78b29a891a76",
   "metadata": {
    "scrolled": true
   },
   "outputs": [
    {
     "data": {
      "text/plain": [
       "(array([0.40392157, 0.04      ]), array([-0.98287773]))"
      ]
     },
     "execution_count": 64,
     "metadata": {},
     "output_type": "execute_result"
    }
   ],
   "source": [
    "X_star[1203], u_star[1203]"
   ]
  },
  {
   "cell_type": "code",
   "execution_count": 65,
   "id": "de989b78-8aba-4117-9efc-f92c12b387f8",
   "metadata": {},
   "outputs": [
    {
     "data": {
      "text/plain": [
       "(tensor([0.4039, 0.4039, 0.4039, 0.4039, 0.4039, 0.4039, 0.4039, 0.4039, 0.4039,\n",
       "         0.4039, 0.4039, 0.4039, 0.4039, 0.4039, 0.4039, 0.4039, 0.4039, 0.4039,\n",
       "         0.4039, 0.4039, 0.4039, 0.4039, 0.4039, 0.4039, 0.4039, 0.4039, 0.4039,\n",
       "         0.4039, 0.4039, 0.4039, 0.4039, 0.4039, 0.4039, 0.4039, 0.4039, 0.4039,\n",
       "         0.4039, 0.4039, 0.4039, 0.4039, 0.4039, 0.4039, 0.4039, 0.4039, 0.4039,\n",
       "         0.4039, 0.4039, 0.4039, 0.4039, 0.4039, 0.4039, 0.4039, 0.4039, 0.4039,\n",
       "         0.4039, 0.4039, 0.4039, 0.4039, 0.4039, 0.4039, 0.4039, 0.4039, 0.4039,\n",
       "         0.4039, 0.4039, 0.4039, 0.4039, 0.4039, 0.4039, 0.4039, 0.4039, 0.4039,\n",
       "         0.4039, 0.4039, 0.4039, 0.4039, 0.4039, 0.4039, 0.4039, 0.4039, 0.4039,\n",
       "         0.4039, 0.4039, 0.4039, 0.4039, 0.4039, 0.4039, 0.4039, 0.4039, 0.4039,\n",
       "         0.4039, 0.4039, 0.4039, 0.4039, 0.4039, 0.4039, 0.4039, 0.4039, 0.4039,\n",
       "         0.4039]),\n",
       " tensor([0.0000, 0.0100, 0.0200, 0.0300, 0.0400, 0.0500, 0.0600, 0.0700, 0.0800,\n",
       "         0.0900, 0.1000, 0.1100, 0.1200, 0.1300, 0.1400, 0.1500, 0.1600, 0.1700,\n",
       "         0.1800, 0.1900, 0.2000, 0.2100, 0.2200, 0.2300, 0.2400, 0.2500, 0.2600,\n",
       "         0.2700, 0.2800, 0.2900, 0.3000, 0.3100, 0.3200, 0.3300, 0.3400, 0.3500,\n",
       "         0.3600, 0.3700, 0.3800, 0.3900, 0.4000, 0.4100, 0.4200, 0.4300, 0.4400,\n",
       "         0.4500, 0.4600, 0.4700, 0.4800, 0.4900, 0.5000, 0.5100, 0.5200, 0.5300,\n",
       "         0.5400, 0.5500, 0.5600, 0.5700, 0.5800, 0.5900, 0.6000, 0.6100, 0.6200,\n",
       "         0.6300, 0.6400, 0.6500, 0.6600, 0.6700, 0.6800, 0.6900, 0.7000, 0.7100,\n",
       "         0.7200, 0.7300, 0.7400, 0.7500, 0.7600, 0.7700, 0.7800, 0.7900, 0.8000,\n",
       "         0.8100, 0.8200, 0.8300, 0.8400, 0.8500, 0.8600, 0.8700, 0.8800, 0.8900,\n",
       "         0.9000, 0.9100, 0.9200, 0.9300, 0.9400, 0.9500, 0.9600, 0.9700, 0.9800,\n",
       "         0.9900]),\n",
       " tensor([-0.9548, -0.9630, -0.9705, -0.9771, -0.9829, -0.9877, -0.9915, -0.9943,\n",
       "         -0.9961, -0.9970, -0.9968, -0.9957, -0.9937, -0.9908, -0.9871, -0.9827,\n",
       "         -0.9776, -0.9718, -0.9655, -0.9587, -0.9514, -0.9438, -0.9358, -0.9276,\n",
       "         -0.9191, -0.9104, -0.9015, -0.8926, -0.8835, -0.8744, -0.8653, -0.8562,\n",
       "         -0.8470, -0.8379, -0.8289, -0.8199, -0.8110, -0.8021, -0.7934, -0.7847,\n",
       "         -0.7761, -0.7677, -0.7593, -0.7511, -0.7430, -0.7350, -0.7271, -0.7193,\n",
       "         -0.7117, -0.7042, -0.6968, -0.6895, -0.6823, -0.6753, -0.6683, -0.6615,\n",
       "         -0.6548, -0.6482, -0.6418, -0.6354, -0.6291, -0.6230, -0.6169, -0.6110,\n",
       "         -0.6051, -0.5994, -0.5937, -0.5882, -0.5827, -0.5773, -0.5721, -0.5669,\n",
       "         -0.5618, -0.5567, -0.5518, -0.5469, -0.5421, -0.5374, -0.5328, -0.5282,\n",
       "         -0.5238, -0.5193, -0.5150, -0.5107, -0.5065, -0.5024, -0.4983, -0.4943,\n",
       "         -0.4903, -0.4864, -0.4826, -0.4788, -0.4751, -0.4714, -0.4678, -0.4642,\n",
       "         -0.4607, -0.4573, -0.4538, -0.4505]))"
      ]
     },
     "execution_count": 65,
     "metadata": {},
     "output_type": "execute_result"
    }
   ],
   "source": [
    "x[0][x[0]==0.40392157], t[x[0]==0.40392157], u[x[0]==0.40392157]"
   ]
  },
  {
   "cell_type": "code",
   "execution_count": 48,
   "id": "da55684e-e660-4cf5-88db-42b5e32b9f2c",
   "metadata": {
    "scrolled": true
   },
   "outputs": [
    {
     "data": {
      "text/plain": [
       "array([[-1.  ,  0.  ],\n",
       "       [-1.  ,  0.01],\n",
       "       [-1.  ,  0.02],\n",
       "       ...,\n",
       "       [ 1.  ,  0.97],\n",
       "       [ 1.  ,  0.98],\n",
       "       [ 1.  ,  0.99]], dtype=float32)"
      ]
     },
     "execution_count": 48,
     "metadata": {},
     "output_type": "execute_result"
    }
   ],
   "source": [
    "xxx"
   ]
  },
  {
   "cell_type": "code",
   "execution_count": 33,
   "id": "49a31ecc-81e7-4f6c-88ad-b5ec8a03e281",
   "metadata": {
    "scrolled": true
   },
   "outputs": [
    {
     "data": {
      "text/plain": [
       "array([[ 0.  , -0.01, -0.02, ..., -0.97, -0.98, -0.99],\n",
       "       [ 0.01,  0.  , -0.01, ..., -0.96, -0.97, -0.98],\n",
       "       [ 0.02,  0.01,  0.  , ..., -0.95, -0.96, -0.97],\n",
       "       ...,\n",
       "       [ 0.97,  0.96,  0.95, ...,  0.  , -0.01, -0.02],\n",
       "       [ 0.98,  0.97,  0.96, ...,  0.01,  0.  , -0.01],\n",
       "       [ 0.99,  0.98,  0.97, ...,  0.02,  0.01,  0.  ]])"
      ]
     },
     "execution_count": 33,
     "metadata": {},
     "output_type": "execute_result"
    }
   ],
   "source": [
    "t - X_u_train[100:,1]"
   ]
  },
  {
   "cell_type": "code",
   "execution_count": 31,
   "id": "fb389d65-dd8e-4e59-81a6-c858295e2e28",
   "metadata": {},
   "outputs": [
    {
     "data": {
      "text/plain": [
       "array([1., 1., 1., 1., 1., 1., 1., 1., 1., 1., 1., 1., 1., 1., 1., 1., 1.,\n",
       "       1., 1., 1., 1., 1., 1., 1., 1., 1., 1., 1., 1., 1., 1., 1., 1., 1.,\n",
       "       1., 1., 1., 1., 1., 1., 1., 1., 1., 1., 1., 1., 1., 1., 1., 1., 1.,\n",
       "       1., 1., 1., 1., 1., 1., 1., 1., 1., 1., 1., 1., 1., 1., 1., 1., 1.,\n",
       "       1., 1., 1., 1., 1., 1., 1., 1., 1., 1., 1., 1., 1., 1., 1., 1., 1.,\n",
       "       1., 1., 1., 1., 1., 1., 1., 1., 1., 1., 1., 1., 1., 1., 1.])"
      ]
     },
     "execution_count": 31,
     "metadata": {},
     "output_type": "execute_result"
    }
   ],
   "source": [
    "X_u_train[100:,0]"
   ]
  },
  {
   "cell_type": "code",
   "execution_count": 83,
   "id": "2621ac12-cbee-418a-a846-9cce97fb170f",
   "metadata": {},
   "outputs": [],
   "source": [
    "xxx = np.hstack((x[0], t))"
   ]
  },
  {
   "cell_type": "code",
   "execution_count": 87,
   "id": "b8695ce6-9b70-42d2-9d4f-55f3dc55e95c",
   "metadata": {
    "scrolled": true
   },
   "outputs": [
    {
     "data": {
      "text/plain": [
       "(array([[ 1.22464680e-16],\n",
       "        [ 2.46374492e-02],\n",
       "        [ 4.92599411e-02],\n",
       "        [ 7.38525275e-02],\n",
       "        [ 9.84002783e-02],\n",
       "        [ 1.22888291e-01],\n",
       "        [ 1.47301698e-01],\n",
       "        [ 1.71625679e-01],\n",
       "        [ 1.95845467e-01],\n",
       "        [ 2.19946358e-01],\n",
       "        [ 2.43913720e-01],\n",
       "        [ 2.67733003e-01],\n",
       "        [ 2.91389747e-01],\n",
       "        [ 3.14869589e-01],\n",
       "        [ 3.38158275e-01],\n",
       "        [ 3.61241666e-01],\n",
       "        [ 3.84105749e-01],\n",
       "        [ 4.06736643e-01],\n",
       "        [ 4.29120609e-01],\n",
       "        [ 4.51244057e-01],\n",
       "        [ 4.73093557e-01],\n",
       "        [ 4.94655843e-01],\n",
       "        [ 5.15917826e-01],\n",
       "        [ 5.36866598e-01],\n",
       "        [ 5.57489439e-01],\n",
       "        [ 5.77773831e-01],\n",
       "        [ 5.97707459e-01],\n",
       "        [ 6.17278221e-01],\n",
       "        [ 6.36474236e-01],\n",
       "        [ 6.55283850e-01],\n",
       "        [ 6.73695644e-01],\n",
       "        [ 6.91698439e-01],\n",
       "        [ 7.09281308e-01],\n",
       "        [ 7.26433574e-01],\n",
       "        [ 7.43144825e-01],\n",
       "        [ 7.59404917e-01],\n",
       "        [ 7.75203976e-01],\n",
       "        [ 7.90532412e-01],\n",
       "        [ 8.05380919e-01],\n",
       "        [ 8.19740483e-01],\n",
       "        [ 8.33602385e-01],\n",
       "        [ 8.46958211e-01],\n",
       "        [ 8.59799851e-01],\n",
       "        [ 8.72119511e-01],\n",
       "        [ 8.83909710e-01],\n",
       "        [ 8.95163291e-01],\n",
       "        [ 9.05873422e-01],\n",
       "        [ 9.16033601e-01],\n",
       "        [ 9.25637660e-01],\n",
       "        [ 9.34679767e-01],\n",
       "        [ 9.43154434e-01],\n",
       "        [ 9.51056516e-01],\n",
       "        [ 9.58381215e-01],\n",
       "        [ 9.65124085e-01],\n",
       "        [ 9.71281032e-01],\n",
       "        [ 9.76848318e-01],\n",
       "        [ 9.81822563e-01],\n",
       "        [ 9.86200747e-01],\n",
       "        [ 9.89980213e-01],\n",
       "        [ 9.93158666e-01],\n",
       "        [ 9.95734176e-01],\n",
       "        [ 9.97705180e-01],\n",
       "        [ 9.99070481e-01],\n",
       "        [ 9.99829250e-01],\n",
       "        [ 9.99981027e-01],\n",
       "        [ 9.99525720e-01],\n",
       "        [ 9.98463604e-01],\n",
       "        [ 9.96795325e-01],\n",
       "        [ 9.94521895e-01],\n",
       "        [ 9.91644696e-01],\n",
       "        [ 9.88165472e-01],\n",
       "        [ 9.84086337e-01],\n",
       "        [ 9.79409768e-01],\n",
       "        [ 9.74138602e-01],\n",
       "        [ 9.68276041e-01],\n",
       "        [ 9.61825643e-01],\n",
       "        [ 9.54791325e-01],\n",
       "        [ 9.47177357e-01],\n",
       "        [ 9.38988361e-01],\n",
       "        [ 9.30229309e-01],\n",
       "        [ 9.20905518e-01],\n",
       "        [ 9.11022649e-01],\n",
       "        [ 9.00586702e-01],\n",
       "        [ 8.89604013e-01],\n",
       "        [ 8.78081248e-01],\n",
       "        [ 8.66025404e-01],\n",
       "        [ 8.53443799e-01],\n",
       "        [ 8.40344072e-01],\n",
       "        [ 8.26734175e-01],\n",
       "        [ 8.12622371e-01],\n",
       "        [ 7.98017227e-01],\n",
       "        [ 7.82927610e-01],\n",
       "        [ 7.67362681e-01],\n",
       "        [ 7.51331890e-01],\n",
       "        [ 7.34844967e-01],\n",
       "        [ 7.17911923e-01],\n",
       "        [ 7.00543038e-01],\n",
       "        [ 6.82748855e-01],\n",
       "        [ 6.64540179e-01],\n",
       "        [ 6.45928062e-01],\n",
       "        [ 6.26923806e-01],\n",
       "        [ 6.07538946e-01],\n",
       "        [ 5.87785252e-01],\n",
       "        [ 5.67674716e-01],\n",
       "        [ 5.47219547e-01],\n",
       "        [ 5.26432163e-01],\n",
       "        [ 5.05325184e-01],\n",
       "        [ 4.83911424e-01],\n",
       "        [ 4.62203884e-01],\n",
       "        [ 4.40215741e-01],\n",
       "        [ 4.17960345e-01],\n",
       "        [ 3.95451207e-01],\n",
       "        [ 3.72701992e-01],\n",
       "        [ 3.49726511e-01],\n",
       "        [ 3.26538713e-01],\n",
       "        [ 3.03152674e-01],\n",
       "        [ 2.79582593e-01],\n",
       "        [ 2.55842778e-01],\n",
       "        [ 2.31947641e-01],\n",
       "        [ 2.07911691e-01],\n",
       "        [ 1.83749518e-01],\n",
       "        [ 1.59475791e-01],\n",
       "        [ 1.35105247e-01],\n",
       "        [ 1.10652682e-01],\n",
       "        [ 8.61329395e-02],\n",
       "        [ 6.15609061e-02],\n",
       "        [ 3.69514994e-02],\n",
       "        [ 1.23196595e-02],\n",
       "        [-1.23196595e-02],\n",
       "        [-3.69514994e-02],\n",
       "        [-6.15609061e-02],\n",
       "        [-8.61329395e-02],\n",
       "        [-1.10652682e-01],\n",
       "        [-1.35105247e-01],\n",
       "        [-1.59475791e-01],\n",
       "        [-1.83749518e-01],\n",
       "        [-2.07911691e-01],\n",
       "        [-2.31947641e-01],\n",
       "        [-2.55842778e-01],\n",
       "        [-2.79582593e-01],\n",
       "        [-3.03152674e-01],\n",
       "        [-3.26538713e-01],\n",
       "        [-3.49726511e-01],\n",
       "        [-3.72701992e-01],\n",
       "        [-3.95451207e-01],\n",
       "        [-4.17960345e-01],\n",
       "        [-4.40215741e-01],\n",
       "        [-4.62203884e-01],\n",
       "        [-4.83911424e-01],\n",
       "        [-5.05325184e-01],\n",
       "        [-5.26432163e-01],\n",
       "        [-5.47219547e-01],\n",
       "        [-5.67674716e-01],\n",
       "        [-5.87785252e-01],\n",
       "        [-6.07538946e-01],\n",
       "        [-6.26923806e-01],\n",
       "        [-6.45928062e-01],\n",
       "        [-6.64540179e-01],\n",
       "        [-6.82748855e-01],\n",
       "        [-7.00543038e-01],\n",
       "        [-7.17911923e-01],\n",
       "        [-7.34844967e-01],\n",
       "        [-7.51331890e-01],\n",
       "        [-7.67362681e-01],\n",
       "        [-7.82927610e-01],\n",
       "        [-7.98017227e-01],\n",
       "        [-8.12622371e-01],\n",
       "        [-8.26734175e-01],\n",
       "        [-8.40344072e-01],\n",
       "        [-8.53443799e-01],\n",
       "        [-8.66025404e-01],\n",
       "        [-8.78081248e-01],\n",
       "        [-8.89604013e-01],\n",
       "        [-9.00586702e-01],\n",
       "        [-9.11022649e-01],\n",
       "        [-9.20905518e-01],\n",
       "        [-9.30229309e-01],\n",
       "        [-9.38988361e-01],\n",
       "        [-9.47177357e-01],\n",
       "        [-9.54791325e-01],\n",
       "        [-9.61825643e-01],\n",
       "        [-9.68276041e-01],\n",
       "        [-9.74138602e-01],\n",
       "        [-9.79409768e-01],\n",
       "        [-9.84086337e-01],\n",
       "        [-9.88165472e-01],\n",
       "        [-9.91644696e-01],\n",
       "        [-9.94521895e-01],\n",
       "        [-9.96795325e-01],\n",
       "        [-9.98463604e-01],\n",
       "        [-9.99525720e-01],\n",
       "        [-9.99981027e-01],\n",
       "        [-9.99829250e-01],\n",
       "        [-9.99070481e-01],\n",
       "        [-9.97705180e-01],\n",
       "        [-9.95734176e-01],\n",
       "        [-9.93158666e-01],\n",
       "        [-9.89980213e-01],\n",
       "        [-9.86200747e-01],\n",
       "        [-9.81822563e-01],\n",
       "        [-9.76848318e-01],\n",
       "        [-9.71281032e-01],\n",
       "        [-9.65124085e-01],\n",
       "        [-9.58381215e-01],\n",
       "        [-9.51056516e-01],\n",
       "        [-9.43154434e-01],\n",
       "        [-9.34679767e-01],\n",
       "        [-9.25637660e-01],\n",
       "        [-9.16033601e-01],\n",
       "        [-9.05873422e-01],\n",
       "        [-8.95163291e-01],\n",
       "        [-8.83909710e-01],\n",
       "        [-8.72119511e-01],\n",
       "        [-8.59799851e-01],\n",
       "        [-8.46958211e-01],\n",
       "        [-8.33602385e-01],\n",
       "        [-8.19740483e-01],\n",
       "        [-8.05380919e-01],\n",
       "        [-7.90532412e-01],\n",
       "        [-7.75203976e-01],\n",
       "        [-7.59404917e-01],\n",
       "        [-7.43144825e-01],\n",
       "        [-7.26433574e-01],\n",
       "        [-7.09281308e-01],\n",
       "        [-6.91698439e-01],\n",
       "        [-6.73695644e-01],\n",
       "        [-6.55283850e-01],\n",
       "        [-6.36474236e-01],\n",
       "        [-6.17278221e-01],\n",
       "        [-5.97707459e-01],\n",
       "        [-5.77773831e-01],\n",
       "        [-5.57489439e-01],\n",
       "        [-5.36866598e-01],\n",
       "        [-5.15917826e-01],\n",
       "        [-4.94655843e-01],\n",
       "        [-4.73093557e-01],\n",
       "        [-4.51244057e-01],\n",
       "        [-4.29120609e-01],\n",
       "        [-4.06736643e-01],\n",
       "        [-3.84105749e-01],\n",
       "        [-3.61241666e-01],\n",
       "        [-3.38158275e-01],\n",
       "        [-3.14869589e-01],\n",
       "        [-2.91389747e-01],\n",
       "        [-2.67733003e-01],\n",
       "        [-2.43913720e-01],\n",
       "        [-2.19946358e-01],\n",
       "        [-1.95845467e-01],\n",
       "        [-1.71625679e-01],\n",
       "        [-1.47301698e-01],\n",
       "        [-1.22888291e-01],\n",
       "        [-9.84002783e-02],\n",
       "        [-7.38525275e-02],\n",
       "        [-4.92599411e-02],\n",
       "        [-2.46374492e-02],\n",
       "        [-1.22464680e-16]]),\n",
       " array([[ 1.22464685e-16],\n",
       "        [ 2.46374495e-02],\n",
       "        [ 4.92599420e-02],\n",
       "        [ 7.38525242e-02],\n",
       "        [ 9.84002799e-02],\n",
       "        [ 1.22888289e-01],\n",
       "        [ 1.47301704e-01],\n",
       "        [ 1.71625674e-01],\n",
       "        [ 1.95845470e-01],\n",
       "        [ 2.19946355e-01],\n",
       "        [ 2.43913725e-01],\n",
       "        [ 2.67733008e-01],\n",
       "        [ 2.91389734e-01],\n",
       "        [ 3.14869583e-01],\n",
       "        [ 3.38158280e-01],\n",
       "        [ 3.61241668e-01],\n",
       "        [ 3.84105742e-01],\n",
       "        [ 4.06736642e-01],\n",
       "        [ 4.29120600e-01],\n",
       "        [ 4.51244056e-01],\n",
       "        [ 4.73093569e-01],\n",
       "        [ 4.94655848e-01],\n",
       "        [ 5.15917838e-01],\n",
       "        [ 5.36866605e-01],\n",
       "        [ 5.57489455e-01],\n",
       "        [ 5.77773809e-01],\n",
       "        [ 5.97707450e-01],\n",
       "        [ 6.17278218e-01],\n",
       "        [ 6.36474252e-01],\n",
       "        [ 6.55283868e-01],\n",
       "        [ 6.73695624e-01],\n",
       "        [ 6.91698432e-01],\n",
       "        [ 7.09281325e-01],\n",
       "        [ 7.26433575e-01],\n",
       "        [ 7.43144810e-01],\n",
       "        [ 7.59404898e-01],\n",
       "        [ 7.75204003e-01],\n",
       "        [ 7.90532410e-01],\n",
       "        [ 8.05380940e-01],\n",
       "        [ 8.19740474e-01],\n",
       "        [ 8.33602369e-01],\n",
       "        [ 8.46958220e-01],\n",
       "        [ 8.59799862e-01],\n",
       "        [ 8.72119486e-01],\n",
       "        [ 8.83909702e-01],\n",
       "        [ 8.95163298e-01],\n",
       "        [ 9.05873418e-01],\n",
       "        [ 9.16033626e-01],\n",
       "        [ 9.25637662e-01],\n",
       "        [ 9.34679747e-01],\n",
       "        [ 9.43154454e-01],\n",
       "        [ 9.51056540e-01],\n",
       "        [ 9.58381236e-01],\n",
       "        [ 9.65124071e-01],\n",
       "        [ 9.71281052e-01],\n",
       "        [ 9.76848304e-01],\n",
       "        [ 9.81822550e-01],\n",
       "        [ 9.86200750e-01],\n",
       "        [ 9.89980221e-01],\n",
       "        [ 9.93158638e-01],\n",
       "        [ 9.95734155e-01],\n",
       "        [ 9.97705162e-01],\n",
       "        [ 9.99070466e-01],\n",
       "        [ 9.99829233e-01],\n",
       "        [ 9.99981046e-01],\n",
       "        [ 9.99525726e-01],\n",
       "        [ 9.98463631e-01],\n",
       "        [ 9.96795297e-01],\n",
       "        [ 9.94521916e-01],\n",
       "        [ 9.91644681e-01],\n",
       "        [ 9.88165498e-01],\n",
       "        [ 9.84086335e-01],\n",
       "        [ 9.79409754e-01],\n",
       "        [ 9.74138618e-01],\n",
       "        [ 9.68276024e-01],\n",
       "        [ 9.61825669e-01],\n",
       "        [ 9.54791307e-01],\n",
       "        [ 9.47177351e-01],\n",
       "        [ 9.38988388e-01],\n",
       "        [ 9.30229306e-01],\n",
       "        [ 9.20905530e-01],\n",
       "        [ 9.11022663e-01],\n",
       "        [ 9.00586724e-01],\n",
       "        [ 8.89604032e-01],\n",
       "        [ 8.78081262e-01],\n",
       "        [ 8.66025388e-01],\n",
       "        [ 8.53443801e-01],\n",
       "        [ 8.40344071e-01],\n",
       "        [ 8.26734185e-01],\n",
       "        [ 8.12622368e-01],\n",
       "        [ 7.98017204e-01],\n",
       "        [ 7.82927632e-01],\n",
       "        [ 7.67362654e-01],\n",
       "        [ 7.51331866e-01],\n",
       "        [ 7.34844983e-01],\n",
       "        [ 7.17911899e-01],\n",
       "        [ 7.00543046e-01],\n",
       "        [ 6.82748854e-01],\n",
       "        [ 6.64540172e-01],\n",
       "        [ 6.45928085e-01],\n",
       "        [ 6.26923800e-01],\n",
       "        [ 6.07538939e-01],\n",
       "        [ 5.87785244e-01],\n",
       "        [ 5.67674696e-01],\n",
       "        [ 5.47219574e-01],\n",
       "        [ 5.26432157e-01],\n",
       "        [ 5.05325198e-01],\n",
       "        [ 4.83911425e-01],\n",
       "        [ 4.62203890e-01],\n",
       "        [ 4.40215737e-01],\n",
       "        [ 4.17960346e-01],\n",
       "        [ 3.95451218e-01],\n",
       "        [ 3.72702003e-01],\n",
       "        [ 3.49726498e-01],\n",
       "        [ 3.26538712e-01],\n",
       "        [ 3.03152680e-01],\n",
       "        [ 2.79582590e-01],\n",
       "        [ 2.55842775e-01],\n",
       "        [ 2.31947646e-01],\n",
       "        [ 2.07911685e-01],\n",
       "        [ 1.83749512e-01],\n",
       "        [ 1.59475788e-01],\n",
       "        [ 1.35105252e-01],\n",
       "        [ 1.10652685e-01],\n",
       "        [ 8.61329362e-02],\n",
       "        [ 6.15609065e-02],\n",
       "        [ 3.69515009e-02],\n",
       "        [ 1.23196598e-02],\n",
       "        [-1.23196598e-02],\n",
       "        [-3.69515009e-02],\n",
       "        [-6.15609065e-02],\n",
       "        [-8.61329362e-02],\n",
       "        [-1.10652685e-01],\n",
       "        [-1.35105252e-01],\n",
       "        [-1.59475788e-01],\n",
       "        [-1.83749512e-01],\n",
       "        [-2.07911685e-01],\n",
       "        [-2.31947646e-01],\n",
       "        [-2.55842775e-01],\n",
       "        [-2.79582590e-01],\n",
       "        [-3.03152680e-01],\n",
       "        [-3.26538712e-01],\n",
       "        [-3.49726498e-01],\n",
       "        [-3.72702003e-01],\n",
       "        [-3.95451218e-01],\n",
       "        [-4.17960346e-01],\n",
       "        [-4.40215737e-01],\n",
       "        [-4.62203890e-01],\n",
       "        [-4.83911425e-01],\n",
       "        [-5.05325198e-01],\n",
       "        [-5.26432157e-01],\n",
       "        [-5.47219574e-01],\n",
       "        [-5.67674696e-01],\n",
       "        [-5.87785244e-01],\n",
       "        [-6.07538939e-01],\n",
       "        [-6.26923800e-01],\n",
       "        [-6.45928085e-01],\n",
       "        [-6.64540172e-01],\n",
       "        [-6.82748854e-01],\n",
       "        [-7.00543046e-01],\n",
       "        [-7.17911899e-01],\n",
       "        [-7.34844983e-01],\n",
       "        [-7.51331866e-01],\n",
       "        [-7.67362654e-01],\n",
       "        [-7.82927632e-01],\n",
       "        [-7.98017204e-01],\n",
       "        [-8.12622368e-01],\n",
       "        [-8.26734185e-01],\n",
       "        [-8.40344071e-01],\n",
       "        [-8.53443801e-01],\n",
       "        [-8.66025388e-01],\n",
       "        [-8.78081262e-01],\n",
       "        [-8.89604032e-01],\n",
       "        [-9.00586724e-01],\n",
       "        [-9.11022663e-01],\n",
       "        [-9.20905530e-01],\n",
       "        [-9.30229306e-01],\n",
       "        [-9.38988388e-01],\n",
       "        [-9.47177351e-01],\n",
       "        [-9.54791307e-01],\n",
       "        [-9.61825669e-01],\n",
       "        [-9.68276024e-01],\n",
       "        [-9.74138618e-01],\n",
       "        [-9.79409754e-01],\n",
       "        [-9.84086335e-01],\n",
       "        [-9.88165498e-01],\n",
       "        [-9.91644681e-01],\n",
       "        [-9.94521916e-01],\n",
       "        [-9.96795297e-01],\n",
       "        [-9.98463631e-01],\n",
       "        [-9.99525726e-01],\n",
       "        [-9.99981046e-01],\n",
       "        [-9.99829233e-01],\n",
       "        [-9.99070466e-01],\n",
       "        [-9.97705162e-01],\n",
       "        [-9.95734155e-01],\n",
       "        [-9.93158638e-01],\n",
       "        [-9.89980221e-01],\n",
       "        [-9.86200750e-01],\n",
       "        [-9.81822550e-01],\n",
       "        [-9.76848304e-01],\n",
       "        [-9.71281052e-01],\n",
       "        [-9.65124071e-01],\n",
       "        [-9.58381236e-01],\n",
       "        [-9.51056540e-01],\n",
       "        [-9.43154454e-01],\n",
       "        [-9.34679747e-01],\n",
       "        [-9.25637662e-01],\n",
       "        [-9.16033626e-01],\n",
       "        [-9.05873418e-01],\n",
       "        [-8.95163298e-01],\n",
       "        [-8.83909702e-01],\n",
       "        [-8.72119486e-01],\n",
       "        [-8.59799862e-01],\n",
       "        [-8.46958220e-01],\n",
       "        [-8.33602369e-01],\n",
       "        [-8.19740474e-01],\n",
       "        [-8.05380940e-01],\n",
       "        [-7.90532410e-01],\n",
       "        [-7.75204003e-01],\n",
       "        [-7.59404898e-01],\n",
       "        [-7.43144810e-01],\n",
       "        [-7.26433575e-01],\n",
       "        [-7.09281325e-01],\n",
       "        [-6.91698432e-01],\n",
       "        [-6.73695624e-01],\n",
       "        [-6.55283868e-01],\n",
       "        [-6.36474252e-01],\n",
       "        [-6.17278218e-01],\n",
       "        [-5.97707450e-01],\n",
       "        [-5.77773809e-01],\n",
       "        [-5.57489455e-01],\n",
       "        [-5.36866605e-01],\n",
       "        [-5.15917838e-01],\n",
       "        [-4.94655848e-01],\n",
       "        [-4.73093569e-01],\n",
       "        [-4.51244056e-01],\n",
       "        [-4.29120600e-01],\n",
       "        [-4.06736642e-01],\n",
       "        [-3.84105742e-01],\n",
       "        [-3.61241668e-01],\n",
       "        [-3.38158280e-01],\n",
       "        [-3.14869583e-01],\n",
       "        [-2.91389734e-01],\n",
       "        [-2.67733008e-01],\n",
       "        [-2.43913725e-01],\n",
       "        [-2.19946355e-01],\n",
       "        [-1.95845470e-01],\n",
       "        [-1.71625674e-01],\n",
       "        [-1.47301704e-01],\n",
       "        [-1.22888289e-01],\n",
       "        [-9.84002799e-02],\n",
       "        [-7.38525242e-02],\n",
       "        [-4.92599420e-02],\n",
       "        [-2.46374495e-02],\n",
       "        [-1.22464685e-16]]))"
      ]
     },
     "execution_count": 87,
     "metadata": {},
     "output_type": "execute_result"
    }
   ],
   "source": [
    "uu1, u"
   ]
  },
  {
   "cell_type": "code",
   "execution_count": 73,
   "id": "00895ac9-fdc4-4bd8-b392-f35bb84ee5db",
   "metadata": {},
   "outputs": [
    {
     "data": {
      "text/plain": [
       "[<matplotlib.lines.Line2D at 0x7ff968e47880>]"
      ]
     },
     "execution_count": 73,
     "metadata": {},
     "output_type": "execute_result"
    },
    {
     "data": {
      "image/png": "[encoded data removed]",
      "text/plain": [
       "<Figure size 640x480 with 1 Axes>"
      ]
     },
     "metadata": {},
     "output_type": "display_data"
    }
   ],
   "source": [
    "plt.plot(t)"
   ]
  },
  {
   "cell_type": "code",
   "execution_count": null,
   "id": "5e54bcd7-b4fb-4808-a145-2a3390c88259",
   "metadata": {},
   "outputs": [],
   "source": [
    "data = load_data(root_path, 'burgers_shock.mat')\n",
    "    exact_u = np.real(data['usol']).astype('float32')\n",
    "    return data, [exact_u]"
   ]
  },
  {
   "cell_type": "code",
   "execution_count": 18,
   "id": "200672ab-0ca3-48de-b683-2cc0006bcc3c",
   "metadata": {},
   "outputs": [
    {
     "data": {
      "text/plain": [
       "0.003183098861837907"
      ]
     },
     "execution_count": 18,
     "metadata": {},
     "output_type": "execute_result"
    }
   ],
   "source": [
    "0.01/np.pi"
   ]
  },
  {
   "cell_type": "code",
   "execution_count": 22,
   "id": "59421b10-1aa1-455f-80d1-0200bb17bcca",
   "metadata": {},
   "outputs": [
    {
     "data": {
      "text/plain": [
       "0.00429630469075234"
      ]
     },
     "execution_count": 22,
     "metadata": {},
     "output_type": "execute_result"
    }
   ],
   "source": [
    "np.exp(-5.45)"
   ]
  },
  {
   "cell_type": "code",
   "execution_count": 16,
   "id": "bb8066ba-2ad6-43b2-b311-9ac6e1429c95",
   "metadata": {},
   "outputs": [],
   "source": [
    "skip = 80\n",
    "\n",
    "N0 = 199\n",
    "N1 = 201\n",
    "\n",
    "data = scipy.io.loadmat('data/burgers_shock.mat')\n",
    "\n",
    "t_star = data['t'].flatten()[:,None]\n",
    "x_star = data['x'].flatten()[:,None]\n",
    "Exact = np.real(data['usol'])\n",
    "\n",
    "idx_t = 10\n",
    "    \n",
    "######################################################################\n",
    "######################## Noiseles Data ###############################\n",
    "######################################################################\n",
    "noise = 0.0    \n",
    "\n",
    "idx_x = np.random.choice(Exact.shape[0], N0, replace=False)\n",
    "x0 = x_star[idx_x,:]\n",
    "u0 = Exact[idx_x,idx_t][:,None]\n",
    "u0 = u0 + noise*np.std(u0)*np.random.randn(u0.shape[0], u0.shape[1])\n",
    "    \n",
    "idx_x = np.random.choice(Exact.shape[0], N1, replace=False)\n",
    "x1 = x_star[idx_x,:]\n",
    "u1 = Exact[idx_x,idx_t + skip][:,None]\n",
    "u1 = u1 + noise*np.std(u1)*np.random.randn(u1.shape[0], u1.shape[1])\n",
    "\n",
    "dt = (t_star[idx_t+skip] - t_star[idx_t]).item()     \n",
    "q = int(np.ceil(0.5*np.log(np.finfo(float).eps)/np.log(dt)))\n"
   ]
  },
  {
   "cell_type": "code",
   "execution_count": 18,
   "id": "98d1cce2-d89d-4b16-8cd4-ba1c7200fc9d",
   "metadata": {},
   "outputs": [
    {
     "data": {
      "text/plain": [
       "0.003183098861837907"
      ]
     },
     "execution_count": 18,
     "metadata": {},
     "output_type": "execute_result"
    }
   ],
   "source": [
    "0.01/np.pi"
   ]
  },
  {
   "cell_type": "code",
   "execution_count": 22,
   "id": "e81c325b-9cbd-48c5-9537-94bffe140ae2",
   "metadata": {},
   "outputs": [
    {
     "data": {
      "text/plain": [
       "0.004073065708350454"
      ]
     },
     "execution_count": 22,
     "metadata": {},
     "output_type": "execute_result"
    }
   ],
   "source": [
    "import torch\n",
    "np.exp(-5.503359317779541)"
   ]
  },
  {
   "cell_type": "code",
   "execution_count": 23,
   "id": "81231afd-3b7e-4ab8-b999-7a69588c2ac6",
   "metadata": {},
   "outputs": [
    {
     "data": {
      "text/plain": [
       "0.2795913306942291"
      ]
     },
     "execution_count": 23,
     "metadata": {},
     "output_type": "execute_result"
    }
   ],
   "source": [
    "(0.004073065708350454 - 0.003183098861837907)/ 0.003183098861837907"
   ]
  },
  {
   "cell_type": "code",
   "execution_count": 24,
   "id": "67c5c0be-6918-4c35-b551-57dc4d3face4",
   "metadata": {},
   "outputs": [],
   "source": [
    "layers = [4] + 10*[5*50] + [5]"
   ]
  },
  {
   "cell_type": "code",
   "execution_count": 25,
   "id": "32f455cc-d334-4836-aaa3-f7aafe04fcd5",
   "metadata": {},
   "outputs": [
    {
     "data": {
      "text/plain": [
       "[4, 250, 250, 250, 250, 250, 250, 250, 250, 250, 250, 5]"
      ]
     },
     "execution_count": 25,
     "metadata": {},
     "output_type": "execute_result"
    }
   ],
   "source": [
    "layers"
   ]
  },
  {
   "cell_type": "markdown",
   "id": "54f1793d-6426-4b09-b3c6-f982b6ee425d",
   "metadata": {},
   "source": [
    "### Aneurysm 3D"
   ]
  },
  {
   "cell_type": "code",
   "execution_count": 50,
   "id": "f774a3bc-aa07-46cf-8272-68ccb2bc93b4",
   "metadata": {},
   "outputs": [],
   "source": [
    "from pinnstorch.data import Interval, Rectangle\n",
    "from pinnstorch.data import TimeDomain\n",
    "from pinnstorch.data import Mesh, PointCloud, PointCloudData\n",
    "from pinnstorch.data import MeshSampler\n",
    "from pinnstorch.data import PeriodicBoundaryCondition\n",
    "from pinnstorch.data import InitialCondition\n",
    "from pinnstorch.data import InitialCondition\n",
    "from pinnstorch.data import PINNDataModule\n",
    "import pinnstorch"
   ]
  },
  {
   "cell_type": "code",
   "execution_count": 51,
   "id": "9b9338b8-0b90-4c1e-9a1d-9a67b6d2793e",
   "metadata": {},
   "outputs": [],
   "source": [
    "def read_data_fn(root_path):\n",
    "    data = pinnstorch.utils.load_data(root_path, \"Aneurysm3D.mat\")\n",
    "\n",
    "    t_star = data[\"t_star\"]  # T x 1\n",
    "    x_star = data[\"x_star\"]  # N x 1\n",
    "    y_star = data[\"y_star\"]  # N x 1\n",
    "    z_star = data[\"z_star\"]  # N x 1\n",
    "\n",
    "    U_star = data[\"U_star\"]  # N x T\n",
    "    V_star = data[\"V_star\"]  # N x T\n",
    "    W_star = data[\"W_star\"]  # N x T\n",
    "    P_star = data[\"P_star\"]  # N x T\n",
    "    C_star = data[\"C_star\"]  # N x T\n",
    "\n",
    "    return pinnstorch.data.PointCloudData(\n",
    "        spatial=[x_star, y_star, z_star],\n",
    "        time=[t_star],\n",
    "        solution={\"u\": U_star, \"v\": V_star, \"w\": W_star, \"p\": P_star, \"c\": C_star},\n",
    "    )"
   ]
  },
  {
   "cell_type": "code",
   "execution_count": 52,
   "id": "4e23bdd5-1462-4bb8-97e9-82721708d3fc",
   "metadata": {},
   "outputs": [],
   "source": [
    "pc = PointCloud('data', read_data_fn)"
   ]
  },
  {
   "cell_type": "code",
   "execution_count": 54,
   "id": "70ad4997-d258-4e4b-a9e6-7df919be2d04",
   "metadata": {},
   "outputs": [],
   "source": [
    "x, t, u = pc.flatten_mesh(['c'])"
   ]
  },
  {
   "cell_type": "code",
   "execution_count": 58,
   "id": "9e5afac9-989b-4584-91ac-16044cb01da6",
   "metadata": {},
   "outputs": [
    {
     "data": {
      "text/plain": [
       "((29734586, 3), (29734586, 1), (29734586, 1))"
      ]
     },
     "execution_count": 58,
     "metadata": {},
     "output_type": "execute_result"
    }
   ],
   "source": [
    "x.shape, t.shape, u['c'].shape"
   ]
  },
  {
   "cell_type": "code",
   "execution_count": 67,
   "id": "9b51b11e-f65c-4eae-a4e4-5387d9877ff9",
   "metadata": {},
   "outputs": [
    {
     "data": {
      "text/plain": [
       "array([[0.],\n",
       "       [0.],\n",
       "       [0.],\n",
       "       ...,\n",
       "       [0.],\n",
       "       [0.],\n",
       "       [0.]])"
      ]
     },
     "execution_count": 67,
     "metadata": {},
     "output_type": "execute_result"
    }
   ],
   "source": [
    "t - T_star.flatten()[:, None]"
   ]
  },
  {
   "cell_type": "code",
   "execution_count": 65,
   "id": "3d780b81-70bd-4e28-8fdd-5e3bf645757b",
   "metadata": {},
   "outputs": [
    {
     "data": {
      "text/plain": [
       "array([[ 0.  ],\n",
       "       [ 0.09],\n",
       "       [ 0.18],\n",
       "       ...,\n",
       "       [26.82],\n",
       "       [26.91],\n",
       "       [27.  ]])"
      ]
     },
     "execution_count": 65,
     "metadata": {},
     "output_type": "execute_result"
    }
   ],
   "source": [
    "T_star.flatten()[:, None]"
   ]
  },
  {
   "cell_type": "code",
   "execution_count": 60,
   "id": "e765db79-84cc-47c7-8689-096a3a0ab5c4",
   "metadata": {},
   "outputs": [
    {
     "name": "stdout",
     "output_type": "stream",
     "text": [
      "98786\n",
      "[  0 226 110 133 229 137 175 267  56 254 263 191 152  38 139 276  87 240\n",
      "  59  19  37 193  75 142 266 179  30 243 231 228 187  96  15  42 150  11\n",
      "  64 145 298 157 216  90 159 271 268 174 295 215 156   7 256 220   3 246\n",
      " 255 206 119 109  78  17 199 250 149 135 120  14 282 108 247 180 124 151\n",
      " 104 236 269 249  60 201 211  81 290 186 257 129  25 155 207 161 128  79\n",
      "  48   2 287 162  23  50 102 134  24 185  76  65 296  57 234 177 291 275\n",
      " 173  73 204 116   8 251 141  97 138  93 273  28 147  80  26  12 258 270\n",
      " 202 113 136 212 184 235  58  51 190 123  88 218  55  62 244 294 278 112\n",
      " 277 241 100  41 297 200 144 105   9 242 198 111  53 131  70 148 160  34\n",
      " 172  74 130 115  33 107  49 245   6  27 284 281 203 253 170 208 126  20\n",
      " 219   4 195  47  66  22  39 163 140  54 101 227 286 223 221  21  98  32\n",
      "  46 213 264 165 121 125 274 280 188  45 103 238 178 122  86  43 196  68\n",
      " 153 232  92 292  29 192 167 158  83 210 262  67 154  85 239 283   5  31\n",
      " 288 127 182 181 183  69 217  61  84 248  18  77  35  82  99  52 209  72\n",
      "  63   1 164 289 299 259 117  71 230 224 166 293  10 194 146 197  40 118\n",
      "  89 189  13 169 132 225 260 261  16 237 279 233 205 168 265 222  91 214\n",
      " 114  94 252 176 143  44  36 106 272 285  95 171 300]\n"
     ]
    }
   ],
   "source": [
    "batch_size = 10000\n",
    "\n",
    "layers = [4] + 10*[5*50] + [5]\n",
    "\n",
    "# Load Data\n",
    "data = scipy.io.loadmat('data/Aneurysm3D.mat')\n",
    "\n",
    "t_star = data['t_star'] # T x 1\n",
    "x_star = data['x_star'] # N x 1\n",
    "y_star = data['y_star'] # N x 1\n",
    "z_star = data['z_star'] # N x 1\n",
    "\n",
    "T = t_star.shape[0]\n",
    "N = x_star.shape[0]\n",
    "print(N)\n",
    "U_star = data['U_star'] # N x T\n",
    "V_star = data['V_star'] # N x T\n",
    "W_star = data['W_star'] # N x T\n",
    "P_star = data['P_star'] # N x T\n",
    "C_star = data['C_star'] # N x T    \n",
    "\n",
    "# Rearrange Data \n",
    "T_star = np.tile(t_star, (1,N)).T # N x T\n",
    "X_star = np.tile(x_star, (1,T)) # N x T\n",
    "Y_star = np.tile(y_star, (1,T)) # N x T\n",
    "Z_star = np.tile(z_star, (1,T)) # N x T\n",
    "\n",
    "T_data = T\n",
    "N_data = N\n",
    "idx_t = np.concatenate([np.array([0]), np.random.choice(T-2, T_data-2, replace=False)+1, np.array([T-1])] )\n",
    "print(idx_t)\n",
    "idx_x = np.random.choice(N, N_data, replace=False)\n",
    "t_data = T_star[:, idx_t][idx_x,:].flatten()[:,None]\n",
    "x_data = X_star[:, idx_t][idx_x,:].flatten()[:,None]\n",
    "y_data = Y_star[:, idx_t][idx_x,:].flatten()[:,None]\n",
    "z_data = Z_star[:, idx_t][idx_x,:].flatten()[:,None]\n",
    "c_data = C_star[:, idx_t][idx_x,:].flatten()[:,None]\n",
    "\n",
    "T_eqns = T\n",
    "N_eqns = N\n",
    "idx_t = np.concatenate([np.array([0]), np.random.choice(T-2, T_eqns-2, replace=False)+1, np.array([T-1])] )\n",
    "idx_x = np.random.choice(N, N_eqns, replace=False)\n",
    "t_eqns = T_star[:, idx_t][idx_x,:].flatten()[:,None]\n",
    "x_eqns = X_star[:, idx_t][idx_x,:].flatten()[:,None]\n",
    "y_eqns = Y_star[:, idx_t][idx_x,:].flatten()[:,None]\n",
    "z_eqns = Z_star[:, idx_t][idx_x,:].flatten()[:,None]"
   ]
  },
  {
   "cell_type": "code",
   "execution_count": 32,
   "id": "048e9ee7-5fdb-497f-9609-80ec85c2f860",
   "metadata": {},
   "outputs": [
    {
     "data": {
      "text/plain": [
       "((98786, 301), (29734586, 1))"
      ]
     },
     "execution_count": 32,
     "metadata": {},
     "output_type": "execute_result"
    }
   ],
   "source": [
    "T_star.shape, t_data.shape"
   ]
  },
  {
   "cell_type": "code",
   "execution_count": 59,
   "id": "15515d21-3f4c-4851-8a03-8519d2990aa4",
   "metadata": {},
   "outputs": [
    {
     "data": {
      "text/plain": [
       "(98786, 301)"
      ]
     },
     "execution_count": 59,
     "metadata": {},
     "output_type": "execute_result"
    }
   ],
   "source": [
    "t_data"
   ]
  },
  {
   "cell_type": "code",
   "execution_count": 37,
   "id": "1af4d9aa-a75a-4b11-83dd-900b9dc861be",
   "metadata": {},
   "outputs": [
    {
     "data": {
      "text/plain": [
       "array([[ 0.  , 24.48, 24.75, ...,  9.45,  0.72, 27.  ],\n",
       "       [ 0.  , 24.48, 24.75, ...,  9.45,  0.72, 27.  ],\n",
       "       [ 0.  , 24.48, 24.75, ...,  9.45,  0.72, 27.  ],\n",
       "       ...,\n",
       "       [ 0.  , 24.48, 24.75, ...,  9.45,  0.72, 27.  ],\n",
       "       [ 0.  , 24.48, 24.75, ...,  9.45,  0.72, 27.  ],\n",
       "       [ 0.  , 24.48, 24.75, ...,  9.45,  0.72, 27.  ]])"
      ]
     },
     "execution_count": 37,
     "metadata": {},
     "output_type": "execute_result"
    }
   ],
   "source": [
    "T_star[:, idx_t]\n"
   ]
  },
  {
   "cell_type": "code",
   "execution_count": 38,
   "id": "28e40ec5-7c58-4b1c-945b-4cd851c29b9e",
   "metadata": {},
   "outputs": [
    {
     "data": {
      "text/plain": [
       "array([[ 0.  , 24.48, 24.75, ...,  9.45,  0.72, 27.  ],\n",
       "       [ 0.  , 24.48, 24.75, ...,  9.45,  0.72, 27.  ],\n",
       "       [ 0.  , 24.48, 24.75, ...,  9.45,  0.72, 27.  ],\n",
       "       ...,\n",
       "       [ 0.  , 24.48, 24.75, ...,  9.45,  0.72, 27.  ],\n",
       "       [ 0.  , 24.48, 24.75, ...,  9.45,  0.72, 27.  ],\n",
       "       [ 0.  , 24.48, 24.75, ...,  9.45,  0.72, 27.  ]])"
      ]
     },
     "execution_count": 38,
     "metadata": {},
     "output_type": "execute_result"
    }
   ],
   "source": [
    "T_star[:, idx_t][idx_x,:]\n"
   ]
  },
  {
   "cell_type": "code",
   "execution_count": null,
   "id": "1f649f8e-d869-4c9b-9c6a-1200cb53e1de",
   "metadata": {},
   "outputs": [],
   "source": []
  }
 ],
 "metadata": {
  "kernelspec": {
   "display_name": "torch2stable",
   "language": "python",
   "name": "torch2stable"
  },
  "language_info": {
   "codemirror_mode": {
    "name": "ipython",
    "version": 3
   },
   "file_extension": ".py",
   "mimetype": "text/x-python",
   "name": "python",
   "nbconvert_exporter": "python",
   "pygments_lexer": "ipython3",
   "version": "3.9.17"
  }
 },
 "nbformat": 4,
 "nbformat_minor": 5
}
